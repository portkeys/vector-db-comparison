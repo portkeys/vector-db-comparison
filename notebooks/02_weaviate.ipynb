{
 "cells": [
  {
   "cell_type": "markdown",
   "metadata": {},
   "source": [
    "# Weaviate Vector Database Demo\n",
    "\n",
    "This notebook demonstrates using **Weaviate** with 100 sample articles.\n",
    "\n",
    "## Weaviate Key Features\n",
    "- **GraphQL API** - Query with GraphQL syntax\n",
    "- **Hybrid Search** - Combine vector + BM25 keyword search\n",
    "- **Flexible Schema** - Supports lists, dates, and complex types\n",
    "- **Free Tier** - 14-day sandbox or self-hosted\n",
    "- **Auto-schema** - Can infer schema from data"
   ]
  },
  {
   "metadata": {
    "ExecuteTime": {
     "end_time": "2025-10-21T17:14:49.027671Z",
     "start_time": "2025-10-21T17:14:48.939941Z"
    }
   },
   "cell_type": "code",
   "source": [
    "# Reload\n",
    "%reload_ext autoreload\n",
    "%autoreload 2"
   ],
   "outputs": [],
   "execution_count": 1
  },
  {
   "cell_type": "markdown",
   "metadata": {},
   "source": [
    "## 1. Setup and Imports"
   ]
  },
  {
   "cell_type": "code",
   "metadata": {
    "ExecuteTime": {
     "end_time": "2025-10-21T17:14:55.882546Z",
     "start_time": "2025-10-21T17:14:52.729714Z"
    }
   },
   "source": [
    "import os\n",
    "import sys\n",
    "from pathlib import Path\n",
    "import time\n",
    "\n",
    "# Add parent directory to path\n",
    "parent_dir = Path().resolve().parent\n",
    "sys.path.insert(0, str(parent_dir))\n",
    "\n",
    "# Load environment variables\n",
    "from dotenv import load_dotenv\n",
    "load_dotenv()\n",
    "\n",
    "# Import utilities\n",
    "from utils.embeddings import EmbeddingGenerator\n",
    "from utils.data_loader import load_articles, get_article_metadata\n",
    "\n",
    "print(\"✓ All imports successful\")"
   ],
   "outputs": [
    {
     "name": "stdout",
     "output_type": "stream",
     "text": [
      "✓ All imports successful\n"
     ]
    }
   ],
   "execution_count": 2
  },
  {
   "cell_type": "markdown",
   "metadata": {},
   "source": [
    "## 2. Load Embedding Model\n",
    "\n",
    "Using `sentence-transformers/all-MiniLM-L6-v2` (384 dimensions)"
   ]
  },
  {
   "cell_type": "code",
   "metadata": {
    "ExecuteTime": {
     "end_time": "2025-10-21T17:15:01.973678Z",
     "start_time": "2025-10-21T17:15:00.589648Z"
    }
   },
   "source": [
    "# Initialize embedding model\n",
    "embedding_model = EmbeddingGenerator()\n",
    "\n",
    "# Test the model\n",
    "test_text = \"This is a test sentence for embedding generation.\"\n",
    "test_embedding = embedding_model.embed_text(test_text)\n",
    "\n",
    "print(f\"  - Embedding dimension: {len(test_embedding)}\")\n",
    "print(f\"  - Sample values: {test_embedding[:5]}\")"
   ],
   "outputs": [
    {
     "name": "stdout",
     "output_type": "stream",
     "text": [
      "Loading embedding model: sentence-transformers/all-MiniLM-L6-v2\n",
      "✓ Model loaded successfully. Embedding dimension: 384\n",
      "  - Embedding dimension: 384\n",
      "  - Sample values: [0.00306019 0.00200206 0.05544939 0.07702641 0.00857853]\n"
     ]
    }
   ],
   "execution_count": 3
  },
  {
   "cell_type": "markdown",
   "metadata": {},
   "source": [
    "## 3. Load Sample Articles"
   ]
  },
  {
   "cell_type": "code",
   "metadata": {
    "ExecuteTime": {
     "end_time": "2025-10-21T17:15:05.392475Z",
     "start_time": "2025-10-21T17:15:05.356240Z"
    }
   },
   "source": [
    "import json\n",
    "\n",
    "# Load articles\n",
    "articles = load_articles(\"../sample_articles.json\")\n",
    "\n",
    "print(f\"\\nLoaded {len(articles)} articles\")\n",
    "\n",
    "# preview the first article\n",
    "print(\"\\nSample article:\")\n",
    "print(json.dumps(articles[0], indent=2))"
   ],
   "outputs": [
    {
     "name": "stdout",
     "output_type": "stream",
     "text": [
      "Loaded 100 articles from ../sample_articles.json\n",
      "\n",
      "Loaded 100 articles\n",
      "\n",
      "Sample article:\n",
      "{\n",
      "  \"id\": 1212,\n",
      "  \"item_source\": \"MY_GRAND_CANYON\",\n",
      "  \"item_title\": \"Make This Your First Stop Grand Canyon Stop\",\n",
      "  \"item_subtitle\": \"Lunch, souvenirs, tour info and an immersive big screen experience.\",\n",
      "  \"body_content\": \"Nothing can properly prepare you for the heart-pumping magnificence of the Grand Canyon\\u2014except maybe a visit to the Grand Canyon Visitor Center and IMAX in Tusayan (Too-Say-Ann), located just 1.5 miles from the South Entrance to the national park. This is where your journey into one of the world\\u2019s most awe-inspiring landscapes begins.\\nSee the IMAX movie &#8220;The Grand Canyon: Rivers of Time&#8221; (Photo courtesy Grand Canyon Visitors Center/IMAX)\\nOn the giant, six-story IMAX screen, catch the movie Grand Canyon: Rivers of Time, which won a 2023 award for best visual effects from the Giant Screen Cinema Association. In 37 breathtaking minutes, you\\u2019ll be transported across 1.7 billion years of history, geology and culture. Towering cliffs, roaring rapids and stories of the people who have called this canyon home come alive before your eyes\\u2014no backpack required.\\nIMAX film at the National Geographic Visitor Center in Tusayan (Photo courtesy Grand Canyon Visitor Center/IMAX)\\nBeyond the big screen, the visitor center is your launchpad for embarking on the ultimate adventure. While you watch the movie, you can charge your electric vehicle in the lot. Stop by the Explorer\\u2019s Caf\\u00e9 for sandwiches, pizza or snacks to fuel your day, and consider grabbing food to-go for a picnic inside the park. At the on-site adventure store, browse books, maps and souvenirs that double as mementos of your trip. You can even purchase your park entrance tickets here and skip the wait at the gate. Knowledgeable local staff are always on hand to answer your burning park questions and help tailor your Grand Canyon itinerary.\\nWant to go deeper into the park? From the visitor center, book a Pink Jeep Tour to go off-roading and reach some of the most dramatic viewpoints. Or, if you\\u2019re wanting a different experience, pick up information on air tours, Colorado River rafting excursions and horseback riding.\\nTip: Save up to 20% when you buy IMAX tickets online at ExploreTheCanyon.com.\\nFor More Information:\\nGrand Canyon Visitor Center IMAX\\n450 State Route 64\\nGrand Canyon, AZ 86023\\n(928) 638-2468\\nExploreTheCanyon.com\",\n",
      "  \"category_name\": \"Attractions\",\n",
      "  \"denormalized_tags\": [\n",
      "    \"evergreen\"\n",
      "  ],\n",
      "  \"evergreen\": true,\n",
      "  \"item_url\": \"https://www.mygrandcanyonpark.com/things-to-do/attractions/grand-canyon-visitor-center-tusayan/\",\n",
      "  \"item_created_at\": \"2025-10-16 14:09:00.000000 +00:00\"\n",
      "}\n"
     ]
    }
   ],
   "execution_count": 4
  },
  {
   "cell_type": "markdown",
   "metadata": {},
   "source": [
    "## 4. Connect to Weaviate\n",
    "\n",
    "Using Weaviate Cloud Services (WCS) or local instance"
   ]
  },
  {
   "cell_type": "code",
   "metadata": {
    "ExecuteTime": {
     "end_time": "2025-10-21T17:42:26.028603Z",
     "start_time": "2025-10-21T17:42:25.642459Z"
    }
   },
   "source": [
    "import weaviate\n",
    "from weaviate.classes.init import Auth\n",
    "from weaviate.classes.config import Configure, VectorDistances, Property, DataType\n",
    "from weaviate.classes.query import MetadataQuery\n",
    "\n",
    "\n",
    "WEAVIATE_URL = os.getenv(\"WEAVIATE_URL\")\n",
    "WEAVIATE_API_KEY = os.getenv(\"WEAVIATE_API_KEY\")\n",
    "\n",
    "# Connect to Weaviate\n",
    "client = weaviate.connect_to_weaviate_cloud(\n",
    "    cluster_url=WEAVIATE_URL,\n",
    "    auth_credentials=Auth.api_key(WEAVIATE_API_KEY)\n",
    ")\n",
    "\n",
    "print(client.is_ready())\n",
    "#client.close()"
   ],
   "outputs": [
    {
     "name": "stdout",
     "output_type": "stream",
     "text": [
      "True\n"
     ]
    }
   ],
   "execution_count": 10
  },
  {
   "cell_type": "markdown",
   "metadata": {},
   "source": "## 5. Create or Get Collection (Class)\n\nWeaviate uses \"classes\" (similar to collections). We'll define a schema with proper types.\n\n**Note on Weaviate's DATE type:**  \nWeaviate's `DATE` datatype supports full RFC 3339 datetime with timezone (e.g., `\"2025-10-16T14:09:00Z\"`), not just dates. This is similar to Qdrant's native datetime support."
  },
  {
   "cell_type": "code",
   "metadata": {
    "ExecuteTime": {
     "end_time": "2025-10-21T17:42:35.698603Z",
     "start_time": "2025-10-21T17:42:35.410305Z"
    }
   },
   "source": [
    "COLLECTION_NAME = \"Article\"\n",
    "\n",
    "# Check if collection exists\n",
    "try:\n",
    "    if client.collections.exists(COLLECTION_NAME):\n",
    "        print(f\"Collection '{COLLECTION_NAME}' already exists\")\n",
    "        \n",
    "        # Get existing collection\n",
    "        articles_collection = client.collections.get(COLLECTION_NAME)\n",
    "        \n",
    "        # Get count\n",
    "        response = articles_collection.aggregate.over_all(total_count=True)\n",
    "        count = response.total_count if response.total_count else 0\n",
    "        \n",
    "        print(f\"✓ Using existing collection: {COLLECTION_NAME}\")\n",
    "        print(f\"  - Current count: {count} articles\")\n",
    "        \n",
    "        # Ask user if they want to delete and recreate\n",
    "        recreate = input(\"\\nDo you want to delete and recreate? (y/n): \").lower().strip()\n",
    "        if recreate == 'y':\n",
    "            client.collections.delete(COLLECTION_NAME)\n",
    "            print(f\"✓ Deleted collection: {COLLECTION_NAME}\")\n",
    "            raise Exception(\"Recreate collection\")\n",
    "    else:\n",
    "        raise Exception(\"Collection does not exist\")\n",
    "        \n",
    "except Exception as e:\n",
    "    # Create new collection with schema\n",
    "    articles_collection = client.collections.create(\n",
    "        name=COLLECTION_NAME,\n",
    "        description=\"Outside articles with embeddings\",\n",
    "        vectorizer_config=None,  # We'll provide our own vectors\n",
    "        properties=[\n",
    "            Property(\n",
    "                name=\"article_id\",\n",
    "                data_type=DataType.INT,\n",
    "                description=\"Unique article identifier\"\n",
    "            ),\n",
    "            Property(\n",
    "                name=\"title\",\n",
    "                data_type=DataType.TEXT,\n",
    "                description=\"Article title\",\n",
    "                index_searchable=True  # Enable BM25 search on title\n",
    "            ),\n",
    "            Property(\n",
    "                name=\"subtitle\",\n",
    "                data_type=DataType.TEXT,\n",
    "                description=\"Article subtitle\",\n",
    "                index_searchable=True  # Enable BM25 search on subtitle\n",
    "            ),\n",
    "            Property(\n",
    "                name=\"body_content\",\n",
    "                data_type=DataType.TEXT,\n",
    "                description=\"Full article content\",\n",
    "                index_searchable=True  # Enable BM25 search on content\n",
    "            ),\n",
    "            Property(\n",
    "                name=\"source\",\n",
    "                data_type=DataType.TEXT,\n",
    "                description=\"Article source\",\n",
    "                index_filterable=True  # Enable filtering on source\n",
    "            ),\n",
    "            Property(\n",
    "                name=\"category\",\n",
    "                data_type=DataType.TEXT,\n",
    "                description=\"Article category\",\n",
    "                index_filterable=True  # Enable exact match filtering\n",
    "            ),\n",
    "            Property(\n",
    "                name=\"tags\",\n",
    "                data_type=DataType.TEXT_ARRAY,  # Weaviate supports arrays!\n",
    "                description=\"Article tags\",\n",
    "                index_filterable=True  # Enable filtering on tags array\n",
    "            ),\n",
    "            Property(\n",
    "                name=\"evergreen\",\n",
    "                data_type=DataType.BOOL,\n",
    "                description=\"Whether article is evergreen content\",\n",
    "                index_filterable=True  # Enable boolean filtering\n",
    "            ),\n",
    "            Property(\n",
    "                name=\"url\",\n",
    "                data_type=DataType.TEXT,\n",
    "                description=\"Article URL\"\n",
    "            ),\n",
    "            Property(\n",
    "                name=\"created_at\",\n",
    "                data_type=DataType.DATE,  # Weaviate supports native datetime (RFC 3339)\n",
    "                description=\"Article creation timestamp\",\n",
    "                index_range_filterable=True  # Enable range filtering (>=, <=, etc.)\n",
    "            ),\n",
    "        ],\n",
    "        # Configure vector index\n",
    "        vector_index_config=Configure.VectorIndex.hnsw(\n",
    "            distance_metric=VectorDistances.COSINE\n",
    "        )\n",
    "    )\n",
    "    \n",
    "    print(f\"✓ Created new collection: {COLLECTION_NAME}\")\n",
    "    print(f\"  - Vector dimensions: 384\")\n",
    "    print(f\"  - Distance metric: cosine\")\n",
    "    print(f\"  - Schema: 10 properties (including text arrays and datetime)\")\n",
    "    print(f\"  - Indexed fields: category, source, tags (filterable), created_at (range filterable)\")"
   ],
   "outputs": [
    {
     "name": "stdout",
     "output_type": "stream",
     "text": [
      "✓ Created new collection: Article\n",
      "  - Vector dimensions: 384\n",
      "  - Distance metric: cosine\n",
      "  - Schema: 10 properties (including text arrays and datetime)\n",
      "  - Indexed fields: category, source, tags (filterable), created_at (range filterable)\n"
     ]
    }
   ],
   "execution_count": 11
  },
  {
   "cell_type": "markdown",
   "metadata": {},
   "source": "## 6. Generate Embeddings and Insert Data\n\nProcess articles in batches, matching the approach used in Chroma notebook"
  },
  {
   "cell_type": "code",
   "metadata": {
    "ExecuteTime": {
     "end_time": "2025-10-21T17:49:52.532609Z",
     "start_time": "2025-10-21T17:49:50.388812Z"
    }
   },
   "source": [
    "from tqdm.auto import tqdm\n",
    "\n",
    "# Check current count\n",
    "response = articles_collection.aggregate.over_all(total_count=True)\n",
    "current_count = response.total_count if response.total_count else 0\n",
    "\n",
    "\n",
    "# Process in batches - same approach as other notebooks\n",
    "BATCH_SIZE = 20\n",
    "total_articles = len(articles)\n",
    "\n",
    "print(f\"Processing {total_articles} articles in batches of {BATCH_SIZE}...\\n\")\n",
    "\n",
    "start_time = time.time()\n",
    "\n",
    "for i in tqdm(range(0, total_articles, BATCH_SIZE), desc=\"Inserting batches\"):\n",
    "    batch = articles[i:i + BATCH_SIZE]\n",
    "\n",
    "    # Generate embeddings for batch - same as other notebooks\n",
    "    texts = [\n",
    "        f\"Title: {a['item_title']}\\nSubtitle: {a.get('item_subtitle', '')}\\nContent: {a['body_content'][:500]}\"\n",
    "        for a in batch\n",
    "    ]\n",
    "    embeddings = embedding_model.embed_batch(texts, show_progress=False)\n",
    "\n",
    "    # Prepare data for Weaviate\n",
    "    with articles_collection.batch.dynamic() as batch_insert:\n",
    "        for article, embedding in zip(batch, embeddings):\n",
    "            # Get metadata - use \"weaviate\" to get native datetime\n",
    "            metadata = get_article_metadata(article, db_type=\"weaviate\")\n",
    "\n",
    "            # Prepare properties for Weaviate\n",
    "            properties = {\n",
    "                \"article_id\": metadata[\"id\"],\n",
    "                \"title\": metadata[\"title\"],\n",
    "                \"subtitle\": metadata[\"subtitle\"],\n",
    "                \"body_content\": article.get(\"body_content\", \"\"),\n",
    "                \"source\": metadata[\"source\"],\n",
    "                \"category\": metadata[\"category\"],\n",
    "                \"tags\": metadata[\"tags\"],  # Keep as list - Weaviate supports it!\n",
    "                \"evergreen\": metadata[\"evergreen\"],\n",
    "                \"url\": metadata[\"url\"],\n",
    "                \"created_at\": metadata[\"created_at\"],  # Native datetime object\n",
    "            }\n",
    "\n",
    "            # Add object with vector\n",
    "            batch_insert.add_object(\n",
    "                properties=properties,\n",
    "                vector=embedding.tolist()\n",
    "            )\n",
    "\n",
    "elapsed_time = time.time() - start_time\n",
    "\n",
    "# Verify count\n",
    "response = articles_collection.aggregate.over_all(total_count=True)\n",
    "final_count = response.total_count if response.total_count else 0\n",
    "\n",
    "print(f\"\\n✓ Successfully inserted {total_articles} articles\")\n",
    "print(f\"  - Time taken: {elapsed_time:.2f} seconds\")\n",
    "print(f\"  - Average: {elapsed_time/total_articles:.2f} seconds per article\")\n",
    "print(f\"  - Collection count: {final_count}\")"
   ],
   "outputs": [
    {
     "name": "stdout",
     "output_type": "stream",
     "text": [
      "Processing 100 articles in batches of 20...\n",
      "\n"
     ]
    },
    {
     "data": {
      "text/plain": [
       "Inserting batches:   0%|          | 0/5 [00:00<?, ?it/s]"
      ],
      "application/vnd.jupyter.widget-view+json": {
       "version_major": 2,
       "version_minor": 0,
       "model_id": "2b63e69c1c5047bcba48f1b5bbb6b44d"
      }
     },
     "metadata": {},
     "output_type": "display_data"
    },
    {
     "name": "stdout",
     "output_type": "stream",
     "text": [
      "\n",
      "✓ Successfully inserted 100 articles\n",
      "  - Time taken: 1.80 seconds\n",
      "  - Average: 0.02 seconds per article\n",
      "  - Collection count: 100\n"
     ]
    }
   ],
   "execution_count": 12
  },
  {
   "cell_type": "markdown",
   "metadata": {},
   "source": "## 7. Semantic Search - Basic Query"
  },
  {
   "cell_type": "code",
   "metadata": {
    "ExecuteTime": {
     "end_time": "2025-10-21T17:58:39.959134Z",
     "start_time": "2025-10-21T17:58:39.868676Z"
    }
   },
   "source": [
    "# Test query\n",
    "query_text = \"Most haunted hikes in the US\"\n",
    "\n",
    "print(f\"Query: '{query_text}'\\n\")\n",
    "\n",
    "# Generate query embedding\n",
    "query_embedding = embedding_model.embed_text(query_text)\n",
    "\n",
    "# Search with vector\n",
    "response = articles_collection.query.near_vector(\n",
    "    near_vector=query_embedding.tolist(),\n",
    "    limit=5,\n",
    "    return_metadata=MetadataQuery(distance=True)\n",
    ")\n",
    "\n",
    "print(f\"Top {len(response.objects)} results:\\n\")\n",
    "for i, obj in enumerate(response.objects):\n",
    "    props = obj.properties\n",
    "    distance = obj.metadata.distance if obj.metadata.distance else 0.0\n",
    "    \n",
    "    print(f\"{i+1}. {props['title'][:70]}...\")\n",
    "    print(f\"   Category: {props['category']} | Source: {props['source']}\")\n",
    "    print(f\"   Distance: {distance:.4f}\")"
   ],
   "outputs": [
    {
     "name": "stdout",
     "output_type": "stream",
     "text": [
      "Query: 'Most haunted hikes in the US'\n",
      "\n",
      "Top 5 results:\n",
      "\n",
      "1. 13 of the Most Haunted Hikes in the U.S....\n",
      "   Category: Destinations | Source: OUTSIDE\n",
      "   Distance: 0.1942\n",
      "2. A Missing Dog Helped a Stranded Hiker Return to Shadow Mountain Trail....\n",
      "   Category: Hiking | Source: OUTSIDE\n",
      "   Distance: 0.5422\n",
      "3. An Inside Look at Outside’s 2025 Winter Editors’ Choice Testing Trip...\n",
      "   Category: Gear | Source: OUTSIDE\n",
      "   Distance: 0.6340\n",
      "4. Two Hikers in British Columbia Were Hospitalized After a Grizzly Sow A...\n",
      "   Category: Hiking | Source: OUTSIDE\n",
      "   Distance: 0.6636\n",
      "5. Why Does Washington Have So Many Climbing Accidents? A Mountain Rescue...\n",
      "   Category: Skills | Source: CLIMBING\n",
      "   Distance: 0.6637\n"
     ]
    }
   ],
   "execution_count": 14
  },
  {
   "cell_type": "markdown",
   "metadata": {},
   "source": [
    "## 8. Metadata Filtering - Category\n",
    "\n",
    "Filter by category field"
   ]
  },
  {
   "cell_type": "code",
   "metadata": {
    "ExecuteTime": {
     "end_time": "2025-10-21T18:00:27.408416Z",
     "start_time": "2025-10-21T18:00:27.127064Z"
    }
   },
   "source": [
    "from weaviate.classes.query import Filter\n",
    "\n",
    "query_text = \"Women's Ironman World Championship\"\n",
    "target_category = \"News\"\n",
    "\n",
    "print(f\"Query: '{query_text}'\")\n",
    "print(f\"Filter: category = '{target_category}'\\n\")\n",
    "\n",
    "query_embedding = embedding_model.embed_text(query_text)\n",
    "\n",
    "# Search with category filter\n",
    "response = articles_collection.query.near_vector(\n",
    "    near_vector=query_embedding.tolist(),\n",
    "    limit=5,\n",
    "    filters=Filter.by_property(\"category\").equal(target_category),\n",
    "    return_metadata=MetadataQuery(distance=True)\n",
    ")\n",
    "\n",
    "print(f\"Top 5 Results (Category: {target_category}):\\n\")\n",
    "for i, obj in enumerate(response.objects):\n",
    "    props = obj.properties\n",
    "    distance = obj.metadata.distance if obj.metadata.distance else 0.0\n",
    "    \n",
    "    print(f\"{i+1}. {props['title'][:70]}...\")\n",
    "    print(f\"   Category: {props['category']} | Source: {props['source']}\")\n",
    "    print(f\"   Distance: {distance:.4f}\")"
   ],
   "outputs": [
    {
     "name": "stdout",
     "output_type": "stream",
     "text": [
      "Query: 'Women's Ironman World Championship'\n",
      "Filter: category = 'News'\n",
      "\n",
      "Top 5 Results (Category: News):\n",
      "\n",
      "1. After Joy of Women's-Only Ironman World Championship, Grief Sets In...\n",
      "   Category: News | Source: TRIATHLETE\n",
      "   Distance: 0.2230\n",
      "2. What a Race! Here's Where the Ironman Pro Series Stands After the Iron...\n",
      "   Category: News | Source: TRIATHLETE\n",
      "   Distance: 0.3536\n",
      "3. The Fastest Shoes at 2025 Ironman World Championship Kona...\n",
      "   Category: News | Source: TRIATHLETE\n",
      "   Distance: 0.3818\n",
      "4. The DNF Files: 2025 Ironman World Championship Kona...\n",
      "   Category: News | Source: TRIATHLETE\n",
      "   Distance: 0.4083\n",
      "5. In Sweltering Conditions, Norway’s Solveig Løvseth Takes 2025 Ironman ...\n",
      "   Category: News | Source: TRIATHLETE\n",
      "   Distance: 0.4381\n"
     ]
    }
   ],
   "execution_count": 15
  },
  {
   "cell_type": "markdown",
   "metadata": {},
   "source": [
    "## 9. Metadata Filtering - Date Range\n",
    "\n",
    "Weaviate supports native date comparisons!"
   ]
  },
  {
   "cell_type": "code",
   "metadata": {
    "ExecuteTime": {
     "end_time": "2025-10-21T18:10:02.986953Z",
     "start_time": "2025-10-21T18:10:02.902529Z"
    }
   },
   "source": [
    "from datetime import datetime, timezone\n",
    "query_text = \"cycling deals\"\n",
    "# Set the timezone for avoidance of doubt (otherwise the client will emit a warning)\n",
    "cutoff_dt = datetime(2025, 10, 8).replace(tzinfo=timezone.utc)\n",
    "\n",
    "print(f\"Query: '{query_text}'\")\n",
    "print(f\"Filter: created_at >= {cutoff_dt}\\n\")\n",
    "\n",
    "query_embedding = embedding_model.embed_text(query_text)\n",
    "\n",
    "\n",
    "# Search with date filter using native date comparison\n",
    "response = articles_collection.query.near_vector(\n",
    "    near_vector=query_embedding.tolist(),\n",
    "    limit=5,\n",
    "    filters=Filter.by_property(\"created_at\").greater_or_equal(cutoff_dt),\n",
    "    return_metadata=MetadataQuery(distance=True)\n",
    ")\n",
    "\n",
    "print(f\"Found {len(response.objects)} results created after {cutoff_dt}:\\n\")\n",
    "for i, obj in enumerate(response.objects):\n",
    "    props = obj.properties\n",
    "    distance = obj.metadata.distance if obj.metadata.distance else 0.0\n",
    "    created = props['created_at']\n",
    "    \n",
    "    print(f\"{i+1}. {props['title'][:70]}...\")\n",
    "    print(f\"   Category: {props['category']} | Created: {created}\")\n",
    "    print(f\"   Distance: {distance:.4f}\")"
   ],
   "outputs": [
    {
     "name": "stdout",
     "output_type": "stream",
     "text": [
      "Query: 'cycling deals'\n",
      "Filter: created_at >= 2025-10-08 00:00:00+00:00\n",
      "\n",
      "Found 5 results created after 2025-10-08 00:00:00+00:00:\n",
      "\n",
      "1. Opinion: Cycling's Soccer-Inspired Relegation System Is a Hot Mess Tha...\n",
      "   Category: Road Racing | Created: 2025-10-16 05:42:10+00:00\n",
      "   Distance: 0.4996\n",
      "2. Deal: Tailwind Endurance Fuel Is the Cycling Nutrition I Actually Use...\n",
      "   Category: Road Gear | Created: 2025-10-13 11:30:52+00:00\n",
      "   Distance: 0.5120\n",
      "3. Pogačar's Bonuses and Brand Deals Revealed: Inside His $14 Million Pay...\n",
      "   Category: Road Racing | Created: 2025-10-14 03:39:12+00:00\n",
      "   Distance: 0.5273\n",
      "4. Shop Evo's Anniversary Sale and Save up to 50% on Ski, Snowboard, and ...\n",
      "   Category: Gear News | Created: 2025-10-14 10:53:27+00:00\n",
      "   Distance: 0.5604\n",
      "5. Deal: One of the Best Headphones for Cycling Is 50% Off...\n",
      "   Category: Road Gear | Created: 2025-10-15 12:12:34+00:00\n",
      "   Distance: 0.5671\n"
     ]
    }
   ],
   "execution_count": 18
  },
  {
   "cell_type": "markdown",
   "metadata": {},
   "source": [
    "## 10. Combined Filters - Evergreen + Date\n",
    "\n",
    "Combine multiple filters with AND logic"
   ]
  },
  {
   "cell_type": "code",
   "metadata": {
    "ExecuteTime": {
     "end_time": "2025-10-21T18:17:42.150606Z",
     "start_time": "2025-10-21T18:17:42.052784Z"
    }
   },
   "source": [
    "query_text = \"Halloween outdoor activities\"\n",
    "cutoff_date = \"2025-10-09\"\n",
    "\n",
    "print(f\"Query: '{query_text}'\")\n",
    "print(f\"Filters:\")\n",
    "print(f\"  - evergreen = True (timeless content)\")\n",
    "print(f\"  - created_at >= '{cutoff_date}'\\n\")\n",
    "\n",
    "# Generate query embedding\n",
    "query_embedding = embedding_model.embed_text(query_text)\n",
    "\n",
    "# Parse date for filter\n",
    "cutoff_dt = datetime(2025, 10, 8).replace(tzinfo=timezone.utc)\n",
    "\n",
    "# Combine filters with AND\n",
    "combined_filter = Filter.all_of([\n",
    "    Filter.by_property(\"evergreen\").equal(True),\n",
    "    Filter.by_property(\"created_at\").greater_or_equal(cutoff_dt)\n",
    "])\n",
    "\n",
    "# Search with combined filters\n",
    "response = articles_collection.query.near_vector(\n",
    "    near_vector=query_embedding.tolist(),\n",
    "    limit=10,\n",
    "    filters=combined_filter,\n",
    "    return_metadata=MetadataQuery(distance=True)\n",
    ")\n",
    "\n",
    "if response.objects:\n",
    "    print(f\"Found {len(response.objects)} evergreen articles created after {cutoff_date}:\\n\")\n",
    "    for i, obj in enumerate(response.objects):\n",
    "        props = obj.properties\n",
    "        distance = obj.metadata.distance if obj.metadata.distance else 0.0\n",
    "        tags = props.get('tags', [])\n",
    "        created_at = props['created_at']\n",
    "\n",
    "        print(f\"{i+1}. {props['title'][:70]}...\")\n",
    "        print(f\"   Category: {props['category']} | Evergreen: {props['evergreen']}\")\n",
    "        print(f\"   Tags: {', '.join(tags) if tags else 'No tags'}\")\n",
    "        print(f\"   Distance: {distance:.4f}\")\n",
    "        print(f\"   Created at: {created_at}\")\n",
    "    print(f\"\\nTotal results: {len(response.objects)}\")\n",
    "else:\n",
    "    print(\"No evergreen articles found after this date.\")\n"
   ],
   "outputs": [
    {
     "name": "stdout",
     "output_type": "stream",
     "text": [
      "Query: 'Halloween outdoor activities'\n",
      "Filters:\n",
      "  - evergreen = True (timeless content)\n",
      "  - created_at >= '2025-10-09'\n",
      "\n",
      "Found 10 evergreen articles created after 2025-10-09:\n",
      "\n",
      "1. 13 of the Most Haunted Hikes in the U.S....\n",
      "   Category: Destinations | Evergreen: True\n",
      "   Tags: evergreen, Halloween, Hiking\n",
      "   Distance: 0.5509\n",
      "   Created at: 2025-10-16 11:22:41+00:00\n",
      "2. The Thule Outset Hitch-Mounted Tent Turns Your Car Into a Campsite on ...\n",
      "   Category: Camping | Evergreen: True\n",
      "   Tags: 2025 Gear Reviews, Car Camping, Car Racks, Commerce, evergreen\n",
      "   Distance: 0.7477\n",
      "   Created at: 2025-10-14 10:30:11+00:00\n",
      "3. The Best Daypacks for Every Kind of Hiker (2025)...\n",
      "   Category: Daypacks | Evergreen: True\n",
      "   Tags: 2025 Gear Reviews, 2025 Summer Gear Guide, backpack, Commerce, Day Packs\n",
      "   Distance: 0.7666\n",
      "   Created at: 2025-10-16 11:31:44+00:00\n",
      "4. Everything You Need To Know Before Skiing Telluride For The First Time...\n",
      "   Category: Resort Skiing | Evergreen: True\n",
      "   Tags: evergreen, Telluride Ski Resort\n",
      "   Distance: 0.8172\n",
      "   Created at: 2025-10-13 14:39:24+00:00\n",
      "5. He’s Hunted for Elk for 40 Years but Hasn’t Killed a Single One. And T...\n",
      "   Category: Environment | Evergreen: True\n",
      "   Tags: Adventure, Colorado, evergreen, Hunting, Long Reads\n",
      "   Distance: 0.8210\n",
      "   Created at: 2025-10-15 05:05:17+00:00\n",
      "6. Can I Bring Chalk in My Carry-on? What TSA Actually Allows (and What T...\n",
      "   Category: Travel | Evergreen: True\n",
      "   Tags: evergreen\n",
      "   Distance: 0.8370\n",
      "   Created at: 2025-10-14 08:00:38+00:00\n",
      "7. The Best Cross-Country Boots and Accessories of 2026...\n",
      "   Category: Snow Sports | Evergreen: True\n",
      "   Tags: 2025 Gear Reviews, 2026 Winter Gear Guide, Commerce, Cross-Country Ski Boots, evergreen\n",
      "   Distance: 0.8455\n",
      "   Created at: 2025-10-14 10:00:47+00:00\n",
      "8. Tusayan is Your Launchpad to Grand Adventures...\n",
      "   Category: Gateway Towns | Evergreen: True\n",
      "   Tags: evergreen\n",
      "   Distance: 0.8470\n",
      "   Created at: 2025-10-14 12:40:31+00:00\n",
      "9. Prone to Falling on Trail? These Exercises Will Help Prevent Injury....\n",
      "   Category: Backpacking Fitness | Evergreen: True\n",
      "   Tags: evergreen\n",
      "   Distance: 0.8679\n",
      "   Created at: 2025-10-15 11:19:09+00:00\n",
      "10. Pumpkin Is an Anti-Inflammatory Superfood—Here’s Why You Should Eat Mo...\n",
      "   Category: Nutrition | Evergreen: True\n",
      "   Tags: evergreen, Food, Inflammation, Nutrition\n",
      "   Distance: 0.8804\n",
      "   Created at: 2025-10-16 01:29:46+00:00\n",
      "\n",
      "Total results: 10\n"
     ]
    }
   ],
   "execution_count": 21
  },
  {
   "cell_type": "markdown",
   "metadata": {},
   "source": [
    "## 11. Hybrid Search (Vector + BM25)\n",
    "\n",
    "**Weaviate's unique feature**: Combine semantic vector search with keyword BM25 search"
   ]
  },
  {
   "cell_type": "code",
   "metadata": {
    "ExecuteTime": {
     "end_time": "2025-10-21T18:19:12.655212Z",
     "start_time": "2025-10-21T18:19:12.445658Z"
    }
   },
   "source": [
    "from weaviate.classes.query import HybridFusion\n",
    "\n",
    "query_text = \"Grand Canyon hiking\"\n",
    "print(f\"Hybrid Query: '{query_text}'\")\n",
    "print(f\"Combining: Vector search (semantic) + BM25 search (keyword)\\n\")\n",
    "\n",
    "query_embedding = embedding_model.embed_text(query_text)\n",
    "\n",
    "# Hybrid search: combines vector similarity + keyword matching\n",
    "response = articles_collection.query.hybrid(\n",
    "    query=query_text,  # Used for BM25 keyword search\n",
    "    vector=query_embedding.tolist(),  # Used for vector search\n",
    "    alpha=0.5,  # Balance: 0=pure BM25, 1=pure vector, 0.5=balanced\n",
    "    fusion_type=HybridFusion.RANKED,  # Ranked fusion algorithm\n",
    "    limit=5,\n",
    "    return_metadata=MetadataQuery(score=True)\n",
    ")\n",
    "\n",
    "print(f\"Top {len(response.objects)} hybrid results (semantic + keyword):\\n\")\n",
    "for i, obj in enumerate(response.objects):\n",
    "    props = obj.properties\n",
    "    score = obj.metadata.score if obj.metadata.score else 0.0\n",
    "    \n",
    "    print(f\"{i+1}. {props['title'][:70]}...\")\n",
    "    print(f\"   Category: {props['category']} | Source: {props['source']}\")\n",
    "    print(f\"   Hybrid Score: {score:.4f}\")\n",
    "    print(f\"   Preview: {props['body_content'][:150]}...\")"
   ],
   "outputs": [
    {
     "name": "stdout",
     "output_type": "stream",
     "text": [
      "Hybrid Query: 'Grand Canyon hiking'\n",
      "Combining: Vector search (semantic) + BM25 search (keyword)\n",
      "\n",
      "Top 5 hybrid results (semantic + keyword):\n",
      "\n",
      "1. Make This Your First Stop Grand Canyon Stop...\n",
      "   Category: Attractions | Source: MY_GRAND_CANYON\n",
      "   Hybrid Score: 0.0165\n",
      "   Preview: Nothing can properly prepare you for the heart-pumping magnificence of the Grand Canyon—except maybe a visit to the Grand Canyon Visitor Center and IM...\n",
      "2. Tusayan is Your Launchpad to Grand Adventures...\n",
      "   Category: Gateway Towns | Source: MY_GRAND_CANYON\n",
      "   Hybrid Score: 0.0165\n",
      "   Preview: The town of Tusayan (pronounced Too-Say-An) is like the welcome committee for the Grand Canyon as the closest incorporated town to the South Rim; it i...\n",
      "3. She Became the First Woman to Complete This 3,600-Mile Thru-Hike—and B...\n",
      "   Category: Hiking | Source: OUTSIDE\n",
      "   Hybrid Score: 0.0156\n",
      "   Preview: Jessica “Stitches” Guo began her 30th birthday alone, in the woods, walking north towards the Canadian border.\n",
      "It was the same way she had spent the l...\n",
      "4. Here's How to Pick the Perfect Hiking Shoe for Rocky Mountain...\n",
      "   Category: FAQs | Source: MY_COLORADO_PARKS\n",
      "   Hybrid Score: 0.0155\n",
      "   Preview: Nothing ruins a bucket list trip quite like blisters or a sprain. Before you trek into Rocky Mountain National Park, get your footwear sorted with the...\n",
      "5. A Missing Dog Helped a Stranded Hiker Return to Shadow Mountain Trail....\n",
      "   Category: Hiking | Source: OUTSIDE\n",
      "   Hybrid Score: 0.0154\n",
      "   Preview: An Arizona hiker was unable to descend the Shadow Mountain Trail in Phoenix after the sun went down. On the way, he found a missing dog. And together,...\n"
     ]
    }
   ],
   "execution_count": 22
  },
  {
   "cell_type": "markdown",
   "metadata": {},
   "source": "## 12. Performance Summary"
  },
  {
   "cell_type": "code",
   "metadata": {
    "ExecuteTime": {
     "end_time": "2025-10-21T18:22:06.393161Z",
     "start_time": "2025-10-21T18:22:05.631392Z"
    }
   },
   "source": "from utils.benchmark import benchmark_queries\n\n# Define query function for Weaviate\ndef weaviate_query_fn(query_text: str):\n    \"\"\"Query function for Weaviate benchmarking.\"\"\"\n    query_embedding = embedding_model.embed_text(query_text)\n    return articles_collection.query.near_vector(\n        near_vector=query_embedding.tolist(),\n        limit=10\n    )\n\n# Run standardized benchmark\nresults = benchmark_queries(weaviate_query_fn)\n\n# Additional benchmarks for Weaviate-specific features\nprint(\"\\n\" + \"=\"*50)\nprint(\"Weaviate-Specific Performance:\")\nprint(\"=\"*50 + \"\\n\")\n\n# Hybrid search benchmark\ntest_query = \"outdoor camping gear\"\nquery_embedding = embedding_model.embed_text(test_query)\n\ntimes = []\nfor _ in range(5):\n    start = time.time()\n    response = articles_collection.query.hybrid(\n        query=test_query,\n        vector=query_embedding.tolist(),\n        alpha=0.5,\n        limit=10\n    )\n    times.append(time.time() - start)\navg_time = sum(times) / len(times)\nprint(f\"Hybrid Search (Vector + BM25): {avg_time*1000:.1f}ms\")\n\n# Get collection stats\nresponse = articles_collection.aggregate.over_all(total_count=True)\ntotal_count = response.total_count if response.total_count else 0\n\nprint(f\"\\nCollection Statistics:\")\nprint(f\"  - Total articles: {total_count}\")\nprint(f\"  - Vector dimensions: 384\")\nprint(f\"  - Distance metric: cosine\")",
   "outputs": [
    {
     "name": "stdout",
     "output_type": "stream",
     "text": [
      "Running performance benchmark...\n",
      "\n",
      "'outdoor hiking adventures' -> 61.5ms\n",
      "'cycling race performance' -> 48.0ms\n",
      "'travel destinations and tips' -> 45.2ms\n",
      "'fitness training techniques' -> 55.5ms\n",
      "'gear reviews and recommendations' -> 48.7ms\n",
      "\n",
      "Performance Summary:\n",
      "  - Average query time: 51.7ms\n",
      "  - Min query time: 45.2ms\n",
      "  - Max query time: 61.5ms\n",
      "\n",
      "==================================================\n",
      "Weaviate-Specific Performance:\n",
      "==================================================\n",
      "\n",
      "Hybrid Search (Vector + BM25): 44.0ms\n",
      "\n",
      "Collection Statistics:\n",
      "  - Total articles: 100\n",
      "  - Vector dimensions: 384\n",
      "  - Distance metric: cosine\n"
     ]
    }
   ],
   "execution_count": 23
  },
  {
   "cell_type": "markdown",
   "metadata": {},
   "source": [
    "## 14. Cleanup (Optional)"
   ]
  },
  {
   "cell_type": "code",
   "metadata": {
    "ExecuteTime": {
     "end_time": "2025-10-21T18:22:18.500282Z",
     "start_time": "2025-10-21T18:22:18.462874Z"
    }
   },
   "source": [
    "# Close connection\n",
    "client.close()\n",
    "print(\"✓ Disconnected from Weaviate\")"
   ],
   "outputs": [
    {
     "name": "stdout",
     "output_type": "stream",
     "text": [
      "✓ Disconnected from Weaviate\n"
     ]
    }
   ],
   "execution_count": 24
  },
  {
   "cell_type": "markdown",
   "metadata": {},
   "source": "## Key Takeaways - Weaviate\n\n### ✅ Strengths\n1. **GraphQL API** - Powerful, flexible query language\n2. **Hybrid Search** - Unique combination of vector + BM25 keyword search\n3. **Rich Schema Support** - Native datetime (RFC 3339), arrays, complex types\n4. **Flexible Filtering** - Easy to combine multiple filters with AND/OR logic\n5. **Index Configuration** - Granular control over searchable, filterable, and range-filterable fields\n6. **Good Performance** - Fast queries even with complex filters\n7. **BM25 Integration** - Built-in keyword search alongside semantic search\n\n### ⚠️ Considerations\n1. **Free Tier Limited** - 14-day sandbox, then requires self-hosting or paid plan\n2. **Schema Required** - Must define schema upfront (though can be auto-generated)\n3. **Learning Curve** - GraphQL and schema concepts to learn\n4. **Client Complexity** - More complex than schema-less alternatives\n5. **Index Planning** - Must declare `index_filterable` and `index_range_filterable` upfront\n\n### 🎯 Best For\n- **Hybrid search needs** - When you want both semantic and keyword matching\n- **Complex schemas** - Rich metadata with datetime, arrays, relationships\n- **GraphQL users** - If you're familiar with GraphQL\n- **Enterprise applications** - Production-grade features and performance\n\n### 📊 Comparison Notes\n- **vs Chroma**: More features (hybrid search, GraphQL) but more complex\n- **vs Qdrant**: Similar flexibility and native datetime support, but different query paradigm (GraphQL vs REST)\n- **vs Pinecone**: More flexible schema, hybrid search, native datetime, but free tier time-limited\n- **vs Milvus**: Easier to use, better for smaller-medium scale\n\n### 💡 Unique Weaviate Features\n1. **Hybrid Search** - Seamless vector + BM25 keyword search combination\n2. **GraphQL API** - Query using GraphQL syntax\n3. **Native Datetime** - RFC 3339 datetime with timezone support (similar to Qdrant)\n4. **Text Arrays** - First-class support for array properties\n5. **Index Control** - Fine-grained control over which fields are searchable, filterable, or range-filterable\n\n### 📝 Schema Indexing Notes\nWeaviate requires explicit index configuration for filtering:\n- **`index_filterable: True`** - Enable exact match filtering (for TEXT, BOOL, TEXT_ARRAY)\n- **`index_range_filterable: True`** - Enable range filtering (>=, <=, etc.) for DATE, INT, NUMBER\n- **`index_searchable: True`** - Enable BM25 keyword search on TEXT fields\n\nExamples:\n```python\nProperty(name=\"category\", data_type=DataType.TEXT, index_filterable=True)\nProperty(name=\"tags\", data_type=DataType.TEXT_ARRAY, index_filterable=True)\nProperty(name=\"created_at\", data_type=DataType.DATE, index_range_filterable=True)\nProperty(name=\"title\", data_type=DataType.TEXT, index_searchable=True)\n```\n\n### 🗓️ Date/Datetime Comparison Across DBs\n- **Chroma/Milvus/Pinecone**: Timestamps only (INT64)\n- **Weaviate**: Native RFC 3339 datetime with timezone (DATE datatype)\n- **Qdrant**: Native datetime objects (similar to Weaviate)"
  }
 ],
 "metadata": {
  "kernelspec": {
   "display_name": "Python 3",
   "language": "python",
   "name": "python3"
  },
  "language_info": {
   "codemirror_mode": {
    "name": "ipython",
    "version": 3
   },
   "file_extension": ".py",
   "mimetype": "text/x-python",
   "name": "python",
   "nbconvert_exporter": "python",
   "pygments_lexer": "ipython3",
   "version": "3.11.0"
  }
 },
 "nbformat": 4,
 "nbformat_minor": 4
}
