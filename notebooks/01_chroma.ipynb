{
 "cells": [
  {
   "cell_type": "markdown",
   "metadata": {},
   "source": [
    "# Vector Database Comparison: Chroma\n",
    "\n",
    "This notebook demonstrates how to:\n",
    "1. Load and prepare article data\n",
    "2. Generate embeddings using all-MiniLM-L6-v2\n",
    "3. Store vectors in Chroma Cloud\n",
    "4. Perform semantic search\n",
    "5. Apply metadata filtering (category, datetime)\n",
    "\n",
    "## Is Chroma Free?\n",
    "- ✅ Free for self-hosted\n",
    "- ✅ $5 free credits for Chroma Cloud"
   ]
  },
  {
   "metadata": {
    "ExecuteTime": {
     "end_time": "2025-10-20T21:19:01.752796Z",
     "start_time": "2025-10-20T21:19:01.680219Z"
    }
   },
   "cell_type": "code",
   "source": [
    "# Reload\n",
    "%reload_ext autoreload\n",
    "%autoreload 2"
   ],
   "outputs": [],
   "execution_count": 1
  },
  {
   "cell_type": "markdown",
   "metadata": {},
   "source": [
    "## 1. Setup and Imports"
   ]
  },
  {
   "cell_type": "code",
   "metadata": {
    "ExecuteTime": {
     "end_time": "2025-10-20T21:20:40.164209Z",
     "start_time": "2025-10-20T21:20:36.421608Z"
    }
   },
   "source": [
    "import sys\n",
    "sys.path.append('..')  # Add parent directory to path\n",
    "\n",
    "import os\n",
    "from dotenv import load_dotenv\n",
    "from tqdm.auto import tqdm\n",
    "import time\n",
    "\n",
    "# Import our utilities\n",
    "from utils.embeddings import EmbeddingGenerator\n",
    "from utils.data_loader import load_articles, get_article_metadata\n",
    "\n",
    "# Load environment variables\n",
    "load_dotenv()\n",
    "\n",
    "print(\"✓ Imports successful\")"
   ],
   "outputs": [
    {
     "name": "stdout",
     "output_type": "stream",
     "text": [
      "✓ Imports successful\n"
     ]
    }
   ],
   "execution_count": 2
  },
  {
   "cell_type": "markdown",
   "metadata": {},
   "source": [
    "## 2. Initialize Embedding Model\n",
    "\n",
    "We'll use **all-MiniLM-L6-v2** - a free 384-dimensional embedding model (good baseline)"
   ]
  },
  {
   "cell_type": "code",
   "metadata": {
    "ExecuteTime": {
     "end_time": "2025-10-20T21:31:17.178442Z",
     "start_time": "2025-10-20T21:31:15.723275Z"
    }
   },
   "source": [
    "# Initialize embedding model\n",
    "embedding_model = EmbeddingGenerator()\n",
    "\n",
    "# Test the model\n",
    "test_text = (\"Only if we understand, can we care. Only if we care, will we help. Only if we help, shall all be saved. \"\n",
    "             \"- Jane Goodall\")\n",
    "test_embedding = embedding_model.embed_text(test_text)\n",
    "\n",
    "print(f\"  - Embedding dimension: {len(test_embedding)}\")\n",
    "print(f\"  - Sample values: {test_embedding[:5]}\")"
   ],
   "outputs": [
    {
     "name": "stdout",
     "output_type": "stream",
     "text": [
      "Loading embedding model: sentence-transformers/all-MiniLM-L6-v2\n",
      "✓ Model loaded successfully. Embedding dimension: 384\n",
      "  - Embedding dimension: 384\n",
      "  - Sample values: [-0.01758349  0.05359234 -0.00871514 -0.00626488  0.07676981]\n"
     ]
    }
   ],
   "execution_count": 3
  },
  {
   "cell_type": "markdown",
   "metadata": {},
   "source": [
    "## 3. Load Article Data"
   ]
  },
  {
   "cell_type": "code",
   "metadata": {
    "ExecuteTime": {
     "end_time": "2025-10-20T22:18:57.127075Z",
     "start_time": "2025-10-20T22:18:56.907451Z"
    }
   },
   "source": [
    "import json\n",
    "import random\n",
    "\n",
    "# Load articles\n",
    "articles = load_articles(\"../sample_articles.json\")\n",
    "\n",
    "print(f\"\\nLoaded {len(articles)} articles\")\n",
    "\n",
    "# Random pick on article and preview\n",
    "print(\"\\nRandom Sample article:\")\n",
    "selected_index = random.randint(0, len(articles) - 1)\n",
    "print(json.dumps(articles[selected_index], indent=2))"
   ],
   "outputs": [
    {
     "name": "stdout",
     "output_type": "stream",
     "text": [
      "Loaded 100 articles from ../sample_articles.json\n",
      "\n",
      "Loaded 100 articles\n",
      "\n",
      "Random Sample article:\n",
      "{\n",
      "  \"id\": 15574369,\n",
      "  \"item_source\": \"SKI_MAG\",\n",
      "  \"item_title\": \"My Secret to Skiing 100 Days Injury-Free\",\n",
      "  \"item_subtitle\": \"Want to maximize your season while minimizing pain and injuries? Yeah, who doesn't? Here's how one writer stays fit and healthy all season long.\",\n",
      "  \"body_content\": \"Newton\\u2019s third law of physics states that every action has an equal and opposite reaction. Metaphorically speaking, I\\u2019ve found that this law also applies to skiing. I\\u2019ve had powder days of such immense joy that life feels infinite. \\u201cLive Forever\\u201d is still my favorite Oasis song.\\nBut then comes the reaction. I\\u2019ve seen it take many forms in ski towns, including the loss of early compounding interest retirement savings, a lack of professional work experience, and failure to find a long-term partner, to name a few. However, for me, it took the form of chronic pain.\\nDay in and day out, my left elbow has hurt from a fracture and dislocation injury eight years ago. My hips felt sore during rhythmic movements, such as pedaling a bike or ski touring. But most of all, my lower back pain, which ranged from a dull aching stiffness to pain so acute that I couldn\\u2019t move from bed. And I\\u2019m only 33 years old!\\nWell, that is, until a year ago. That\\u2019s because I finally incorporated weight training into my daily rhythm. For the first time in ten years, I can say that there are entire days when I feel no pain, as if I were 18 years old.\\nDo I still have aches and pains? Absolutely. My elbow is never going to be perfect (after a fracture and dislocation injury, it\\u2019s passable at best). Sitting still aggravates my back. And my knees and hips still crackle and pop when I get up in the morning. Nevertheless, weight training is the closest thing to a miracle cure that I\\u2019ve ever experienced.\\nAs a disclaimer, I\\u2019m not a qualified trainer, and I\\u2019m not here to tell you exactly what movements to do and how to do them. That will depend on your personal situation, and I highly recommend working with a trainer. However, I will share my story and how weight training has helped me get to a much better place.\\nThe author demonstrates the benefits of weight training for skiers.\\u00a0(Photo: Courtesy of Anna Lochhead-Sperling)\\nHow Did I Get Here?\\nI\\u2019m fortunate enough to have 1,000 days of skiing under my belt. One of the prices I\\u2019ve paid for that is 3,650 days of back pain. Yup, that\\u2019s at least 10 years of daily lower back aches\\u2014in addition to other ailments.\\nOver the last decade, I tried everything to shake those aches. I would do yoga, stretch, and foam roll regularly. I took rest days and went on long, gentle walks. I slept on a firm mattress. I tried standing with my feet farther apart. I became a vegetarian and tried getting lean. I did sit-ups, planks, bicycles, and whatever else to try to strengthen my core. I sought out hot tubs and massages. That\\u2019s all good for management, but it doesn\\u2019t address the fundamental issue at hand: muscle imbalances.\\nRelated: How to Avoid Tearing Your ACL, According to a U.S. Ski Team Surgeon\\nSo, I spoke to an expert to figure out how to fix these imbalances, or at least outsmart them. Franco Morris, Head of Program Delivery at a local gym in Sydney, Australia, identifies muscle imbalances as the leading cause of the achiness that skiers experience. \\u201cIt\\u2019s genetics,\\u201d says Franco. \\u201cWe\\u2019re not evolved for what we do, whether that\\u2019s skiing, skateboarding, or, as is more often the case, sitting.\\u201d\\nIf the average person is not evolved for skiing, I am especially unevolved for it. My 6&#8217;3 frame is supported by a 31-inch waist, which correlates to relatively small hips. My shoulders are unusually broad. And I\\u2019m not naturally flexible.\\nThat whole upper-body apparatus is constantly swinging around while I ski. Meanwhile, the lower back does the dirty work of holding it all together without the help of its gluteal sidekick.\\nWe can get away with it when we\\u2019re young, but Father Time ultimately lays down the law. \\u201cOur muscles become less malleable and responsive as we get older, making them more susceptible to tears and other injuries,\\u201d says Franco.\\nIn my case, I lasted until I was 32. That\\u2019s when my back finally gave out. I had what\\u2019s known as a lower back spasm, which is when your muscles become so fatigued that they contract, aka \\u201cspasm,\\u201d to prevent further injury.\\nIt was the most painful thing I\\u2019ve ever experienced, including my dislocated, broken elbow and subsequent surgery and rehabilitation. I couldn\\u2019t get out of bed. I missed work. I crawled to the toilet. Simply sneezing would put enough tension on my back to cause me to scream in agony. This, for an entire week. Twice.\\nSo, in the end, it wasn\\u2019t even a question of improving my skiing, but whether I could continue skiing at all. Something had to be done.\\nMy girlfriend, also a skier, deserves the credit for getting me into a weight training regimen. She had embarked on her journey a few months prior and was singing its praise. I\\u2019m now over a year out from my first class and feeling better than I have in a decade.\\nIt hasn\\u2019t been easy; in fact, it has been extraordinarily challenging. There are days when it\\u2019s hard to sit on the toilet. Yet, I\\u2019ll always trade that type of fleeting soreness for chronic pain.\\nThat whole upper-body apparatus is constantly swinging around while I ski. Meanwhile, the lower back does the dirty work of holding it all together without the help of its gluteal sidekick. \\u00a0(Photo: Courtesy of Ella Lochhead-Sperling)\\nMy Advice for Skiers Starting Weight Training\\nOther than occasional fooling around in the weight room in college, I\\u2019ve started from nothing. Here\\u2019s what I\\u2019ve learned over the past year and how I apply it to my skiing.\\nAll the movements I mention are also demonstrated in the video.\\n1. Work With a Trainer\\nTo lift properly is even more important than lifting. That\\u2019s why I recommend working with a highly qualified personal trainer. Group workouts are the only way most of us can afford to work with a trainer without breaking the bank. You\\u2019d be surprised at how affordable these programs can be (I pay about 45 USD per week).\\nMore: Ski Harder And Stronger With These 5 Editor-Tested Electrolyte Drinks\\nThe best trainers don\\u2019t just demonstrate movements; they inspire. Take Franco, who has become something akin to the spiritual leader of his gym community. Lifting weights, like skiing, is beautiful to watch when done well.\\nTrainers also design balanced workouts that target a variety of muscles. At my gym, hour-long sessions are broken down into dozens of different exercises. Theoretically, you could use the internet or a book to design your own program, but for me, it\\u2019s worth it to pay the premium.\\n2. Focus on the Posterior Chain\\nTechnically, the posterior chain refers to the group of muscles along the backside of the body that drive posture and power. It includes the hamstrings, glutes, lower back, and even the calves and upper back.\\nA few years ago, I began focusing on writing as a career, and my work life became confined to a desk. At first, I enjoyed the break from movement, and it allowed me to push harder when I did hit the slopes. However, after a span of years, the excessive sitting weakened my posterior chain to the point where I could no longer ski the way I once did without injury. Therefore, it\\u2019s my biggest focus.\\nPosterior Chain Essential Movements\\nHands down, the best workout for me has been the deadlift, where you lift a barbell from the ground to hip level with a straight back. It\\u2019s a direct engagement of the entire posterior chain.\\nGoing for my 1 RM deadlift.  (Photo: Photo courtesy of Anna Lochhead-Sperlin)\\nFor pure glute engagement, try a kettlebell swing. The movement requires a hinge at the hips to swing a kettlebell from between your legs up to chest height, using explosive power from the glutes rather than lifting with the arms.\\nBarbell hip thrusts involve placing a barbell over your hips and driving them upwards. Your back can be on a bench or on the floor. I prefer the floor; it\\u2019s one less thing to set up.\\nLastly, barbell step-ups involve setting a barbell across your back, as in a back squat, and stepping with one foot onto a box or bench. Then, drive through that leg to lift your body and step back down under control.\\n3. Control is Everything\\nWhen it comes to movement, low and slow is preferable to high and fast. It\\u2019s a lot harder to move under control, but this is where gains are made.\\n4. Avoid the \\u201cGlamour\\u201d Muscles\\n\\u201cGlamour\\u201d muscles refer to abs, biceps, and chest. While any balanced workout regimen will include these groups, you want to avoid gaining excessive mass in these areas.\\nIt might look good, but having all that weight on your upper body isn\\u2019t going to do any favors for your skiing, or any other mountain sports, for that matter.\\n5. Start Small\\nOne of the challenges of group workouts is seeing just how weak you are compared to others.\\nYou might feel compelled to compete, but it\\u2019s important to stay light. The first few weeks of weight training\\u2014especially if you\\u2019re in your thirties or older\\u2014are going to be brutal. There\\u2019s no way around it. The metamorphosis has begun, and it\\u2019s not a comfortable process. But the last thing you want to do is get injured and sacrifice your ski season.\\nTake it easy for a few months. Like skiing, weight training is a years-long journey.\\n6. Focus On Volume Over Weight\\nAs skiers, we generally want to focus on repetitions rather than max weight. That\\u2019s because we are endurance athletes, not bodybuilders. In most cases, we don\\u2019t want to add too much muscle mass, as it weighs us down in the mountains.\\nWe won\\u2019t gain as much size, but repetitions\\u2014say 10 reps at 60% of max weight rather than 3 reps at 85%\\u2014will build endurance, reduce the chance of injury, and still correct underlying weaknesses.\\n7. Weigh the Pros and Cons\\nWhich workout you choose to focus on is dependent on your specific situation. Sometimes there are conflicting benefits.\\nFor example, squats are probably the most clich\\u00e9 way to hit the gym as a skier. And not only are they fantastic for my quads and glutes, but they\\u2019ve also worked my hip and knee joints, where I\\u2019ve been feeling almost zero inflammation. The flip side of this is that, especially with back squats, the weight on my upper body aggravates my lower back.\\nMid squat, thinking about skiing.  (Photo: Photo courtesy of Anna Lochhead-Sperlin)\\n8. Don\\u2019t Give Up\\nYou\\u2019ll probably want to give up. I still think about it often. Weight training isn\\u2019t nearly as fun as skiing. Much the opposite; it\\u2019s frequently torturous.\\nBut having the mental fortitude to stick it out through the hard minutes at the end of a class will add decades to your skiing longevity. Just think about that while you&#8217;re sweating in agony trying to work through your reps.\\nWhile I\\u2019ve inherited a finicky back, I can\\u2019t help but feel lucky to have improved this much. A fracture would be worse. In fact, when I ask Franco why weight training helps skiers so much, the first thing he pointed out is prevention: \\u201cBuilding muscle promotes bone density, as well as adding cushioning tissue around bones.\\u201d\\nI\\u2019m only a year into my weight training journey and am working with weights that, at best, would be considered novice. There\\u2019s just that much more room to improve. \\u201cThe sky\\u2019s the limit,\\u201d says Franco, as we part ways from our interview, \\u201cmost people have so much room for improvement that they can counter the effects of aging for a long time.\\u201d\\nNot a bad prognosis.\\nAs we like to say, (bluebird) sky is the limit.\\u00a0(Photo: Courtesy of Ella Lochhead-Sperling)\",\n",
      "  \"category_name\": \"Fitness\",\n",
      "  \"denormalized_tags\": [\n",
      "    \"evergreen\",\n",
      "    \"fitness\"\n",
      "  ],\n",
      "  \"evergreen\": true,\n",
      "  \"item_url\": \"https://www.skimag.com/performance/fitness/my-secret-to-skiing-100-days-injury-free/\",\n",
      "  \"item_created_at\": \"2025-10-14 21:09:34.000000 +00:00\"\n",
      "}\n"
     ]
    }
   ],
   "execution_count": 25
  },
  {
   "cell_type": "markdown",
   "metadata": {},
   "source": [
    "## 4. Connect to Chroma\n",
    "\n",
    "Make sure you've set up your `.env` file with:\n",
    "```\n",
    "CHROMA_API_KEY=your_api_key\n",
    "CHROMA_TENANT=your_tenant_id\n",
    "CHROMA_DATABASE=articles\n",
    "```"
   ]
  },
  {
   "cell_type": "code",
   "metadata": {
    "ExecuteTime": {
     "end_time": "2025-10-20T21:36:08.769925Z",
     "start_time": "2025-10-20T21:36:06.843886Z"
    }
   },
   "source": [
    "import chromadb\n",
    "\n",
    "# Get credentials from environment\n",
    "CHROMA_API_KEY = os.getenv(\"CHROMA_API_KEY\")\n",
    "CHROMA_TENANT = os.getenv(\"CHROMA_TENANT\")\n",
    "CHROMA_DATABASE = os.getenv(\"CHROMA_DATABASE\")  # My DB name is 'articles'\n",
    "\n",
    "if not CHROMA_API_KEY or not CHROMA_TENANT:\n",
    "    raise ValueError(\"Please set CHROMA_API_KEY and CHROMA_TENANT in .env file\")\n",
    "\n",
    "# Connect to Chroma Cloud\n",
    "print(\"Connecting to Chroma Cloud...\")\n",
    "client = chromadb.CloudClient(\n",
    "    api_key=CHROMA_API_KEY,\n",
    "    tenant=CHROMA_TENANT,\n",
    "    database=CHROMA_DATABASE\n",
    ")\n",
    "\n",
    "print(f\"✓ Connected to Chroma Cloud\")\n",
    "print(f\"  - Tenant: {CHROMA_TENANT}\")\n",
    "print(f\"  - Database: {CHROMA_DATABASE}\")\n",
    "\n",
    "# List existing collections\n",
    "collections = client.list_collections()\n",
    "print(f\"\\nExisting collections: {[c.name for c in collections]}\")"
   ],
   "outputs": [
    {
     "name": "stdout",
     "output_type": "stream",
     "text": [
      "Connecting to Chroma Cloud...\n",
      "✓ Connected to Chroma Cloud\n",
      "  - Tenant: 3842bba4-7792-4f68-97af-a3be4ab6275b\n",
      "  - Database: None\n",
      "\n",
      "Existing collections: ['articles_chroma']\n"
     ]
    }
   ],
   "execution_count": 6
  },
  {
   "cell_type": "markdown",
   "metadata": {},
   "source": [
    "## 5. Create Collection\n",
    "\n",
    "Chroma is **schema-less** - we can add any metadata fields without pre-declaration!"
   ]
  },
  {
   "cell_type": "code",
   "metadata": {
    "ExecuteTime": {
     "end_time": "2025-10-20T21:37:27.073246Z",
     "start_time": "2025-10-20T21:37:26.606053Z"
    }
   },
   "source": [
    "# Collection name\n",
    "COLLECTION_NAME = \"articles_chroma\"\n",
    "\n",
    "# Try to get existing collection, or create new one\n",
    "collection = client.get_or_create_collection(name=COLLECTION_NAME)\n",
    "print(f\"✓ Using existing collection: {COLLECTION_NAME}\")\n",
    "print(f\"  - Current count: {collection.count()} articles\")"
   ],
   "outputs": [
    {
     "name": "stdout",
     "output_type": "stream",
     "text": [
      "✓ Using existing collection: articles_chroma\n",
      "  - Current count: 100 articles\n"
     ]
    }
   ],
   "execution_count": 7
  },
  {
   "cell_type": "markdown",
   "metadata": {},
   "source": [
    "## 6. Generate Embeddings and Upsert Data\n",
    "\n",
    "We'll process articles in batches for efficiency.\n",
    "\n",
    "Note: Chroma provides lightweight wrappers around popular embedding providers, but here we use our own embedding\n",
    "function for flexibility and easy comparison across vector DBs."
   ]
  },
  {
   "cell_type": "code",
   "metadata": {
    "ExecuteTime": {
     "end_time": "2025-10-17T06:12:56.485648Z",
     "start_time": "2025-10-17T06:12:53.912492Z"
    }
   },
   "source": [
    "# Process in batches\n",
    "BATCH_SIZE = 20\n",
    "total_articles = len(articles)\n",
    "\n",
    "\n",
    "print(f\"Processing {total_articles} articles in batches of {BATCH_SIZE}...\\n\")\n",
    "\n",
    "start_time = time.time()\n",
    "\n",
    "for i in tqdm(range(0, total_articles, BATCH_SIZE), desc=\"Inserting batches\"):\n",
    "    batch = articles[i:i + BATCH_SIZE]\n",
    "    \n",
    "    # Generate embeddings for batch\n",
    "    texts = [\n",
    "        f\"Title: {a['item_title']}\\nSubtitle: {a.get('item_subtitle', '')}\\nContent: {a['body_content'][:500]}\"\n",
    "        for a in batch\n",
    "    ]\n",
    "    embeddings = embedding_model.embed_batch(texts, show_progress=False)\n",
    "    \n",
    "    # Prepare metadata\n",
    "    ids = [f\"article_{a['id']}\" for a in batch]\n",
    "    metadatas = [get_article_metadata(a, db_type=\"chroma\") for a in batch]\n",
    "    \n",
    "    # Insert into Chroma\n",
    "    collection.upsert(\n",
    "        ids=ids,\n",
    "        embeddings=embeddings.tolist(),\n",
    "        metadatas=metadatas\n",
    "    )\n",
    "\n",
    "elapsed_time = time.time() - start_time\n",
    "\n",
    "print(f\"\\n✓ Successfully inserted {total_articles} articles\")\n",
    "print(f\"  - Time taken: {elapsed_time:.2f} seconds\")\n",
    "print(f\"  - Average: {elapsed_time/total_articles:.2f} seconds per article\")\n",
    "\n",
    "# Verify collection count\n",
    "count = collection.count()\n",
    "print(f\"  - Collection count: {count}\")"
   ],
   "outputs": [
    {
     "name": "stdout",
     "output_type": "stream",
     "text": [
      "Processing 100 articles in batches of 20...\n",
      "\n"
     ]
    },
    {
     "data": {
      "text/plain": [
       "Inserting batches:   0%|          | 0/5 [00:00<?, ?it/s]"
      ],
      "application/vnd.jupyter.widget-view+json": {
       "version_major": 2,
       "version_minor": 0,
       "model_id": "0f1f74076bbc416b8a4ea33afbbb20e1"
      }
     },
     "metadata": {},
     "output_type": "display_data"
    },
    {
     "name": "stdout",
     "output_type": "stream",
     "text": [
      "\n",
      "✓ Successfully inserted 100 articles\n",
      "  - Time taken: 2.34 seconds\n",
      "  - Average: 0.02 seconds per article\n",
      "  - Collection count: 100\n"
     ]
    }
   ],
   "execution_count": 20
  },
  {
   "cell_type": "markdown",
   "metadata": {},
   "source": [
    "## 7. Semantic Search - Basic Query"
   ]
  },
  {
   "cell_type": "code",
   "metadata": {
    "ExecuteTime": {
     "end_time": "2025-10-20T21:50:58.186654Z",
     "start_time": "2025-10-20T21:50:57.233201Z"
    }
   },
   "source": [
    "# Test query\n",
    "query_text = \"Most haunted hikes in the US\"\n",
    "\n",
    "print(f\"Query: '{query_text}'\\n\")\n",
    "\n",
    "# Generate query embedding\n",
    "query_embedding = embedding_model.embed_text(query_text)\n",
    "\n",
    "# Search\n",
    "results = collection.query(\n",
    "    query_embeddings=[query_embedding.tolist()],\n",
    "    n_results=5,\n",
    "    include=[\"metadatas\", \"distances\"]\n",
    ")\n",
    "\n",
    "# Display results\n",
    "print(\"Top 5 Results:\\n\")\n",
    "for i, (metadata, distance) in enumerate(zip(results['metadatas'][0], results['distances'][0])):\n",
    "    print(f\"{i+1}. {metadata['title']}...\")\n",
    "    print(f\"   Category: {metadata['category']} | Source: {metadata['source']}\")\n",
    "    print(f\"   Distance: {distance:.4f}\")\n",
    "    print(f\"   URL: {metadata['url']}...\")"
   ],
   "outputs": [
    {
     "name": "stdout",
     "output_type": "stream",
     "text": [
      "Query: 'Most haunted hikes in the US'\n",
      "\n",
      "Top 5 Results:\n",
      "\n",
      "1. 13 of the Most Haunted Hikes in the U.S....\n",
      "   Category: Destinations | Source: OUTSIDE\n",
      "   Distance: 0.3884\n",
      "   URL: https://www.outsideonline.com/adventure-travel/destinations/haunted-hikes/...\n",
      "2. A Missing Dog Helped a Stranded Hiker Return to Shadow Mountain Trail. Both Were Rescued....\n",
      "   Category: Hiking | Source: OUTSIDE\n",
      "   Distance: 1.0845\n",
      "   URL: https://www.outsideonline.com/outdoor-adventure/hiking-and-backpacking/arizona-lost-hiker-missing-dog-shadow-mountain/...\n",
      "3. An Inside Look at Outside’s 2025 Winter Editors’ Choice Testing Trip...\n",
      "   Category: Gear | Source: OUTSIDE\n",
      "   Distance: 1.2680\n",
      "   URL: https://www.outsideonline.com/outdoor-gear/winter-editors-choice-trip-maine/...\n",
      "4. Two Hikers in British Columbia Were Hospitalized After a Grizzly Sow Attack...\n",
      "   Category: Hiking | Source: OUTSIDE\n",
      "   Distance: 1.3272\n",
      "   URL: https://www.outsideonline.com/outdoor-adventure/hiking-and-backpacking/two-hikers-in-british-columbia-were-hospitalized-after-a-grizzly-sow-attack/...\n",
      "5. Why Does Washington Have So Many Climbing Accidents? A Mountain Rescue Team Lead Offers Answers....\n",
      "   Category: Skills | Source: CLIMBING\n",
      "   Distance: 1.3274\n",
      "   URL: https://www.climbing.com/skills/washington-climbing-accidents/...\n"
     ]
    }
   ],
   "execution_count": 8
  },
  {
   "cell_type": "markdown",
   "metadata": {},
   "source": [
    "## 8. Metadata Filtering - Category\n",
    "\n",
    "Chroma's schema-less design makes filtering super easy!"
   ]
  },
  {
   "cell_type": "code",
   "metadata": {
    "ExecuteTime": {
     "end_time": "2025-10-20T22:02:53.471778Z",
     "start_time": "2025-10-20T22:02:52.629802Z"
    }
   },
   "source": [
    "# Filter by category\n",
    "query_text = \"Women's Ironman World Championship\"\n",
    "target_category = \"News\"\n",
    "\n",
    "print(f\"Query: '{query_text}'\")\n",
    "print(f\"Filter: category = '{target_category}'\\n\")\n",
    "\n",
    "query_embedding = embedding_model.embed_text(query_text)\n",
    "\n",
    "results = collection.query(\n",
    "    query_embeddings=[query_embedding.tolist()],\n",
    "    n_results=5,\n",
    "    where={\"category\": target_category},\n",
    "    include=[\"metadatas\", \"distances\"]\n",
    ")\n",
    "\n",
    "print(f\"Top 5 Results (Category: {target_category}):\\n\")\n",
    "for i, (metadata, distance) in enumerate(zip(results['metadatas'][0], results['distances'][0])):\n",
    "    print(f\"{i+1}. {metadata['title']}...\")\n",
    "    print(f\"   Category: {metadata['category']} | Source: {metadata['source']}\")\n",
    "    print(f\"   Created: {metadata['created_at']}\")\n",
    "    print(f\"   Distance: {distance:.4f}\")\n",
    "    print()"
   ],
   "outputs": [
    {
     "name": "stdout",
     "output_type": "stream",
     "text": [
      "Query: 'Women's Ironman World Championship'\n",
      "Filter: category = 'News'\n",
      "\n",
      "Top 5 Results (Category: News):\n",
      "\n",
      "1. After Joy of Women's-Only Ironman World Championship, Grief Sets In...\n",
      "   Category: News | Source: TRIATHLETE\n",
      "   Created: 1760296873\n",
      "   Distance: 0.4460\n",
      "\n",
      "2. What a Race! Here's Where the Ironman Pro Series Stands After the Ironman World Championship Drama...\n",
      "   Category: News | Source: TRIATHLETE\n",
      "   Created: 1760352009\n",
      "   Distance: 0.7072\n",
      "\n",
      "3. The Fastest Shoes at 2025 Ironman World Championship Kona...\n",
      "   Category: News | Source: TRIATHLETE\n",
      "   Created: 1760353908\n",
      "   Distance: 0.7636\n",
      "\n",
      "4. The DNF Files: 2025 Ironman World Championship Kona...\n",
      "   Category: News | Source: TRIATHLETE\n",
      "   Created: 1760441445\n",
      "   Distance: 0.8166\n",
      "\n",
      "5. In Sweltering Conditions, Norway’s Solveig Løvseth Takes 2025 Ironman World Championship Win...\n",
      "   Category: News | Source: TRIATHLETE\n",
      "   Created: 1760160735\n",
      "   Distance: 0.8761\n",
      "\n"
     ]
    }
   ],
   "execution_count": 10
  },
  {
   "cell_type": "markdown",
   "metadata": {},
   "source": [
    "## 9. Metadata Filtering - Date Range\n",
    "\n",
    "Find recent articles published after a specific date."
   ]
  },
  {
   "cell_type": "code",
   "metadata": {
    "ExecuteTime": {
     "end_time": "2025-10-20T22:17:03.336649Z",
     "start_time": "2025-10-20T22:17:02.960317Z"
    }
   },
   "source": [
    "from utils.date_utils import date_string_to_timestamp, timestamp_to_datetime_string\n",
    "\n",
    "# Filter by date\n",
    "query_text = \"cycling deals\" #\"simple exercise for my back pain\"\n",
    "cutoff_date = \"2025-10-08\"\n",
    "cutoff_timestamp = date_string_to_timestamp(cutoff_date)\n",
    "\n",
    "print(f\"Query: '{query_text}'\")\n",
    "print(f\"Filter: created_at >= '{cutoff_date}' (timestamp: {cutoff_timestamp})\\n\")\n",
    "\n",
    "query_embedding = embedding_model.embed_text(query_text)\n",
    "\n",
    "results = collection.query(\n",
    "    query_embeddings=[query_embedding.tolist()],\n",
    "    n_results=5,\n",
    "    where={\n",
    "        \"created_at\": {\"$gte\": cutoff_timestamp}\n",
    "    },\n",
    "    include=[\"metadatas\", \"distances\"]\n",
    ")\n",
    "\n",
    "print(f\"Top 5 Recent Results (after {cutoff_date}):\\n\")\n",
    "for i, (metadata, distance) in enumerate(zip(results['metadatas'][0], results['distances'][0])):\n",
    "    created_at = timestamp_to_datetime_string(metadata['created_at'])\n",
    "    print(f\"{i+1}. {metadata['title']}\")\n",
    "    print(f\"   Category: {metadata['category']}\")\n",
    "    print(f\"   Created: {created_at}\")\n",
    "    print(f\"   Tags: {metadata['tags']}\")"
   ],
   "outputs": [
    {
     "name": "stdout",
     "output_type": "stream",
     "text": [
      "Query: 'cycling deals'\n",
      "Filter: created_at >= '2025-10-08' (timestamp: 1759906800)\n",
      "\n",
      "Top 5 Recent Results (after 2025-10-08):\n",
      "\n",
      "1. Opinion: Cycling's Soccer-Inspired Relegation System Is a Hot Mess That Solves Nothing\n",
      "   Category: Road Racing\n",
      "   Created: 2025-10-15 22:42:10\n",
      "   Tags: Analysis, ASO, Cofidis, Tour de France, Tour de Hoody\n",
      "2. Deal: Tailwind Endurance Fuel Is the Cycling Nutrition I Actually Use\n",
      "   Category: Road Gear\n",
      "   Created: 2025-10-13 04:30:52\n",
      "   Tags: Velo Deals\n",
      "3. Pogačar's Bonuses and Brand Deals Revealed: Inside His $14 Million Pay Check\n",
      "   Category: Road Racing\n",
      "   Created: 2025-10-13 20:39:12\n",
      "   Tags: Alex Carera, Remco Evenepoel, Tadej Pogačar, Transfers, UAE Emirates\n",
      "4. Shop Evo's Anniversary Sale and Save up to 50% on Ski, Snowboard, and MTB Gear\n",
      "   Category: Gear News\n",
      "   Created: 2025-10-14 03:53:27\n",
      "   Tags: Commerce, Deals\n",
      "5. Deal: One of the Best Headphones for Cycling Is 50% Off\n",
      "   Category: Road Gear\n",
      "   Created: 2025-10-15 05:12:34\n",
      "   Tags: headphones, Velo Deals\n"
     ]
    }
   ],
   "execution_count": 24
  },
  {
   "cell_type": "markdown",
   "metadata": {},
   "source": [
    "## 10. Combined Filters -  Evergreen AND Date\n",
    "\n",
    "Chroma supports complex boolean queries with `$and`, `$or` operators."
   ]
  },
  {
   "cell_type": "code",
   "metadata": {
    "ExecuteTime": {
     "end_time": "2025-10-20T22:23:54.304385Z",
     "start_time": "2025-10-20T22:23:53.652996Z"
    }
   },
   "source": [
    "from utils.date_utils import date_string_to_timestamp\n",
    "\n",
    "# Combine multiple filters: Boolean (evergreen) + Date range\n",
    "query_text = \"Halloween outdoor activities\"\n",
    "cutoff_date = \"2025-10-09\"\n",
    "cutoff_timestamp = date_string_to_timestamp(cutoff_date)\n",
    "\n",
    "print(f\"Query: '{query_text}'\")\n",
    "print(f\"Filters:\")\n",
    "print(f\"  - evergreen = True (timeless content)\")\n",
    "print(f\"  - created_at >= '{cutoff_date}' (timestamp: {cutoff_timestamp})\\n\")\n",
    "\n",
    "query_embedding = embedding_model.embed_text(query_text)\n",
    "\n",
    "results = collection.query(\n",
    "    query_embeddings=[query_embedding.tolist()],\n",
    "    n_results=10,  # Increased to 10 since evergreen articles might be fewer\n",
    "    where={\n",
    "        \"$and\": [\n",
    "            {\"evergreen\": True},\n",
    "            {\"created_at\": {\"$gte\": cutoff_timestamp}}\n",
    "        ]\n",
    "    },\n",
    "    include=[\"metadatas\", \"distances\"]\n",
    ")\n",
    "\n",
    "if results['metadatas'][0]:\n",
    "    print(f\"Top Evergreen Results (After {cutoff_date}):\\n\")\n",
    "    for i, (metadata, distance) in enumerate(zip(results['metadatas'][0], results['distances'][0])):\n",
    "        created_at = timestamp_to_datetime_string(metadata['created_at'])\n",
    "\n",
    "        print(f\"{i+1}. {metadata['title']}...\")\n",
    "        print(f\"   Category: {metadata['category']} | Evergreen: {metadata['evergreen']}\")\n",
    "        print(f\"   Tags: {metadata.get('tags', 'No tags')}\")\n",
    "        print(f\"   Created: {created_at}\")\n",
    "    print(f\"Total results: {len(results['metadatas'][0])}\")\n",
    "else:\n",
    "    print(\"No evergreen articles found after this date.\")"
   ],
   "outputs": [
    {
     "name": "stdout",
     "output_type": "stream",
     "text": [
      "Query: 'Halloween outdoor activities'\n",
      "Filters:\n",
      "  - evergreen = True (timeless content)\n",
      "  - created_at >= '2025-10-09' (timestamp: 1759993200)\n",
      "\n",
      "Top Evergreen Results (After 2025-10-09):\n",
      "\n",
      "1. 13 of the Most Haunted Hikes in the U.S....\n",
      "   Category: Destinations | Evergreen: True\n",
      "   Tags: evergreen, Halloween, Hiking\n",
      "   Created: 2025-10-16 04:22:41\n",
      "2. The Thule Outset Hitch-Mounted Tent Turns Your Car Into a Campsite on Wheels...\n",
      "   Category: Camping | Evergreen: True\n",
      "   Tags: 2025 Gear Reviews, Car Camping, Car Racks, Commerce, evergreen\n",
      "   Created: 2025-10-14 03:30:11\n",
      "3. The Best Daypacks for Every Kind of Hiker (2025)...\n",
      "   Category: Daypacks | Evergreen: True\n",
      "   Tags: 2025 Gear Reviews, 2025 Summer Gear Guide, backpack, Commerce, Day Packs\n",
      "   Created: 2025-10-16 04:31:44\n",
      "4. Everything You Need To Know Before Skiing Telluride For The First Time...\n",
      "   Category: Resort Skiing | Evergreen: True\n",
      "   Tags: evergreen, Telluride Ski Resort\n",
      "   Created: 2025-10-13 07:39:24\n",
      "5. He’s Hunted for Elk for 40 Years but Hasn’t Killed a Single One. And That’s OK....\n",
      "   Category: Environment | Evergreen: True\n",
      "   Tags: Adventure, Colorado, evergreen, Hunting, Long Reads\n",
      "   Created: 2025-10-14 22:05:17\n",
      "6. Can I Bring Chalk in My Carry-on? What TSA Actually Allows (and What They Don’t)....\n",
      "   Category: Travel | Evergreen: True\n",
      "   Tags: evergreen\n",
      "   Created: 2025-10-14 01:00:38\n",
      "7. The Best Cross-Country Boots and Accessories of 2026...\n",
      "   Category: Snow Sports | Evergreen: True\n",
      "   Tags: 2025 Gear Reviews, 2026 Winter Gear Guide, Commerce, Cross-Country Ski Boots, evergreen\n",
      "   Created: 2025-10-14 03:00:47\n",
      "8. Tusayan is Your Launchpad to Grand Adventures...\n",
      "   Category: Gateway Towns | Evergreen: True\n",
      "   Tags: evergreen\n",
      "   Created: 2025-10-14 05:40:31\n",
      "9. Prone to Falling on Trail? These Exercises Will Help Prevent Injury....\n",
      "   Category: Backpacking Fitness | Evergreen: True\n",
      "   Tags: evergreen\n",
      "   Created: 2025-10-15 04:19:09\n",
      "10. Pumpkin Is an Anti-Inflammatory Superfood—Here’s Why You Should Eat More of It, According to Nutritionists...\n",
      "   Category: Nutrition | Evergreen: True\n",
      "   Tags: evergreen, Food, Inflammation, Nutrition\n",
      "   Created: 2025-10-15 18:29:46\n",
      "Total results: 10\n"
     ]
    }
   ],
   "execution_count": 26
  },
  {
   "cell_type": "markdown",
   "metadata": {},
   "source": [
    "## 11. Performance Summary\n",
    "\n",
    "Let's benchmark query performance."
   ]
  },
  {
   "cell_type": "code",
   "metadata": {
    "ExecuteTime": {
     "end_time": "2025-10-21T15:32:34.938129Z",
     "start_time": "2025-10-21T15:32:33.242620Z"
    }
   },
   "source": "from utils.benchmark import benchmark_queries\n\n# Define query function for Chroma\ndef chroma_query_fn(query_text: str):\n    \"\"\"Query function for Chroma benchmarking.\"\"\"\n    query_embedding = embedding_model.embed_text(query_text)\n    return collection.query(\n        query_embeddings=[query_embedding.tolist()],\n        n_results=10\n    )\n\n# Run standardized benchmark\nresults = benchmark_queries(chroma_query_fn)",
   "outputs": [
    {
     "name": "stdout",
     "output_type": "stream",
     "text": [
      "Running performance benchmark...\n",
      "\n",
      "'outdoor hiking adventures' -> 642.7ms\n",
      "'cycling race performance' -> 137.5ms\n",
      "'travel destinations and tips' -> 298.3ms\n",
      "'fitness training techniques' -> 183.5ms\n",
      "'gear reviews and recommendations' -> 115.0ms\n",
      "\n",
      "Performance Summary:\n",
      "  - Average query time: 275.4ms\n",
      "  - Min query time: 115.0ms\n",
      "  - Max query time: 642.7ms\n"
     ]
    }
   ],
   "execution_count": 28
  },
  {
   "cell_type": "markdown",
   "metadata": {},
   "source": [
    "## 12. Key Takeaways: Chroma\n",
    "\n",
    "### Pros ✅\n",
    "1. **Schema-less metadata** - Add any fields without pre-planning\n",
    "2. **Simple API** - Easy to use, minimal boilerplate\n",
    "3. **Fast setup** - Quickest to get started\n",
    "4. **Good free tier** - $5 credits, 5GB storage\n",
    "\n",
    "### Cons ⚠️\n",
    "1. **Credits run out** - $5 may not last long with heavy usage\n",
    "2. **Less enterprise features** - Compared to Milvus/Weaviate\n",
    "\n",
    "### Best For\n",
    "- Prototyping and MVPs\n",
    "- Projects with evolving schemas\n",
    "\n",
    "### Metadata Filtering\n",
    "- Great support for metadata filtering\n",
    "- You can do datetime filtering if you store unix timestamps"
   ]
  },
  {
   "cell_type": "code",
   "execution_count": null,
   "metadata": {},
   "outputs": [],
   "source": [
    "# Uncomment to delete collection\n",
    "# client.delete_collection(name=COLLECTION_NAME)\n",
    "# print(f\"Deleted collection: {COLLECTION_NAME}\")"
   ]
  }
 ],
 "metadata": {
  "kernelspec": {
   "display_name": "Python 3",
   "language": "python",
   "name": "python3"
  },
  "language_info": {
   "codemirror_mode": {
    "name": "ipython",
    "version": 3
   },
   "file_extension": ".py",
   "mimetype": "text/x-python",
   "name": "python",
   "nbconvert_exporter": "python",
   "pygments_lexer": "ipython3",
   "version": "3.13.0"
  }
 },
 "nbformat": 4,
 "nbformat_minor": 4
}
