{
 "cells": [
  {
   "cell_type": "markdown",
   "metadata": {},
   "source": [
    "# Pinecone Vector Database Demo\n",
    "\n",
    "This notebook demonstrates using **Pinecone Serverless** with 100 sample articles.\n",
    "\n",
    "## Pinecone Key Features\n",
    "- **Serverless Architecture** - Auto-scaling, no infrastructure management\n",
    "- **Enterprise-Grade** - Used by production AI applications worldwide\n",
    "- **Simple API** - Clean, intuitive Python client\n",
    "- **Metadata Filtering** - Filter by indexed metadata fields\n",
    "- **Free Tier** - Serverless with generous limits (us-east-1)\n",
    "- **High Performance** - Optimized for low-latency queries\n",
    "- **Cloud Options** - AWS, GCP, Azure support"
   ]
  },
  {
   "cell_type": "markdown",
   "metadata": {},
   "source": [
    "## 1. Setup and Imports"
   ]
  },
  {
   "cell_type": "code",
   "metadata": {
    "ExecuteTime": {
     "end_time": "2025-10-21T16:16:08.159936Z",
     "start_time": "2025-10-21T16:16:05.021842Z"
    }
   },
   "source": [
    "import os\n",
    "import sys\n",
    "from pathlib import Path\n",
    "import time\n",
    "\n",
    "# Add parent directory to path\n",
    "parent_dir = Path().resolve().parent\n",
    "sys.path.insert(0, str(parent_dir))\n",
    "\n",
    "# Load environment variables\n",
    "from dotenv import load_dotenv\n",
    "load_dotenv()\n",
    "\n",
    "# Import utilities\n",
    "from utils.embeddings import EmbeddingGenerator\n",
    "from utils.data_loader import load_articles, get_article_metadata\n",
    "\n",
    "print(\"✓ All imports successful\")"
   ],
   "outputs": [
    {
     "name": "stdout",
     "output_type": "stream",
     "text": [
      "✓ All imports successful\n"
     ]
    }
   ],
   "execution_count": 1
  },
  {
   "cell_type": "markdown",
   "metadata": {},
   "source": [
    "## 2. Load Embedding Model\n",
    "\n",
    "Using `sentence-transformers/all-MiniLM-L6-v2` (384 dimensions)"
   ]
  },
  {
   "cell_type": "code",
   "metadata": {
    "ExecuteTime": {
     "end_time": "2025-10-21T16:16:53.968363Z",
     "start_time": "2025-10-21T16:16:52.578609Z"
    }
   },
   "source": [
    "# Initialize embedding model\n",
    "embedding_model = EmbeddingGenerator()\n",
    "\n",
    "# Test the model\n",
    "test_text = \"This is a test sentence for embedding generation.\"\n",
    "test_embedding = embedding_model.embed_text(test_text)\n",
    "\n",
    "print(f\"  - Embedding dimension: {len(test_embedding)}\")\n",
    "print(f\"  - Sample values: {test_embedding[:5]}\")"
   ],
   "outputs": [
    {
     "name": "stdout",
     "output_type": "stream",
     "text": [
      "Loading embedding model: sentence-transformers/all-MiniLM-L6-v2\n",
      "✓ Model loaded successfully. Embedding dimension: 384\n",
      "  - Embedding dimension: 384\n",
      "  - Sample values: [0.00306019 0.00200206 0.05544939 0.07702641 0.00857853]\n"
     ]
    }
   ],
   "execution_count": 2
  },
  {
   "cell_type": "markdown",
   "metadata": {},
   "source": [
    "## 3. Load Sample Articles"
   ]
  },
  {
   "cell_type": "code",
   "metadata": {
    "ExecuteTime": {
     "end_time": "2025-10-21T16:16:58.636349Z",
     "start_time": "2025-10-21T16:16:58.628968Z"
    }
   },
   "source": [
    "import json\n",
    "import random\n",
    "\n",
    "# Load articles\n",
    "articles = load_articles(\"../sample_articles.json\")\n",
    "\n",
    "print(f\"\\nLoaded {len(articles)} articles\")\n",
    "\n",
    "# Random pick on article and preview\n",
    "print(\"\\nRandom Sample article:\")\n",
    "selected_index = random.randint(0, len(articles) - 1)\n",
    "print(json.dumps(articles[selected_index], indent=2))"
   ],
   "outputs": [
    {
     "name": "stdout",
     "output_type": "stream",
     "text": [
      "Loaded 100 articles from ../sample_articles.json\n",
      "\n",
      "Loaded 100 articles\n",
      "\n",
      "Random Sample article:\n",
      "{\n",
      "  \"id\": 15573824,\n",
      "  \"item_source\": \"CLIMBING\",\n",
      "  \"item_title\": \"How a Dirtbag Became a Billionaire\\u2014Without Compromising His Ethics\",\n",
      "  \"item_subtitle\": \"The new biography Dirtbag Billionaire explores Yvon Chouinard's philanthropy, as well as his life as a Yosemite climber and alpinist.\",\n",
      "  \"body_content\": \"\\u201cI\\u2019d feel a lot more comfortable on top of a mountain than here right now,\\u201d Yvon Chouinard once told President Bill Clinton while participating in a conference on corporate responsibility.\\nThat\\u2019s because Chouinard is a reluctant corporate leader. His biggest accident was no blunder in the mountains, but becoming a billionaire. And his greatest legacy is not one of his first ascents or gear innovations, but giving his billions away to help save the planet he loves exploring. In short, this is the narrative arc of the life of Chouinard, a humble descendant of French-Canadian fur trappers. It\\u2019s also the story told in the new biography Dirtbag Billionaire by New York Times correspondent David Gelles.\\nChouinard may not have intended to become the founder of two companies. But, as an avid adventurer, he couldn\\u2019t help but try to improve upon the mediocre outdoor gear available at the time. His innovations in layers and synthetic apparel officially became Patagonia in 1973. Sixteen years later, he sold the hard goods arm of his operation that made nuts, ice axes, and more equipment to employee Peter Metcalf, who incorporated his new business as Black Diamond. Today, both companies are among the most recognizable brands in the outdoors.\\nBut in 2022, Chouinard did something arguably even more memorable (in the long run). He established the Patagonia Purpose Trust, ensuring that all profits not reinvested into the company would forever go toward the company\\u2019s mission of \\u201csaving our home planet.\\u201d Patagonia has long donated one percent of its profits to fight climate change and support other environmental causes. But this restructuring significantly increased annual giving to an estimated $100 million. Chouinard also transferred all of his family shares to the trust.\\nWhile Dirtbag Billionaire is worth a read for its concrete ideas on how capitalism can do better, for climbers, it holds no shortage of colorful outtakes from Chouinard\\u2019s early days as a gritty Yosemite Stonemaster.\\nTo record these stories\\u2014and render a portrait of the world\\u2019s wealthiest dirtbag\\u2014Gelles retraced Chouinard\\u2019s many journeys across his 86 years. This included fishing trips in Argentina, and a 1968 expedition to the spires of Cerro Chalt\\u00e9n that inspired the Patagonia logo.\\nGelles and Chouinard fishing in Las Pampas, Argentina (Photo: David Gelles)\\nThe vignettes in Dirtbag Billionaire unequivocally show that Chouinard was once the dirtbag to end all dirtbags\\u2014and remains so at heart. Yet at the same time, he was steadily building a brilliant career, even as he subsisted off wild squirrels or celebrated his 30th birthday stranded in an ice cave. Check out some of our favorite tales from Chouinard\\u2019s dirtbag days below.\\n10 vignettes from Yvon Chouinard\\u2019s life as a climber\\n(Photo: Courtesy Simon &amp; Schuster)\\nWill climb for birds of prey\\nThe unlikely reason Chouinard first got into climbing? Falcons. Before he sent El Cap, surfed Pacific waves, or fished the rivers of Wyoming, his first passion was falconry, the ancient tradition of training and flying falcons. It all started when he was around 15 years old and attended his first meeting of the Southern California Falconry Club.\\nIn his ensuing pursuit of nests near Los Angeles where he could find falcons, Chouinard \\u201clearned to scamper down sheer walls \\u2026 keeping his toes perched on inch-wide ledges,\\u201d as Gelles writes. As Chouinard sought out steeper walls, he started using ropes. He even served as a volunteer in the effort to save the endangered peregrine falcon. This involved breeding the birds in captivity and placing their eggs in wild nests.\\nNovice climbers, circa mid-1950s\\nAfter a member of the falconry club began teaching Chouinard about climbing, he tried rappelling for the first time. Due to a lack of gear like ATCs, harnesses, or even Swami belts (primitive and early iterations of harnesses fashioned from webbing), his rap setup was beyond sketchy. Gelles describes Chouinard\\u2019s rappel system as follows: \\u201cwrapping the rope around his waist and over his shoulder.\\u201d He loved the \\u201cfeeling of dangling from a rope, bouncing off the face of a cliff, feeling like a Slinky flipping down a set of stairs.\\u201d\\nShortly thereafter, Chouinard took his first-ever climbing trip to Wyoming\\u2019s Wind River Range. Still very much a novice, he decided to attempt a summit of Gannett Peak, Wyoming\\u2019s highest mountain. He reached the summit despite his decidedly non-technical Sears Roebuck work boots and outran a storm on the descent. From there, he headed to the Tetons. Luckily, old pros like Royal Robbins and Tom Frost took him on as a mentee.\\nYvon Chouinard (right) climbing with Tom Frost (left) on Sespe Wall in Ojai, CA, 1974 (Photo: Gary Regester / Courtesy of Patagonia)\\nTrappings of a dirtbag\\nForget the sleep setup in the trunk of your Honda Civic or cans of beans for dinner. Without a real tent, Chouinard improvised his sleep setup with \\u201can old shower curtain,\\u201d writes Gelles. Homeless in the Tetons, he seasonally took up residence \\u201cin an abandoned incinerator on the banks of Jenny Lake.\\u201d His diet often consisted of \\u201cporcupines, grouse, and squirrels,\\u201d plus any fish he could catch. And as the story goes, he also ate cat food straight from the can. Along with dirtbag buddy Ken Weeks, Chouinard purchased a case of dented cat food at the price of five cents a can. They ate the cat food \\u201cover the course of a summer,\\u201d according to Gelles. \\u201cI was a dirtbag climber,\\u201d Chouinard told Gelles, \\u201cI had no money whatsoever.&#8221;\\nChouinard also enjoyed van life far before it was cool. In 1968, he and his adventure buddy Doug Tompkins outfitted a 1965 Ford Econoline van with a sleeping platform and shelves to stash all their climb, ski, surf, and fishing gear. Declaring themselves the \\u201cFun Hogs\\u201d (their goal was to \\u201chog fun\\u201d), they booked it south from California to Patagonia. It took them four months to reach their destination, but they weren\\u2019t in a hurry.\\nScares\\nLike many bold climbers of his era, Chouinard was no stranger to scares. Chalk it up to a combination of pushing the sport\\u2019s limits and inadequate gear. In the Tetons, for example, Chouinard tried for a first ascent of the Crooked Thumb. Run-out and tired, Chouinard reached for a hold that broke. He fell 160 feet before the rope caught his fall, leaving him with a bone-deep cut to his leg.\\nOn that fateful Patagonia road trip in 1968, Chouinard, Tompkins, Chris Jones, and Dick Dorworth spent 31 days stuck in an ice cave on Cerro Chalt\\u00e9n (you can read a firsthand account of that frigid month from Dorworth here). Chouinard slashed his knee open while chopping ice and celebrated his 30th birthday nursing it in the cave. To pass the time, he read Joseph Campbell\\u2019s The Hero With a Thousand Faces. After a month of suffering, they finally got a weather window and summited Cerro Chalt\\u00e9n on December 20, 1968, making the third successful ascent.\\nOver a decade later, in 1980, Chouinard participated in an expedition to summit Minya Konka (24,800 feet) in the Himalaya. While glissading down from Camp II, an avalanche struck, sending Chouinard, Rick Ridgeway, Jonathan Wright, and Kim Schmitz on a quarter-mile ride over a 30-foot cliff. Schmitz got tangled in the rope and broke his back, while Wright broke his neck and died moments later. The incident complicated Chouinard\\u2019s perspective on alpine objectives \\u201cfor years,\\u201d according to Gelles. \\u201cFuck these mountains,\\u201d he said to Ridgeway on the hike out.\\nFirst ascents in South Korea\\nChouinard reportedly drank an entire bottle of soy sauce in an effort to spike his blood pressure and evade a draft for the Korean War. It didn\\u2019t work, so he begrudgingly deployed to Seoul in 1962. According to Chouinard himself, he was such a pain in the ass in the service that his sole job became to power off and on a generator. By day, Gelle writes that he \\u201cwandered off base and found granite walls to climb around Seoul,\\u201d where he made a number of first ascents.\\nDIY before YouTube\\nChouinard embarked on his gear career, with no engineering degree, no apprenticeships, and zero formal education in product design. Instead, he checked out a book on blacksmithing from his local library and got to work on his first project: improving the piton.\\nOver time, he became proficient enough in forging steel to produce two pitons per hour. He sold his pitons for $1.50 a pop, considerably more than the going price in Europe of 15 to 30 cents per piton. But the Europeans were forging their pitons from iron, which was softer and therefore less durable than Chouinard\\u2019s steel variety. With the harder metal, Chouinard\\u2019s pitons could be removed from a placement in rock \\u201cwithout getting deformed,\\u201d writes Gelles. Chouinard argued that their reusability made them worth the higher rate.\\nMisadventures in fixed gear\\nWhen Chouinard went climbing and his handmade pitons wouldn\\u2019t fit in the cracks, he came home and tinkered with them. This didn\\u2019t always work out. For example, to attempt a finger crack on Yosemite\\u2019s Kat Pinnacle, he broke the end off a power hacksaw blade and threaded a sling through the blade\\u2019s hole. On a 1960 attempt on Kat Pinnacle with Tom Frost\\u2014who later became his business partener\\u2014they tried hammering this improvised gear into a crack, but \\u201cit shattered into pieces,\\u201d according to Gelles. After bailing, Chouinard set about inventing the razor-thin, steel-fashioned RURP: the Realized Ultimate Reality Piton.\\nIn the mid \\u201860s, The North Face was one of the first brick-and-mortar spots where Chouinard\\u2019s pitons, carabiners, and other gear could be purchased. Founded by Chouinard\\u2019s adventure buddy Doug Tompkins, The North Face was an eclectic retailer of \\u201coutdoor gear and knickknacks,\\u201d as Gelles describes it.\\nRight brain tinkerer\\nDespite the technical nature of his products, Chouinard is more of an artist than an engineer, according to his contemporary, Royal Robbins. To this end, Gelles includes a beautiful quote from Robbins about Chouinard: \\u201cA poetic soul, Chouinard really rather disdains the analytical mind, for he hates to see beautiful things ripped and torn. He has the kind of mind which would make a good artist but a poor chess player. Maddeningly creative, Chouinard has invented more techniques and devices in climbing than anyone I know.\\u201d\\nTogether, Robbins and Chouinard, along with Tom Frost and Chuck Pratt, made the first ascent of the North America Wall in 1964, topping out on the day before Halloween.\\nChouinard teaching Gelles to fish on Wyoming&#8217;s Snake River (Photo: David Gelles)\\nCrusty at heart\\nFor all his generosity and vision, Chouinard is not always portrayed by Gelles as a warm or welcoming soul when it comes to other humans. He notes that some climbers characterize Chouinard as \\u201celitist.\\u201d With his dedication to the preservation of Yosemite and other wild landscapes, \\u201che at one point proposed limiting climbing in the Valley to only the best, creating an invitation-only Yosemite Climbing Club,\\u201d says Gelles. Though he\\u2019d been mentored himself, he \\u201chad little patience for neophytes or weak athletes, and at times equated physical fitness with moral superiority.\\u201d\\nWhether you think that\\u2019s completely cringe or just Stonemaster-style crustiness typical of the era, Dirtbag Billionaire doesn\\u2019t shy away from Chouinard\\u2019s flaws. Gelles avoids lionizing Patagonia\\u2019s leader, describing Chouinard\\u2019s mercurial leadership style that often bewildered his staff at Patagonia.\\nThe invention of \\u201cclean climbing\\u201d\\nIn keeping with his environmental ethos, Chouinard set his sights on optimizing an even more reusable piece of gear than the piton: the chock, now known as the nut. To precipitate the shift from pitons to chocks, Chouinard coined the phrase \\u201cclean climbing.\\u201d In a catalog peddling his chocks, Chouinard published an essay by California mountaineer Doug Robinson. \\u201cClimbing with only nuts and runners for protection is clean climbing. Clean because the rock is left unaltered by the passing climber,\\u201d Robinson wrote.\\nIn the intro to that catalogue, Chouinard and Frost promoted the paramount importance of style. \\u201cIt is the style of the climb, not the attainment of the summit, which is the measure of personal success,\\u201d they wrote.\\nDirtbag Billionaire was published on September 2 by Simon &amp; Schuster. It\\u2019s available wherever books are sold.\",\n",
      "  \"category_name\": \"Culture\",\n",
      "  \"denormalized_tags\": [\n",
      "    \"evergreen\",\n",
      "    \"Patagonia\",\n",
      "    \"Yosemite\",\n",
      "    \"Yvon Chouinard\"\n",
      "  ],\n",
      "  \"evergreen\": true,\n",
      "  \"item_url\": \"https://www.climbing.com/culture-climbing/dirtbag-billionaire-yvon-chouinard/\",\n",
      "  \"item_created_at\": \"2025-10-12 04:00:04.000000 +00:00\"\n",
      "}\n"
     ]
    }
   ],
   "execution_count": 3
  },
  {
   "cell_type": "markdown",
   "metadata": {},
   "source": [
    "## 4. Connect to Pinecone\n",
    "\n",
    "Using Pinecone Serverless (free tier available in us-east-1)"
   ]
  },
  {
   "cell_type": "code",
   "metadata": {
    "ExecuteTime": {
     "end_time": "2025-10-21T16:22:55.748334Z",
     "start_time": "2025-10-21T16:22:55.215843Z"
    }
   },
   "source": [
    "from pinecone import Pinecone, ServerlessSpec\n",
    "\n",
    "PINECONE_API_KEY = os.getenv(\"PINECONE_API_KEY\")\n",
    "\n",
    "# Initialize Pinecone client\n",
    "pc = Pinecone(api_key=PINECONE_API_KEY)\n",
    "\n",
    "print(\"✓ Connected to Pinecone\")\n",
    "print(f\"  - Existing indexes: {pc.list_indexes().names()}\")"
   ],
   "outputs": [
    {
     "name": "stdout",
     "output_type": "stream",
     "text": [
      "✓ Connected to Pinecone\n",
      "  - Existing indexes: []\n"
     ]
    }
   ],
   "execution_count": 5
  },
  {
   "cell_type": "markdown",
   "metadata": {},
   "source": "## 5. Create or Get Index\n\nPinecone Serverless index creation.\n\n**Note on Metadata Indexing (Oct 21, 2025):**  \nPinecone has a new [Metadata Indexing](https://docs.pinecone.io/guides/index-data/create-an-index#metadata-indexing) feature that allows you to specify filterable fields upfront for better performance. However, this feature is currently in **early access** and not widely available yet. We'll use the default metadata filtering approach instead, which works for all metadata fields automatically."
  },
  {
   "cell_type": "code",
   "metadata": {
    "ExecuteTime": {
     "end_time": "2025-10-21T16:40:51.310339Z",
     "start_time": "2025-10-21T16:40:30.228306Z"
    }
   },
   "source": [
    "INDEX_NAME = \"articles\"\n",
    "\n",
    "# Check if index exists\n",
    "existing_indexes = pc.list_indexes().names()\n",
    "\n",
    "if INDEX_NAME in existing_indexes:\n",
    "    print(f\"Index '{INDEX_NAME}' already exists\")\n",
    "    \n",
    "    # Get index object\n",
    "    index = pc.Index(INDEX_NAME)\n",
    "    \n",
    "    # Get stats\n",
    "    stats = index.describe_index_stats()\n",
    "    vector_count = stats.get('total_vector_count', 0)\n",
    "    \n",
    "    print(f\"✓ Using existing index: {INDEX_NAME}\")\n",
    "    print(f\"  - Current count: {vector_count} vectors\")\n",
    "    \n",
    "    # Ask user if they want to delete and recreate\n",
    "    recreate = input(\"\\nDo you want to delete and recreate? (y/n): \").lower().strip()\n",
    "    if recreate == 'y':\n",
    "        pc.delete_index(INDEX_NAME)\n",
    "        print(f\"✓ Deleted index: {INDEX_NAME}\")\n",
    "        existing_indexes.remove(INDEX_NAME)\n",
    "\n",
    "# Create index if it doesn't exist\n",
    "if INDEX_NAME not in existing_indexes:\n",
    "    print(f\"Creating new serverless index: {INDEX_NAME}\")\n",
    "    \n",
    "    # Create serverless index\n",
    "    # Note: Using default metadata filtering (no schema parameter needed)\n",
    "    # All metadata fields are automatically filterable\n",
    "    pc.create_index(\n",
    "        name=INDEX_NAME,\n",
    "        dimension=384,  # all-MiniLM-L6-v2 dimensions\n",
    "        metric=\"cosine\",\n",
    "        spec=ServerlessSpec(\n",
    "            cloud=\"aws\",\n",
    "            region=\"us-east-1\"  # Free tier region\n",
    "        ),\n",
    "        deletion_protection=\"disabled\"\n",
    "    )\n",
    "    \n",
    "    # Wait for index to be ready\n",
    "    print(\"\\nWaiting for index to be ready...\")\n",
    "    while not pc.describe_index(INDEX_NAME).status['ready']:\n",
    "        time.sleep(1)\n",
    "    print(\"✓ Index is ready!\")\n",
    "    \n",
    "    # Get index object\n",
    "    index = pc.Index(INDEX_NAME)"
   ],
   "outputs": [
    {
     "name": "stdout",
     "output_type": "stream",
     "text": [
      "Creating new serverless index: articles\n",
      "\n",
      "Waiting for index to be ready...\n",
      "✓ Index is ready!\n"
     ]
    }
   ],
   "execution_count": 7
  },
  {
   "cell_type": "markdown",
   "metadata": {},
   "source": [
    "## 6. Generate Embeddings and Upsert Data\n",
    "\n",
    "Process articles in batches, matching the approach used in other notebooks"
   ]
  },
  {
   "cell_type": "code",
   "metadata": {
    "ExecuteTime": {
     "end_time": "2025-10-21T16:42:38.482468Z",
     "start_time": "2025-10-21T16:42:35.839823Z"
    }
   },
   "source": [
    "# Check current count\n",
    "stats = index.describe_index_stats()\n",
    "current_count = stats.get('total_vector_count', 0)\n",
    "\n",
    "\n",
    "# Process in batches - same approach as other notebooks\n",
    "BATCH_SIZE = 20\n",
    "total_articles = len(articles)\n",
    "\n",
    "print(f\"Processing {total_articles} articles in batches of {BATCH_SIZE}...\\n\")\n",
    "\n",
    "start_time = time.time()\n",
    "\n",
    "from tqdm.auto import tqdm\n",
    "\n",
    "for i in tqdm(range(0, total_articles, BATCH_SIZE), desc=\"Inserting batches\"):\n",
    "    batch = articles[i:i + BATCH_SIZE]\n",
    "\n",
    "    # Generate embeddings for batch - same as other notebooks\n",
    "    texts = [\n",
    "        f\"Title: {a['item_title']}\\nSubtitle: {a.get('item_subtitle', '')}\\nContent: {a['body_content'][:500]}\"\n",
    "        for a in batch\n",
    "    ]\n",
    "    embeddings = embedding_model.embed_batch(texts, show_progress=False)\n",
    "\n",
    "    # Prepare metadata - use \"pinecone\" to get timestamps\n",
    "    metadatas = [get_article_metadata(a, db_type=\"pinecone\") for a in batch]\n",
    "\n",
    "    # Prepare vectors for Pinecone\n",
    "    vectors = []\n",
    "    for metadata, embedding in zip(metadatas, embeddings):\n",
    "        # Pinecone format: (id, values, metadata)\n",
    "        vector = {\n",
    "            \"id\": f\"article_{metadata['id']}\",\n",
    "            \"values\": embedding.tolist(),\n",
    "            \"metadata\": {\n",
    "                \"title\": metadata[\"title\"],\n",
    "                \"subtitle\": metadata[\"subtitle\"],\n",
    "                \"category\": metadata[\"category\"],\n",
    "                \"source\": metadata[\"source\"],\n",
    "                \"tags\": metadata[\"tags\"],  # Stored as string in Pinecone\n",
    "                \"evergreen\": metadata[\"evergreen\"],\n",
    "                \"url\": metadata[\"url\"],\n",
    "                \"created_at\": metadata[\"created_at\"]  # Unix Timestamp (int)\n",
    "            }\n",
    "        }\n",
    "        vectors.append(vector)\n",
    "\n",
    "    # Upsert batch into Pinecone\n",
    "    index.upsert(vectors=vectors)\n",
    "\n",
    "elapsed_time = time.time() - start_time\n",
    "\n",
    "# Get updated count\n",
    "stats = index.describe_index_stats()\n",
    "final_count = stats.get('total_vector_count', 0)\n",
    "\n",
    "print(f\"\\n✓ Successfully inserted {total_articles} articles\")\n",
    "print(f\"  - Time taken: {elapsed_time:.2f} seconds\")\n",
    "print(f\"  - Average: {elapsed_time/total_articles:.2f} seconds per article\")\n",
    "print(f\"  - Index vector count: {final_count}\")"
   ],
   "outputs": [
    {
     "name": "stdout",
     "output_type": "stream",
     "text": [
      "Processing 100 articles in batches of 20...\n",
      "\n"
     ]
    },
    {
     "data": {
      "text/plain": [
       "Inserting batches:   0%|          | 0/5 [00:00<?, ?it/s]"
      ],
      "application/vnd.jupyter.widget-view+json": {
       "version_major": 2,
       "version_minor": 0,
       "model_id": "6803c164fabe4804a57de922ca595c6c"
      }
     },
     "metadata": {},
     "output_type": "display_data"
    },
    {
     "name": "stdout",
     "output_type": "stream",
     "text": [
      "\n",
      "✓ Successfully inserted 100 articles\n",
      "  - Time taken: 2.06 seconds\n",
      "  - Average: 0.02 seconds per article\n",
      "  - Index vector count: 0\n"
     ]
    }
   ],
   "execution_count": 8
  },
  {
   "cell_type": "markdown",
   "metadata": {},
   "source": [
    "## 7. Basic Semantic Search\n",
    "\n",
    "Search using vector similarity"
   ]
  },
  {
   "cell_type": "code",
   "metadata": {
    "ExecuteTime": {
     "end_time": "2025-10-21T16:43:38.480132Z",
     "start_time": "2025-10-21T16:43:38.358040Z"
    }
   },
   "source": [
    "# Test query - SAME AS OTHER NOTEBOOKS\n",
    "query_text = \"Most haunted hikes in the US\"\n",
    "\n",
    "print(f\"Query: '{query_text}'\\n\")\n",
    "\n",
    "# Generate query embedding\n",
    "query_embedding = embedding_model.embed_text(query_text)\n",
    "\n",
    "# Perform search\n",
    "results = index.query(\n",
    "    vector=query_embedding.tolist(),\n",
    "    top_k=5,\n",
    "    include_metadata=True\n",
    ")\n",
    "\n",
    "print(f\"Top {len(results['matches'])} results:\\n\")\n",
    "for i, match in enumerate(results['matches']):\n",
    "    # Pinecone returns score (higher = more similar for COSINE)\n",
    "    score = match['score']\n",
    "    metadata = match['metadata']\n",
    "    \n",
    "    print(f\"{i+1}. {metadata['title'][:70]}...\")\n",
    "    print(f\"   Category: {metadata['category']} | Source: {metadata['source']}\")\n",
    "    print(f\"   Score: {score:.4f}\")\n",
    "    print(f\"   URL: {metadata['url']}...\")"
   ],
   "outputs": [
    {
     "name": "stdout",
     "output_type": "stream",
     "text": [
      "Query: 'Most haunted hikes in the US'\n",
      "\n",
      "Top 5 results:\n",
      "\n",
      "1. 13 of the Most Haunted Hikes in the U.S....\n",
      "   Category: Destinations | Source: OUTSIDE\n",
      "   Score: 0.8054\n",
      "   URL: https://www.outsideonline.com/adventure-travel/destinations/haunted-hikes/...\n",
      "2. A Missing Dog Helped a Stranded Hiker Return to Shadow Mountain Trail....\n",
      "   Category: Hiking | Source: OUTSIDE\n",
      "   Score: 0.4575\n",
      "   URL: https://www.outsideonline.com/outdoor-adventure/hiking-and-backpacking/arizona-lost-hiker-missing-dog-shadow-mountain/...\n",
      "3. An Inside Look at Outside’s 2025 Winter Editors’ Choice Testing Trip...\n",
      "   Category: Gear | Source: OUTSIDE\n",
      "   Score: 0.3667\n",
      "   URL: https://www.outsideonline.com/outdoor-gear/winter-editors-choice-trip-maine/...\n",
      "4. Two Hikers in British Columbia Were Hospitalized After a Grizzly Sow A...\n",
      "   Category: Hiking | Source: OUTSIDE\n",
      "   Score: 0.3366\n",
      "   URL: https://www.outsideonline.com/outdoor-adventure/hiking-and-backpacking/two-hikers-in-british-columbia-were-hospitalized-after-a-grizzly-sow-attack/...\n",
      "5. Why Does Washington Have So Many Climbing Accidents? A Mountain Rescue...\n",
      "   Category: Skills | Source: CLIMBING\n",
      "   Score: 0.3364\n",
      "   URL: https://www.climbing.com/skills/washington-climbing-accidents/...\n"
     ]
    }
   ],
   "execution_count": 9
  },
  {
   "cell_type": "markdown",
   "metadata": {},
   "source": [
    "## 8. Metadata Filtering - Category\n",
    "\n",
    "Pinecone's metadata filtering syntax"
   ]
  },
  {
   "cell_type": "code",
   "metadata": {
    "ExecuteTime": {
     "end_time": "2025-10-21T16:44:27.494343Z",
     "start_time": "2025-10-21T16:44:27.384943Z"
    }
   },
   "source": [
    "# Filter by category - SAME AS OTHER NOTEBOOKS\n",
    "query_text = \"Women's Ironman World Championship\"\n",
    "target_category = \"News\"\n",
    "\n",
    "print(f\"Query: '{query_text}'\")\n",
    "print(f\"Filter: category = '{target_category}'\\n\")\n",
    "\n",
    "# Generate query embedding\n",
    "query_embedding = embedding_model.embed_text(query_text)\n",
    "\n",
    "# Search with metadata filter\n",
    "results = index.query(\n",
    "    vector=query_embedding.tolist(),\n",
    "    top_k=5,\n",
    "    filter={\n",
    "        \"category\": {\"$eq\": target_category}\n",
    "    },\n",
    "    include_metadata=True\n",
    ")\n",
    "\n",
    "print(f\"Top 5 Results (Category: {target_category}):\\n\")\n",
    "for i, match in enumerate(results['matches']):\n",
    "    score = match['score']\n",
    "    metadata = match['metadata']\n",
    "    \n",
    "    print(f\"{i+1}. {metadata['title'][:70]}...\")\n",
    "    print(f\"   Category: {metadata['category']} | Source: {metadata['source']}\")\n",
    "    print(f\"   Created: {metadata['created_at']}\")\n",
    "    print(f\"   Score: {score:.4f}\")"
   ],
   "outputs": [
    {
     "name": "stdout",
     "output_type": "stream",
     "text": [
      "Query: 'Women's Ironman World Championship'\n",
      "Filter: category = 'News'\n",
      "\n",
      "Top 5 Results (Category: News):\n",
      "\n",
      "1. After Joy of Women's-Only Ironman World Championship, Grief Sets In...\n",
      "   Category: News | Source: TRIATHLETE\n",
      "   Created: 1760296873.0\n",
      "   Score: 0.7764\n",
      "2. What a Race! Here's Where the Ironman Pro Series Stands After the Iron...\n",
      "   Category: News | Source: TRIATHLETE\n",
      "   Created: 1760352009.0\n",
      "   Score: 0.6456\n",
      "3. The Fastest Shoes at 2025 Ironman World Championship Kona...\n",
      "   Category: News | Source: TRIATHLETE\n",
      "   Created: 1760353908.0\n",
      "   Score: 0.6184\n",
      "4. The DNF Files: 2025 Ironman World Championship Kona...\n",
      "   Category: News | Source: TRIATHLETE\n",
      "   Created: 1760441445.0\n",
      "   Score: 0.5915\n",
      "5. In Sweltering Conditions, Norway’s Solveig Løvseth Takes 2025 Ironman ...\n",
      "   Category: News | Source: TRIATHLETE\n",
      "   Created: 1760160735.0\n",
      "   Score: 0.5609\n"
     ]
    }
   ],
   "execution_count": 10
  },
  {
   "cell_type": "markdown",
   "metadata": {},
   "source": [
    "## 9. Metadata Filtering - Date Range\n",
    "\n",
    "Filter by timestamp (stored as integers)"
   ]
  },
  {
   "cell_type": "code",
   "metadata": {
    "ExecuteTime": {
     "end_time": "2025-10-21T16:44:59.162183Z",
     "start_time": "2025-10-21T16:44:59.054028Z"
    }
   },
   "source": [
    "from utils.date_utils import date_string_to_timestamp, timestamp_to_datetime_string\n",
    "\n",
    "# Filter by date - SAME AS OTHER NOTEBOOKS\n",
    "query_text = \"cycling deals\"\n",
    "cutoff_date = \"2025-10-08\"\n",
    "\n",
    "print(f\"Query: '{query_text}'\")\n",
    "print(f\"Filter: created_at >= '{cutoff_date}'\\n\")\n",
    "\n",
    "# Generate query embedding\n",
    "query_embedding = embedding_model.embed_text(query_text)\n",
    "\n",
    "# Convert date to timestamp for Pinecone\n",
    "cutoff_timestamp = date_string_to_timestamp(cutoff_date)\n",
    "\n",
    "# Search with date filter\n",
    "results = index.query(\n",
    "    vector=query_embedding.tolist(),\n",
    "    top_k=5,\n",
    "    filter={\n",
    "        \"created_at\": {\"$gte\": cutoff_timestamp}\n",
    "    },\n",
    "    include_metadata=True\n",
    ")\n",
    "\n",
    "print(f\"Top 5 Recent Results (after {cutoff_date}):\\n\")\n",
    "for i, match in enumerate(results['matches']):\n",
    "    score = match['score']\n",
    "    metadata = match['metadata']\n",
    "    created_str = timestamp_to_datetime_string(metadata['created_at'])\n",
    "    \n",
    "    print(f\"{i+1}. {metadata['title']}\")\n",
    "    print(f\"   Category: {metadata['category']}\")\n",
    "    print(f\"   Created: {created_str}\")\n",
    "    print(f\"   Tags: {metadata.get('tags', 'No tags')}\")"
   ],
   "outputs": [
    {
     "name": "stdout",
     "output_type": "stream",
     "text": [
      "Query: 'cycling deals'\n",
      "Filter: created_at >= '2025-10-08'\n",
      "\n",
      "Top 5 Recent Results (after 2025-10-08):\n",
      "\n",
      "1. Opinion: Cycling's Soccer-Inspired Relegation System Is a Hot Mess That Solves Nothing\n",
      "   Category: Road Racing\n",
      "   Created: 2025-10-15 22:42:10\n",
      "   Tags: Analysis, ASO, Cofidis, Tour de France, Tour de Hoody\n",
      "2. Deal: Tailwind Endurance Fuel Is the Cycling Nutrition I Actually Use\n",
      "   Category: Road Gear\n",
      "   Created: 2025-10-13 04:30:52\n",
      "   Tags: Velo Deals\n",
      "3. Pogačar's Bonuses and Brand Deals Revealed: Inside His $14 Million Pay Check\n",
      "   Category: Road Racing\n",
      "   Created: 2025-10-13 20:39:12\n",
      "   Tags: Alex Carera, Remco Evenepoel, Tadej Pogačar, Transfers, UAE Emirates\n",
      "4. Shop Evo's Anniversary Sale and Save up to 50% on Ski, Snowboard, and MTB Gear\n",
      "   Category: Gear News\n",
      "   Created: 2025-10-14 03:53:27\n",
      "   Tags: Commerce, Deals\n",
      "5. Deal: One of the Best Headphones for Cycling Is 50% Off\n",
      "   Category: Road Gear\n",
      "   Created: 2025-10-15 05:12:34\n",
      "   Tags: headphones, Velo Deals\n"
     ]
    }
   ],
   "execution_count": 11
  },
  {
   "cell_type": "markdown",
   "metadata": {},
   "source": [
    "## 10. Combined Filters - Evergreen + Date\n",
    "\n",
    "Pinecone supports combining filters with $and operator"
   ]
  },
  {
   "cell_type": "code",
   "metadata": {
    "ExecuteTime": {
     "end_time": "2025-10-21T16:46:10.555950Z",
     "start_time": "2025-10-21T16:46:10.141048Z"
    }
   },
   "source": [
    "# Combine multiple filters - SAME AS OTHER NOTEBOOKS\n",
    "query_text = \"Halloween outdoor activities\"\n",
    "cutoff_date = \"2025-10-09\"\n",
    "\n",
    "print(f\"Query: '{query_text}'\")\n",
    "print(f\"Filters:\")\n",
    "print(f\"  - evergreen = True (timeless content)\")\n",
    "print(f\"  - created_at >= '{cutoff_date}'\\n\")\n",
    "\n",
    "# Generate query embedding\n",
    "query_embedding = embedding_model.embed_text(query_text)\n",
    "\n",
    "# Convert date to timestamp\n",
    "cutoff_timestamp = date_string_to_timestamp(cutoff_date)\n",
    "\n",
    "# Combine filters with $and\n",
    "combined_filter = {\n",
    "    \"$and\": [\n",
    "        {\"evergreen\": {\"$eq\": True}},\n",
    "        {\"created_at\": {\"$gte\": cutoff_timestamp}}\n",
    "    ]\n",
    "}\n",
    "\n",
    "# Search with combined filters\n",
    "results = index.query(\n",
    "    vector=query_embedding.tolist(),\n",
    "    top_k=10,  # Increased to 10 since evergreen articles might be fewer\n",
    "    filter=combined_filter,\n",
    "    include_metadata=True\n",
    ")\n",
    "\n",
    "if results['matches']:\n",
    "    print(f\"Top Evergreen Results (After {cutoff_date}):\\n\")\n",
    "    for i, match in enumerate(results['matches']):\n",
    "        score = match['score']\n",
    "        metadata = match['metadata']\n",
    "        created_str = timestamp_to_datetime_string(metadata['created_at'])\n",
    "        \n",
    "        print(f\"{i+1}. {metadata['title'][:70]}...\")\n",
    "        print(f\"   Category: {metadata['category']} | Evergreen: {metadata['evergreen']}\")\n",
    "        print(f\"   Tags: {metadata.get('tags', 'No tags')}\")\n",
    "        print(f\"   Created: {created_str}\")\n",
    "    print(f\"\\nTotal results: {len(results['matches'])}\")\n",
    "else:\n",
    "    print(\"No evergreen articles found after this date.\")"
   ],
   "outputs": [
    {
     "name": "stdout",
     "output_type": "stream",
     "text": [
      "Query: 'Halloween outdoor activities'\n",
      "Filters:\n",
      "  - evergreen = True (timeless content)\n",
      "  - created_at >= '2025-10-09'\n",
      "\n",
      "Top Evergreen Results (After 2025-10-09):\n",
      "\n",
      "1. 13 of the Most Haunted Hikes in the U.S....\n",
      "   Category: Destinations | Evergreen: True\n",
      "   Tags: evergreen, Halloween, Hiking\n",
      "   Created: 2025-10-16 04:22:41\n",
      "2. The Thule Outset Hitch-Mounted Tent Turns Your Car Into a Campsite on ...\n",
      "   Category: Camping | Evergreen: True\n",
      "   Tags: 2025 Gear Reviews, Car Camping, Car Racks, Commerce, evergreen\n",
      "   Created: 2025-10-14 03:30:11\n",
      "3. The Best Daypacks for Every Kind of Hiker (2025)...\n",
      "   Category: Daypacks | Evergreen: True\n",
      "   Tags: 2025 Gear Reviews, 2025 Summer Gear Guide, backpack, Commerce, Day Packs\n",
      "   Created: 2025-10-16 04:31:44\n",
      "4. Everything You Need To Know Before Skiing Telluride For The First Time...\n",
      "   Category: Resort Skiing | Evergreen: True\n",
      "   Tags: evergreen, Telluride Ski Resort\n",
      "   Created: 2025-10-13 07:39:24\n",
      "5. He’s Hunted for Elk for 40 Years but Hasn’t Killed a Single One. And T...\n",
      "   Category: Environment | Evergreen: True\n",
      "   Tags: Adventure, Colorado, evergreen, Hunting, Long Reads\n",
      "   Created: 2025-10-14 22:05:17\n",
      "6. Can I Bring Chalk in My Carry-on? What TSA Actually Allows (and What T...\n",
      "   Category: Travel | Evergreen: True\n",
      "   Tags: evergreen\n",
      "   Created: 2025-10-14 01:00:38\n",
      "7. The Best Cross-Country Boots and Accessories of 2026...\n",
      "   Category: Snow Sports | Evergreen: True\n",
      "   Tags: 2025 Gear Reviews, 2026 Winter Gear Guide, Commerce, Cross-Country Ski Boots, evergreen\n",
      "   Created: 2025-10-14 03:00:47\n",
      "8. Tusayan is Your Launchpad to Grand Adventures...\n",
      "   Category: Gateway Towns | Evergreen: True\n",
      "   Tags: evergreen\n",
      "   Created: 2025-10-14 05:40:31\n",
      "9. Prone to Falling on Trail? These Exercises Will Help Prevent Injury....\n",
      "   Category: Backpacking Fitness | Evergreen: True\n",
      "   Tags: evergreen\n",
      "   Created: 2025-10-15 04:19:09\n",
      "10. Pumpkin Is an Anti-Inflammatory Superfood—Here’s Why You Should Eat Mo...\n",
      "   Category: Nutrition | Evergreen: True\n",
      "   Tags: evergreen, Food, Inflammation, Nutrition\n",
      "   Created: 2025-10-15 18:29:46\n",
      "\n",
      "Total results: 10\n"
     ]
    }
   ],
   "execution_count": 12
  },
  {
   "cell_type": "markdown",
   "metadata": {},
   "source": [
    "## 11. Performance Summary\n",
    "\n",
    "Standardized benchmark across all vector databases"
   ]
  },
  {
   "cell_type": "code",
   "metadata": {
    "ExecuteTime": {
     "end_time": "2025-10-21T16:46:44.087780Z",
     "start_time": "2025-10-21T16:46:43.434595Z"
    }
   },
   "source": [
    "from utils.benchmark import benchmark_queries\n",
    "\n",
    "# Define query function for Pinecone\n",
    "def pinecone_query_fn(query_text: str):  \n",
    "    \"\"\"Query function for Pinecone benchmarking.\"\"\"\n",
    "    query_embedding = embedding_model.embed_text(query_text)\n",
    "    return index.query(\n",
    "        vector=query_embedding.tolist(),\n",
    "        top_k=10,\n",
    "        include_metadata=True\n",
    "    )\n",
    "\n",
    "# Run standardized benchmark\n",
    "results = benchmark_queries(pinecone_query_fn)\n",
    "\n",
    "# Get index stats\n",
    "stats = index.describe_index_stats()\n",
    "print(f\"\\nIndex Statistics:\")\n",
    "print(f\"  - Total vectors: {stats.get('total_vector_count', 0)}\")\n",
    "print(f\"  - Vector dimensions: 384\")\n",
    "print(f\"  - Distance metric: cosine\")\n",
    "print(f\"  - Cloud: AWS us-east-1 (serverless)\")"
   ],
   "outputs": [
    {
     "name": "stdout",
     "output_type": "stream",
     "text": [
      "Running performance benchmark...\n",
      "\n",
      "'outdoor hiking adventures' -> 107.7ms\n",
      "'cycling race performance' -> 99.8ms\n",
      "'travel destinations and tips' -> 97.6ms\n",
      "'fitness training techniques' -> 127.5ms\n",
      "'gear reviews and recommendations' -> 99.0ms\n",
      "\n",
      "Performance Summary:\n",
      "  - Average query time: 106.3ms\n",
      "  - Min query time: 97.6ms\n",
      "  - Max query time: 127.5ms\n",
      "\n",
      "Index Statistics:\n",
      "  - Total vectors: 100\n",
      "  - Vector dimensions: 384\n",
      "  - Distance metric: cosine\n",
      "  - Cloud: AWS us-east-1 (serverless)\n"
     ]
    }
   ],
   "execution_count": 13
  },
  {
   "cell_type": "markdown",
   "metadata": {},
   "source": "## 12. Key Takeaways - Pinecone\n\n### ✅ Strengths\n1. **Serverless Architecture** - Zero infrastructure management\n2. **Simple API** - Clean, intuitive Python client\n3. **Enterprise-Grade** - Production-ready with SLAs\n4. **Auto-Scaling** - Handles traffic spikes automatically\n5. **Metadata Filtering** - Powerful filter syntax ($eq, $gte, $and, $or)\n6. **Free Tier** - Generous limits for prototyping (us-east-1)\n7. **High Performance** - Optimized for low-latency queries\n8. **Multi-Cloud** - AWS, GCP, Azure support\n\n### ⚠️ Considerations\n1. **Free Tier Region** - Limited to us-east-1 on free plan\n2. **Metadata Indexing** - New feature in early access (not used in this demo)\n3. **No Native Arrays** - Tags stored as comma-separated strings\n4. **Timestamps Only** - No native date type (use INT64)\n5. **Costs** - Can get expensive at scale (monitor usage)\n\n### 🎯 Best For\n- **Production AI apps** - Reliable, scalable, managed service\n- **Serverless workloads** - Auto-scaling, pay-per-use\n- **Simple deployments** - Easy setup, no infrastructure\n- **Global apps** - Multi-cloud, multi-region support\n- **Startups** - Quick to launch, easy to scale\n\n### 📊 Comparison Notes\n- **vs Chroma**: More enterprise features, better scaling, serverless\n- **vs Qdrant**: Simpler API, serverless, but less flexible metadata\n- **vs Weaviate**: No hybrid search, simpler schema, fully managed\n- **vs Milvus/Zilliz**: Simpler expressions, serverless, easier setup\n\n### 💡 Unique Pinecone Features\n1. **True serverless** - Auto-scaling without pods/nodes\n2. **Simple filter syntax** - MongoDB-style operators ($eq, $gte, $and)\n3. **Multi-cloud** - Deploy to AWS, GCP, or Azure\n4. **Production SLAs** - Enterprise-grade reliability\n5. **Easy migration** - Simple import/export tools\n6. **Metadata Indexing** - Early access feature for performance optimization\n\n### 🏆 When Pinecone is the Best Choice\nUse Pinecone when you need:\n- Zero infrastructure management (true serverless)\n- Production-grade reliability with SLAs\n- Simple API without complex configuration\n- Auto-scaling for unpredictable traffic\n- Quick time-to-market\n\n### 💻 Filter Examples\n```python\n# Equality filter\nfilter={\"category\": {\"$eq\": \"News\"}}\n\n# Range filter\nfilter={\"created_at\": {\"$gte\": timestamp}}\n\n# Combined filters (AND)\nfilter={\n    \"$and\": [\n        {\"evergreen\": {\"$eq\": True}},\n        {\"created_at\": {\"$gte\": timestamp}}\n    ]\n}\n\n# Combined filters (OR)\nfilter={\n    \"$or\": [\n        {\"category\": {\"$eq\": \"News\"}},\n        {\"category\": {\"$eq\": \"Events\"}}\n    ]\n}\n```\n\n### 📝 Note on Metadata Indexing\nAs of October 21, 2025, Pinecone has introduced a **Metadata Indexing** feature that allows you to specify which metadata fields should be indexed for filtering, which can improve query performance. However, this feature is currently in **early access** and not widely available.\n\n**Default behavior (used in this notebook):** All metadata fields are automatically filterable without any schema declaration. This works well for most use cases.\n\n**With metadata indexing (future):** You can explicitly declare filterable fields in the index schema for optimized performance.\n\nSee: https://docs.pinecone.io/guides/index-data/create-an-index#metadata-indexing\n\n**Other DBs' metadata approach:**\n- Chroma/Milvus: Timestamps (INT64)\n- Weaviate: Native DATE type\n- Qdrant: Native datetime objects + payload indexes\n- Pinecone: **Timestamps (INT64) with automatic filtering (or metadata indexing in early access)**"
  }
 ],
 "metadata": {
  "kernelspec": {
   "display_name": "Python 3",
   "language": "python",
   "name": "python3"
  },
  "language_info": {
   "codemirror_mode": {
    "name": "ipython",
    "version": 3
   },
   "file_extension": ".py",
   "mimetype": "text/x-python",
   "name": "python",
   "nbconvert_exporter": "python",
   "pygments_lexer": "ipython3",
   "version": "3.11.0"
  }
 },
 "nbformat": 4,
 "nbformat_minor": 4
}
