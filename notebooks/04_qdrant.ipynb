{
 "cells": [
  {
   "cell_type": "markdown",
   "metadata": {},
   "source": [
    "# Qdrant Vector Database Demo\n",
    "\n",
    "This notebook demonstrates using **Qdrant Cloud** with 100 sample articles.\n",
    "\n",
    "## Qdrant Key Features\n",
    "- **Most Flexible Metadata** - Supports lists, nested objects, all data types\n",
    "- **Rich Filtering** - Most powerful filtering syntax among all vector DBs\n",
    "- **High Performance** - Written in Rust for speed\n",
    "- **Free Tier** - 1GB cluster on Qdrant Cloud\n",
    "- **Easy to Use** - Simple, intuitive Python API\n",
    "- **Payload Indexing** - Index any field for fast filtering\n",
    "- **No Schema Required** - Completely schema-less"
   ]
  },
  {
   "cell_type": "markdown",
   "metadata": {},
   "source": [
    "## 1. Setup and Imports"
   ]
  },
  {
   "cell_type": "code",
   "metadata": {
    "ExecuteTime": {
     "end_time": "2025-10-21T05:58:07.562739Z",
     "start_time": "2025-10-21T05:58:04.445398Z"
    }
   },
   "source": [
    "import os\n",
    "import sys\n",
    "from pathlib import Path\n",
    "import time\n",
    "\n",
    "# Add parent directory to path\n",
    "parent_dir = Path().resolve().parent\n",
    "sys.path.insert(0, str(parent_dir))\n",
    "\n",
    "# Load environment variables\n",
    "from dotenv import load_dotenv\n",
    "load_dotenv()\n",
    "\n",
    "# Import utilities\n",
    "from utils.embeddings import EmbeddingGenerator\n",
    "from utils.data_loader import load_articles, get_article_metadata\n",
    "from utils.date_utils import parse_datetime_string\n",
    "\n",
    "print(\"✓ All imports successful\")"
   ],
   "outputs": [
    {
     "name": "stdout",
     "output_type": "stream",
     "text": [
      "✓ All imports successful\n"
     ]
    }
   ],
   "execution_count": 1
  },
  {
   "cell_type": "markdown",
   "metadata": {},
   "source": [
    "## 2. Load Embedding Model\n",
    "\n",
    "Using `sentence-transformers/all-MiniLM-L6-v2` (384 dimensions)"
   ]
  },
  {
   "cell_type": "code",
   "metadata": {
    "ExecuteTime": {
     "end_time": "2025-10-21T05:58:32.270222Z",
     "start_time": "2025-10-21T05:58:30.638257Z"
    }
   },
   "source": [
    "# Initialize embedding model\n",
    "embedding_model = EmbeddingGenerator()\n",
    "\n",
    "# Test the model\n",
    "test_text = \"Nature is beautiful and nature is unpredictable. - by our Safari Guide\"\n",
    "test_embedding = embedding_model.embed_text(test_text)\n",
    "\n",
    "print(f\"  - Embedding dimension: {len(test_embedding)}\")\n",
    "print(f\"  - Sample values: {test_embedding[:5]}\")"
   ],
   "outputs": [
    {
     "name": "stdout",
     "output_type": "stream",
     "text": [
      "Loading embedding model: sentence-transformers/all-MiniLM-L6-v2\n",
      "✓ Model loaded successfully. Embedding dimension: 384\n",
      "  - Embedding dimension: 384\n",
      "  - Sample values: [ 0.01384365 -0.02893276  0.07830739  0.0949738   0.06695766]\n"
     ]
    }
   ],
   "execution_count": 2
  },
  {
   "cell_type": "markdown",
   "metadata": {},
   "source": [
    "## 3. Load Sample Articles"
   ]
  },
  {
   "cell_type": "code",
   "metadata": {
    "ExecuteTime": {
     "end_time": "2025-10-21T06:21:24.792578Z",
     "start_time": "2025-10-21T06:21:24.787008Z"
    }
   },
   "source": [
    "import json\n",
    "import random\n",
    "\n",
    "# Load articles\n",
    "articles = load_articles(\"../sample_articles.json\")\n",
    "\n",
    "print(f\"\\nLoaded {len(articles)} articles\")\n",
    "\n",
    "# Random pick on article and preview\n",
    "print(\"\\nRandom Sample article:\")\n",
    "selected_index = random.randint(0, len(articles) - 1)\n",
    "print(json.dumps(articles[selected_index], indent=2))"
   ],
   "outputs": [
    {
     "name": "stdout",
     "output_type": "stream",
     "text": [
      "Loaded 100 articles from ../sample_articles.json\n",
      "\n",
      "Loaded 100 articles\n",
      "\n",
      "Random Sample article:\n",
      "{\n",
      "  \"id\": 15574083,\n",
      "  \"item_source\": \"OUTSIDE\",\n",
      "  \"item_title\": \"Two Hikers Were Rescued From an Icy Alpine Pass North of Yosemite National Park\",\n",
      "  \"item_subtitle\": \"Search and Rescue officials told Outside that the hikers were found just north of Yosemite National Park.\",\n",
      "  \"body_content\": \"Two backpackers were saved in dramatic fashion from a steep, icy cliff face in the California Sierra Nevada mountains, just\\u00a0north of Yosemite National Park. Emergency teams rescued the duo\\u2014who were not carrying a satellite messenger or an emergency beacon\\u2014after one of the hikers\\u00a0found a single bar of cell reception and called for help.\\nThe incident occurred on the afternoon of\\u00a0 October 7, atop Burro Lake Pass east of the Sierra Nevada mountain range, the Mono County Sheriff Search and Rescue Team said on Facebook. Authorities did not release the names of the two hikers.\\n\\nA member of the responding rescue team told Outside\\u00a0that the two men were prepared for a casual day hike they had planned, but woefully unequipped for the trail they followed.\\n\\u201cThese two guys in their twenties\\u00a0had been backpacking for a couple of nights out at Burro Lake,\\u201d Mono County Search and Rescue\\u2019s Mitchell Quiring told Outside.\\nReturning from an alpine lake, the pair took a different route from their hike in, ascending and descending the 11,300-foot Burro Lake Pass. After straying from their intended path, the duo became stranded after attempting to descend an extremely steep alpine couloir without climbing equipment.\\n\\n\\u201cInstead of going up and over a completely clear shale and dirt pass, they ended up on top of this steep couloir, full of snow and ice,\\u201d Quiring explained.\\nDespite traveling without crampons, ice axes, ropes, helmets, and other technical equipment, the men did not turn back, and one attempted to pick his way down the narrow, 50-degree couloir, choked with ice and loose rock. One stranded himself on a snow ledge roughly 100 feet below the ridge crest, with another 800 feet of exposure below. He was unable to descend, but was also unable to climb back up to his partner.\\n\\n\\u201cThey didn&#8217;t have a satellite device, but one of them had one small bar of service on his phone, just enough to call for help,\\u201d Quiring said, adding that the reception on the call was so poor that the dispatchers weren\\u2019t able to communicate at length. \\u201cWe tried calling, we tried texting, and the dispatchers were trying to get more information from them. But in the end, all we got was an initial: \\u2018I need help, I\\u2019m cliffed out.\\u2019\\u201d\\nBy the time rescuers were deployed by helicopter to the pass and made contact with the stranded climber and his partner, they determined that any fall would be fatal.\\n\\u201cHad somebody slipped there and not been able to arrest their fall, it would have been a body recovery, not a rescue,\\u201d Quiring said.\\nWhat followed was a lengthy operation involving a dozen rescuers. Six, including Quiring, were operating from the top of the couloir, and six from below. The team employed a significant technical rigging system, first to drill into the rock to place anchors, and then to lower a rescuer down to the stranded climber from above and hoist him up to the top of the couloir, before assisting him into the waiting helicopter.\\nBoth hikers were safely evacuated before sunset, and the operation concluded six hours after the initial emergency call. Both individuals experienced significant exposure to the elements, but denied further medical treatment.\\nHope for the Best, Plan for the Worst\\nQuiring said the two hikers were adequately equipped for the casual hiking they had planned\\u2014had they stuck to the correct route\\u2014but were woefully underprepared for the technical terrain they encountered.\\n\\u201cThey had no head protection, no harnesses, no bail cord, and no knowledge of how to conduct themselves in that kind of terrain,\\u201d he said.\\nProper navigational equipment could have prevented the entire ordeal. Had the men been carrying even a paper map and familiarized themselves with their route beforehand, they likely could have avoided the situation.\\nWhat did the two men do right? Once they were in a dangerous situation, they called for rescue immediately before the situation worsened.\\n\\u201cThey didn\\u2019t wait until nightfall; they didn\\u2019t waste time. The minute they knew they were in trouble, they called for help,&#8221; said Quiring, adding that the two were lucky. \\u201cIt was a rare, windless Sierra day. The weather was incredibly compliant for rescue. If this had happened the day before, or the day after, the helicopter might not have been able to fly.\\u201d\\nThe men were also fortunate enough to find a sliver of cell reception. Without an emergency SOS device or regular reception in the area,\\u00a0the pair may have had to resort to yelling (or blowing a whistle) to be heard.\\nThere are a few lessons all backcountry travelers can take away from the incident.\\n\\u201cHave an understanding of where you\\u2019re going in the backcountry. Research your route thoroughly beforehand, and don&#8217;t enter terrain you&#8217;re not prepared for. Finally, plan for the unexpected. Carry a two-way satellite device. Give yourself the ability to call for help,&#8221; said Quiring.\",\n",
      "  \"category_name\": \"Exploration &amp; Survival\",\n",
      "  \"denormalized_tags\": [\n",
      "    \"Hiking\",\n",
      "    \"News\",\n",
      "    \"Search and Rescue\",\n",
      "    \"Yosemite\",\n",
      "    \"Yosemite National Park\"\n",
      "  ],\n",
      "  \"evergreen\": false,\n",
      "  \"item_url\": \"https://www.outsideonline.com/outdoor-adventure/exploration-survival/two-hikers-were-rescued-from-an-icy-alpine-pass-north-of-yosemite-national-park/\",\n",
      "  \"item_created_at\": \"2025-10-13 15:49:28.000000 +00:00\"\n",
      "}\n"
     ]
    }
   ],
   "execution_count": 8
  },
  {
   "cell_type": "markdown",
   "metadata": {},
   "source": [
    "## 4. Connect to Qdrant Cloud\n",
    "\n",
    "Using Qdrant Cloud (managed service)"
   ]
  },
  {
   "cell_type": "code",
   "metadata": {
    "ExecuteTime": {
     "end_time": "2025-10-21T05:58:47.820280Z",
     "start_time": "2025-10-21T05:58:47.209505Z"
    }
   },
   "source": "from qdrant_client import QdrantClient\nfrom qdrant_client.models import Distance, VectorParams, PointStruct\n\nQDRANT_URL = os.getenv(\"QDRANT_URL\")\nQDRANT_API_KEY = os.getenv(\"QDRANT_API_KEY\")\n\n# Connect to Qdrant Cloud\nclient = QdrantClient(\n    url=QDRANT_URL,\n    api_key=QDRANT_API_KEY,\n)\n\n# List existing collections\ncollections = client.get_collections()\nprint(f\"  - Existing collections: {[c.name for c in collections.collections]}\")",
   "outputs": [],
   "execution_count": null
  },
  {
   "cell_type": "markdown",
   "metadata": {},
   "source": [
    "## 5. Create or Get Collection\n",
    "\n",
    "Qdrant is completely schema-less - just specify vector dimensions!"
   ]
  },
  {
   "cell_type": "code",
   "metadata": {
    "ExecuteTime": {
     "end_time": "2025-10-21T06:59:12.219046Z",
     "start_time": "2025-10-21T06:59:04.811305Z"
    }
   },
   "source": "COLLECTION_NAME = \"articles\"\n\n# Check if collection exists\ncollection_exists = client.collection_exists(COLLECTION_NAME)\n\nif collection_exists:\n    print(f\"Collection '{COLLECTION_NAME}' already exists\")\n    \n    # Get collection info\n    collection_info = client.get_collection(COLLECTION_NAME)\n    point_count = collection_info.points_count\n    \n    print(f\"✓ Using existing collection: {COLLECTION_NAME}\")\n    print(f\"  - Current count: {point_count} articles\")\n    \n    # Ask user if they want to delete and recreate\n    recreate = input(\"\\nDo you want to delete and recreate? (y/n): \").lower().strip()\n    if recreate == 'y':\n        client.delete_collection(COLLECTION_NAME)\n        print(f\"✓ Deleted collection: {COLLECTION_NAME}\")\n        collection_exists = False\n\n# Create collection if it doesn't exist\nif not collection_exists:\n    print(f\"Creating new collection: {COLLECTION_NAME}\")\n    \n    # Create collection - only need to specify vector config!\n    # No schema needed - Qdrant accepts any JSON in payload\n    client.create_collection(\n        collection_name=COLLECTION_NAME,\n        vectors_config=VectorParams(\n            size=384,  # all-MiniLM-L6-v2 dimensions\n            distance=Distance.COSINE\n        )\n    )\n    \n    print(f\"✓ Created new collection: {COLLECTION_NAME}\")\n    \n    # Immediately create payload indexes for fields we'll filter on\n    from qdrant_client.models import PayloadSchemaType\n    \n    print(\"\\nCreating payload indexes for filterable fields...\")\n    \n    # Create index for category field (keyword for exact match)\n    client.create_payload_index(\n        collection_name=COLLECTION_NAME,\n        field_name=\"category\",\n        field_schema=PayloadSchemaType.KEYWORD\n    )\n    print(\"  ✓ Created index for 'category' (KEYWORD)\")\n    \n    # Create index for evergreen field (bool for boolean filtering)\n    client.create_payload_index(\n        collection_name=COLLECTION_NAME,\n        field_name=\"evergreen\",\n        field_schema=PayloadSchemaType.BOOL\n    )\n    print(\"  ✓ Created index for 'evergreen' (BOOL)\")\n    \n    # Create index for created_at field (datetime)\n    client.create_payload_index(\n        collection_name=COLLECTION_NAME,\n        field_name=\"created_at\",\n        field_schema=PayloadSchemaType.DATETIME\n    )\n    print(\"  ✓ Created index for 'created_at' (DATETIME)\")\n    \n    # Create index for tags field (keyword for array filtering)\n    client.create_payload_index(\n        collection_name=COLLECTION_NAME,\n        field_name=\"tags\",\n        field_schema=PayloadSchemaType.KEYWORD\n    )\n    print(\"  ✓ Created index for 'tags' (KEYWORD)\")\n    \n    print(\"✓ All payload indexes created!\")",
   "outputs": [],
   "execution_count": null
  },
  {
   "cell_type": "markdown",
   "source": "## 5.5. Create Payload Indexes\n\n**IMPORTANT:** Qdrant requires indexes on fields used in filters. Run this cell to ensure all indexes exist, especially if using an existing collection created before indexes were added.",
   "metadata": {}
  },
  {
   "cell_type": "code",
   "metadata": {
    "ExecuteTime": {
     "end_time": "2025-10-21T15:13:42.114791Z",
     "start_time": "2025-10-21T15:13:41.579332Z"
    }
   },
   "source": "# Ensure payload indexes exist (even for existing collections)\n# This is important if the collection was created before indexes were added\n\nfrom qdrant_client.models import PayloadSchemaType\n\nprint(\"Ensuring payload indexes exist for all filterable fields...\\n\")\n\n# List of indexes to create with appropriate schema types\nindexes_to_create = [\n    (\"category\", PayloadSchemaType.KEYWORD),   # String exact match\n    (\"evergreen\", PayloadSchemaType.BOOL),     # Boolean values\n    (\"created_at\", PayloadSchemaType.DATETIME), # Date/time values\n    (\"tags\", PayloadSchemaType.KEYWORD),       # Array of strings\n]\n\nfor field_name, field_schema in indexes_to_create:\n    try:\n        client.create_payload_index(\n            collection_name=COLLECTION_NAME,\n            field_name=field_name,\n            field_schema=field_schema\n        )\n        print(f\"✓ Created {field_schema} index for '{field_name}' field\")\n    except Exception as e:\n        error_msg = str(e).lower()\n        if \"already exists\" in error_msg or \"already indexed\" in error_msg:\n            print(f\"  ✓ Index for '{field_name}' already exists ({field_schema})\")\n        elif \"wrong schema type\" in error_msg or \"schema type mismatch\" in error_msg:\n            # If there's a schema type mismatch, delete and recreate\n            print(f\"  ⚠️  Schema type mismatch for '{field_name}', recreating with {field_schema}...\")\n            try:\n                client.delete_payload_index(\n                    collection_name=COLLECTION_NAME,\n                    field_name=field_name\n                )\n                client.create_payload_index(\n                    collection_name=COLLECTION_NAME,\n                    field_name=field_name,\n                    field_schema=field_schema\n                )\n                print(f\"  ✓ Recreated {field_schema} index for '{field_name}'\")\n            except Exception as e2:\n                print(f\"  ❌ Could not recreate index for '{field_name}': {e2}\")\n        else:\n            print(f\"  ⚠️  Could not create index for '{field_name}': {e}\")\n\nprint(\"\\n✓ All required payload indexes are ready!\")\nprint(\"\\nQdrant Payload Schema Types:\")\nprint(\"  • KEYWORD - for strings (exact match, array filtering)\")\nprint(\"  • BOOL - for boolean values (more efficient than KEYWORD)\")\nprint(\"  • DATETIME - for date/time values (range queries)\")\nprint(\"  • INTEGER/FLOAT - for numeric values\")\nprint(\"  • GEO - for geographic coordinates\")\nprint(\"  • TEXT - for full-text search\")",
   "outputs": [
    {
     "name": "stdout",
     "output_type": "stream",
     "text": [
      "Ensuring payload indexes exist for all filterable fields...\n",
      "\n",
      "✓ Created keyword index for 'category' field\n",
      "✓ Created bool index for 'evergreen' field\n",
      "✓ Created datetime index for 'created_at' field\n",
      "✓ Created keyword index for 'tags' field\n",
      "\n",
      "✓ All required payload indexes are ready!\n",
      "\n",
      "Qdrant Payload Schema Types:\n",
      "  • KEYWORD - for strings (exact match, array filtering)\n",
      "  • BOOL - for boolean values (more efficient than KEYWORD)\n",
      "  • DATETIME - for date/time values (range queries)\n",
      "  • INTEGER/FLOAT - for numeric values\n",
      "  • GEO - for geographic coordinates\n",
      "  • TEXT - for full-text search\n"
     ]
    }
   ],
   "execution_count": 29
  },
  {
   "cell_type": "markdown",
   "metadata": {},
   "source": "## 6. Generate Embeddings and Upsert Data\n\nProcess articles in batches for efficiency, matching the Chroma workflow"
  },
  {
   "cell_type": "code",
   "metadata": {
    "ExecuteTime": {
     "end_time": "2025-10-21T06:59:28.529759Z",
     "start_time": "2025-10-21T06:59:27.427004Z"
    }
   },
   "source": [
    "# Check current count\n",
    "collection_info = client.get_collection(COLLECTION_NAME)\n",
    "current_count = collection_info.points_count\n",
    "\n",
    "\n",
    "# Process in batches - same approach as Chroma\n",
    "BATCH_SIZE = 20\n",
    "total_articles = len(articles)\n",
    "\n",
    "print(f\"Processing {total_articles} articles in batches of {BATCH_SIZE}...\\\\n\")\n",
    "\n",
    "start_time = time.time()\n",
    "\n",
    "from tqdm.auto import tqdm\n",
    "\n",
    "for i in tqdm(range(0, total_articles, BATCH_SIZE), desc=\"Inserting batches\"):\n",
    "    batch = articles[i:i + BATCH_SIZE]\n",
    "\n",
    "    # Generate embeddings for batch - same as Chroma\n",
    "    texts = [\n",
    "        f\"Title: {a['item_title']}\\\\nSubtitle: {a.get('item_subtitle', '')}\\\\nContent: {a['body_content'][:500]}\"\n",
    "        for a in batch\n",
    "    ]\n",
    "    embeddings = embedding_model.embed_batch(texts, show_progress=False)\n",
    "\n",
    "    # Prepare metadata - use \"qdrant\" to get native datetime objects\n",
    "    metadatas = [get_article_metadata(a, db_type=\"qdrant\") for a in batch]\n",
    "\n",
    "    # Prepare points for Qdrant\n",
    "    points = [\n",
    "        PointStruct(\n",
    "            id=metadata[\"id\"],\n",
    "            vector=embedding.tolist(),\n",
    "            payload={\n",
    "                \"title\": metadata[\"title\"],\n",
    "                \"subtitle\": metadata[\"subtitle\"],\n",
    "                \"category\": metadata[\"category\"],\n",
    "                \"source\": metadata[\"source\"],\n",
    "                \"tags\": metadata[\"tags\"],  # Native list support!\n",
    "                \"evergreen\": metadata[\"evergreen\"],\n",
    "                \"url\": metadata[\"url\"],\n",
    "                \"created_at\": metadata[\"created_at\"],  # Native datetime object from prepare_date_for_db!\n",
    "            }\n",
    "        )\n",
    "        for metadata, embedding in zip(metadatas, embeddings)\n",
    "    ]\n",
    "\n",
    "    # Upsert batch into Qdrant\n",
    "    client.upsert(\n",
    "        collection_name=COLLECTION_NAME,\n",
    "        points=points\n",
    "    )\n",
    "\n",
    "elapsed_time = time.time() - start_time\n",
    "\n",
    "# Get updated count\n",
    "collection_info = client.get_collection(COLLECTION_NAME)\n",
    "final_count = collection_info.points_count\n",
    "\n",
    "print(f\"\\\\n✓ Successfully inserted {total_articles} articles\")\n",
    "print(f\"  - Time taken: {elapsed_time:.2f} seconds\")\n",
    "print(f\"  - Average: {elapsed_time/total_articles:.2f} seconds per article\")\n",
    "print(f\"  - Collection count: {final_count}\")"
   ],
   "outputs": [
    {
     "name": "stdout",
     "output_type": "stream",
     "text": [
      "Processing 100 articles in batches of 20...\\n\n"
     ]
    },
    {
     "data": {
      "text/plain": [
       "Inserting batches:   0%|          | 0/5 [00:00<?, ?it/s]"
      ],
      "application/vnd.jupyter.widget-view+json": {
       "version_major": 2,
       "version_minor": 0,
       "model_id": "f6252c89656b4956800b1f583c1a830f"
      }
     },
     "metadata": {},
     "output_type": "display_data"
    },
    {
     "name": "stdout",
     "output_type": "stream",
     "text": [
      "\\n✓ Successfully inserted 100 articles\n",
      "  - Time taken: 1.01 seconds\n",
      "  - Average: 0.01 seconds per article\n",
      "  - Collection count: 100\n"
     ]
    }
   ],
   "execution_count": 24
  },
  {
   "cell_type": "markdown",
   "metadata": {},
   "source": [
    "## 7. Basic Semantic Search\n",
    "\n",
    "Search using vector similarity"
   ]
  },
  {
   "cell_type": "code",
   "metadata": {
    "ExecuteTime": {
     "end_time": "2025-10-21T06:59:32.026021Z",
     "start_time": "2025-10-21T06:59:31.996098Z"
    }
   },
   "source": [
    "# Test query - SAME AS CHROMA\n",
    "query_text = \"Most haunted hikes in the US\"\n",
    "\n",
    "print(f\"Query: '{query_text}'\\n\")\n",
    "\n",
    "# Generate query embedding\n",
    "query_embedding = embedding_model.embed_text(query_text)\n",
    "\n",
    "# Perform search using query_points (new API)\n",
    "results = client.query_points(\n",
    "    collection_name=COLLECTION_NAME,\n",
    "    query=query_embedding.tolist(),\n",
    "    limit=5\n",
    ")\n",
    "\n",
    "print(f\"Top {len(results.points)} results:\\n\")\n",
    "for i, hit in enumerate(results.points):\n",
    "    # Qdrant returns score (higher = more similar for COSINE)\n",
    "    score = hit.score\n",
    "    \n",
    "    print(f\"{i+1}. {hit.payload['title'][:70]}...\")\n",
    "    print(f\"   Category: {hit.payload['category']} | Source: {hit.payload['source']}\")\n",
    "    print(f\"   Score: {hit.score}\")\n",
    "    print(f\"   URL: {hit.payload['url']}...\")"
   ],
   "outputs": [
    {
     "name": "stdout",
     "output_type": "stream",
     "text": [
      "Query: 'Most haunted hikes in the US'\n",
      "\n",
      "Top 5 results:\n",
      "\n",
      "1. 13 of the Most Haunted Hikes in the U.S....\n",
      "   Category: Destinations | Source: OUTSIDE\n",
      "   Score: 0.7863509\n",
      "   URL: https://www.outsideonline.com/adventure-travel/destinations/haunted-hikes/...\n",
      "2. A Missing Dog Helped a Stranded Hiker Return to Shadow Mountain Trail....\n",
      "   Category: Hiking | Source: OUTSIDE\n",
      "   Score: 0.376217\n",
      "   URL: https://www.outsideonline.com/outdoor-adventure/hiking-and-backpacking/arizona-lost-hiker-missing-dog-shadow-mountain/...\n",
      "3. An Inside Look at Outside’s 2025 Winter Editors’ Choice Testing Trip...\n",
      "   Category: Gear | Source: OUTSIDE\n",
      "   Score: 0.3312978\n",
      "   URL: https://www.outsideonline.com/outdoor-gear/winter-editors-choice-trip-maine/...\n",
      "4. Why Does Washington Have So Many Climbing Accidents? A Mountain Rescue...\n",
      "   Category: Skills | Source: CLIMBING\n",
      "   Score: 0.3137578\n",
      "   URL: https://www.climbing.com/skills/washington-climbing-accidents/...\n",
      "5. Prone to Falling on Trail? These Exercises Will Help Prevent Injury....\n",
      "   Category: Backpacking Fitness | Source: BACKPACKER\n",
      "   Score: 0.30252296\n",
      "   URL: https://www.backpacker.com/skills/backpacking-fitness/how-to-avoid-tripping-and-falling-on-the-trail-exercises-tips/...\n"
     ]
    }
   ],
   "execution_count": 25
  },
  {
   "cell_type": "markdown",
   "metadata": {},
   "source": [
    "## 8. Metadata Filtering - Category\n",
    "\n",
    "Qdrant has the most flexible filtering syntax"
   ]
  },
  {
   "cell_type": "code",
   "metadata": {
    "ExecuteTime": {
     "end_time": "2025-10-21T06:59:35.181269Z",
     "start_time": "2025-10-21T06:59:35.153601Z"
    }
   },
   "source": [
    "# Filter by category - SAME AS CHROMA\n",
    "query_text = \"Women's Ironman World Championship\"\n",
    "target_category = \"News\"\n",
    "\n",
    "print(f\"Query: '{query_text}'\")\n",
    "print(f\"Filter: category = '{target_category}'\\n\")\n",
    "\n",
    "# Generate query embedding\n",
    "query_embedding = embedding_model.embed_text(query_text)\n",
    "\n",
    "# Create filter using dictionary syntax (Qdrant's recommended approach)\n",
    "search_filter = {\n",
    "    \"must\": [\n",
    "        {\n",
    "            \"key\": \"category\",\n",
    "            \"match\": {\"value\": target_category}\n",
    "        }\n",
    "    ]\n",
    "}\n",
    "\n",
    "# Search with filter using query_points\n",
    "results = client.query_points(\n",
    "    collection_name=COLLECTION_NAME,\n",
    "    query=query_embedding.tolist(),\n",
    "    query_filter=search_filter,\n",
    "    limit=5\n",
    ")\n",
    "\n",
    "print(f\"Top 5 Results (Category: {target_category}):\\n\")\n",
    "for i, hit in enumerate(results.points):\n",
    "    score = hit.score\n",
    "    created = hit.payload['created_at']  # Datetime object\n",
    "    \n",
    "    print(f\"{i+1}. {hit.payload['title'][:70]}...\")\n",
    "    print(f\"   Category: {hit.payload['category']} | Source: {hit.payload['source']}\")\n",
    "    print(f\"   Created: {created}\")"
   ],
   "outputs": [
    {
     "name": "stdout",
     "output_type": "stream",
     "text": [
      "Query: 'Women's Ironman World Championship'\n",
      "Filter: category = 'News'\n",
      "\n",
      "Top 5 Results (Category: News):\n",
      "\n",
      "1. After Joy of Women's-Only Ironman World Championship, Grief Sets In...\n",
      "   Category: News | Source: TRIATHLETE\n",
      "   Created: 2025-10-12 19:21:13.000000 +00:00\n",
      "2. What a Race! Here's Where the Ironman Pro Series Stands After the Iron...\n",
      "   Category: News | Source: TRIATHLETE\n",
      "   Created: 2025-10-13 10:40:09.000000 +00:00\n",
      "3. The Fastest Shoes at 2025 Ironman World Championship Kona...\n",
      "   Category: News | Source: TRIATHLETE\n",
      "   Created: 2025-10-13 11:11:48.000000 +00:00\n",
      "4. The DNF Files: 2025 Ironman World Championship Kona...\n",
      "   Category: News | Source: TRIATHLETE\n",
      "   Created: 2025-10-14 11:30:45.000000 +00:00\n",
      "5. In Sweltering Conditions, Norway’s Solveig Løvseth Takes 2025 Ironman ...\n",
      "   Category: News | Source: TRIATHLETE\n",
      "   Created: 2025-10-11 05:32:15.000000 +00:00\n"
     ]
    }
   ],
   "execution_count": 26
  },
  {
   "cell_type": "markdown",
   "metadata": {},
   "source": "## 9. Metadata Filtering - Date Range\n\nQdrant supports native datetime objects!"
  },
  {
   "cell_type": "code",
   "metadata": {
    "ExecuteTime": {
     "end_time": "2025-10-21T06:59:47.847076Z",
     "start_time": "2025-10-21T06:59:47.798193Z"
    }
   },
   "source": "# Filter by date - SAME AS CHROMA\nquery_text = \"cycling deals\"\ncutoff_date = \"2025-10-08\"\n\nprint(f\"Query: '{query_text}'\")\nprint(f\"Filter: created_at >= '{cutoff_date}'\\n\")\n\n# Generate query embedding\nquery_embedding = embedding_model.embed_text(query_text)\n\n# Qdrant accepts native datetime objects!\ncutoff_dt = parse_datetime_string(cutoff_date)\n\n# Create date range filter using dictionary syntax\nsearch_filter = {\n    \"must\": [\n        {\n            \"key\": \"created_at\",\n            \"range\": {\n                \"gte\": cutoff_dt.isoformat()  # Convert datetime to ISO format string\n            }\n        }\n    ]\n}\n\n# Search with date filter using query_points\nresults = client.query_points(\n    collection_name=COLLECTION_NAME,\n    query=query_embedding.tolist(),\n    query_filter=search_filter,\n    limit=5\n)\n\nprint(f\"Top 5 Recent Results (after {cutoff_date}):\\n\")\nfor i, hit in enumerate(results.points):\n    score = hit.score\n    distance = 1 - score\n    created = hit.payload['created_at']  # Datetime object\n    tags = hit.payload.get('tags', [])\n    \n    print(f\"{i+1}. {hit.payload['title']}\")\n    print(f\"   Category: {hit.payload['category']}\")\n    print(f\"   Created: {created}\")\n    print(f\"   Tags: {', '.join(tags) if tags else 'No tags'}\")\n    print()",
   "outputs": [
    {
     "name": "stdout",
     "output_type": "stream",
     "text": [
      "Query: 'cycling deals'\n",
      "Filter: created_at >= '2025-10-08'\n",
      "\n",
      "Top 5 Recent Results (after 2025-10-08):\n",
      "\n",
      "1. Opinion: Cycling's Soccer-Inspired Relegation System Is a Hot Mess That Solves Nothing\n",
      "   Category: Road Racing\n",
      "   Created: 2025-10-16 05:42:10.000000 +00:00\n",
      "   Tags: Analysis, ASO, Cofidis, Tour de France, Tour de Hoody\n",
      "\n",
      "2. Deal: Tailwind Endurance Fuel Is the Cycling Nutrition I Actually Use\n",
      "   Category: Road Gear\n",
      "   Created: 2025-10-13 11:30:52.000000 +00:00\n",
      "   Tags: Velo Deals\n",
      "\n",
      "3. Pogačar's Bonuses and Brand Deals Revealed: Inside His $14 Million Pay Check\n",
      "   Category: Road Racing\n",
      "   Created: 2025-10-14 03:39:12.000000 +00:00\n",
      "   Tags: Alex Carera, Remco Evenepoel, Tadej Pogačar, Transfers, UAE Emirates\n",
      "\n",
      "4. Deal: One of the Best Headphones for Cycling Is 50% Off\n",
      "   Category: Road Gear\n",
      "   Created: 2025-10-15 12:12:34.000000 +00:00\n",
      "   Tags: headphones, Velo Deals\n",
      "\n",
      "5. Shop Evo's Anniversary Sale and Save up to 50% on Ski, Snowboard, and MTB Gear\n",
      "   Category: Gear News\n",
      "   Created: 2025-10-14 10:53:27.000000 +00:00\n",
      "   Tags: Commerce, Deals\n",
      "\n"
     ]
    }
   ],
   "execution_count": 27
  },
  {
   "cell_type": "markdown",
   "metadata": {},
   "source": [
    "## 10. Combined Filters - Evergreen + Date\n",
    "\n",
    "Qdrant excels at complex filtering with must/should/must_not"
   ]
  },
  {
   "cell_type": "code",
   "metadata": {
    "ExecuteTime": {
     "end_time": "2025-10-21T15:14:14.802633Z",
     "start_time": "2025-10-21T15:14:14.745286Z"
    }
   },
   "source": [
    "query_text = \"Halloween outdoor activities\"\n",
    "cutoff_date = \"2025-10-09\"\n",
    "\n",
    "print(f\"Query: '{query_text}'\")\n",
    "print(f\"Filters:\")\n",
    "print(f\"  - evergreen = True (timeless content)\")\n",
    "print(f\"  - created_at >= '{cutoff_date}'\\n\")\n",
    "\n",
    "# Generate query embedding\n",
    "query_embedding = embedding_model.embed_text(query_text)\n",
    "\n",
    "# Parse cutoff date to datetime object\n",
    "cutoff_dt = parse_datetime_string(cutoff_date)\n",
    "\n",
    "# Combine filters with must (AND logic) using dictionary syntax\n",
    "search_filter = {\n",
    "    \"must\": [\n",
    "        {\n",
    "            \"key\": \"evergreen\",\n",
    "            \"match\": {\"value\": True}\n",
    "        },\n",
    "        {\n",
    "            \"key\": \"created_at\",\n",
    "            \"range\": {\n",
    "                \"gte\": cutoff_dt.isoformat()  # Convert to ISO format\n",
    "            }\n",
    "        }\n",
    "    ]\n",
    "}\n",
    "\n",
    "# Search with combined filters using query_points\n",
    "results = client.query_points(\n",
    "    collection_name=COLLECTION_NAME,\n",
    "    query=query_embedding.tolist(),\n",
    "    query_filter=search_filter,\n",
    "    limit=10  # Increased to 10 since evergreen articles might be fewer\n",
    ")\n",
    "\n",
    "if results.points:\n",
    "    print(f\"Top Evergreen Results (After {cutoff_date}):\\n\")\n",
    "    for i, hit in enumerate(results.points):\n",
    "        score = hit.score\n",
    "        tags = hit.payload.get('tags', [])\n",
    "        created = hit.payload['created_at']\n",
    "        \n",
    "        print(f\"{i+1}. {hit.payload['title'][:70]}...\")\n",
    "        print(f\"   Category: {hit.payload['category']} | Evergreen: {hit.payload['evergreen']}\")\n",
    "        print(f\"   Tags: {', '.join(tags) if tags else 'No tags'}\")\n",
    "        print(f\"   Created: {created}\")\n",
    "    print(f\"\\nTotal results: {len(results.points)}\")\n",
    "else:\n",
    "    print(\"No evergreen articles found after this date.\")"
   ],
   "outputs": [
    {
     "name": "stdout",
     "output_type": "stream",
     "text": [
      "Query: 'Halloween outdoor activities'\n",
      "Filters:\n",
      "  - evergreen = True (timeless content)\n",
      "  - created_at >= '2025-10-09'\n",
      "\n",
      "Top Evergreen Results (After 2025-10-09):\n",
      "\n",
      "1. 13 of the Most Haunted Hikes in the U.S....\n",
      "   Category: Destinations | Evergreen: True\n",
      "   Tags: evergreen, Halloween, Hiking\n",
      "   Created: 2025-10-16 11:22:41.000000 +00:00\n",
      "2. The Thule Outset Hitch-Mounted Tent Turns Your Car Into a Campsite on ...\n",
      "   Category: Camping | Evergreen: True\n",
      "   Tags: 2025 Gear Reviews, Car Camping, Car Racks, Commerce, evergreen\n",
      "   Created: 2025-10-14 10:30:11.000000 +00:00\n",
      "3. The Best Daypacks for Every Kind of Hiker (2025)...\n",
      "   Category: Daypacks | Evergreen: True\n",
      "   Tags: 2025 Gear Reviews, 2025 Summer Gear Guide, backpack, Commerce, Day Packs\n",
      "   Created: 2025-10-16 11:31:44.000000 +00:00\n",
      "4. Everything You Need To Know Before Skiing Telluride For The First Time...\n",
      "   Category: Resort Skiing | Evergreen: True\n",
      "   Tags: evergreen, Telluride Ski Resort\n",
      "   Created: 2025-10-13 14:39:24.000000 +00:00\n",
      "5. Tusayan is Your Launchpad to Grand Adventures...\n",
      "   Category: Gateway Towns | Evergreen: True\n",
      "   Tags: evergreen\n",
      "   Created: 2025-10-14 12:40:31.000000 +00:00\n",
      "6. Make This Your First Stop Grand Canyon Stop...\n",
      "   Category: Attractions | Evergreen: True\n",
      "   Tags: evergreen\n",
      "   Created: 2025-10-16 14:09:00.000000 +00:00\n",
      "7. The Best Cross-Country Boots and Accessories of 2026...\n",
      "   Category: Snow Sports | Evergreen: True\n",
      "   Tags: 2025 Gear Reviews, 2026 Winter Gear Guide, Commerce, Cross-Country Ski Boots, evergreen\n",
      "   Created: 2025-10-14 10:00:47.000000 +00:00\n",
      "8. Can I Bring Chalk in My Carry-on? What TSA Actually Allows (and What T...\n",
      "   Category: Travel | Evergreen: True\n",
      "   Tags: evergreen\n",
      "   Created: 2025-10-14 08:00:38.000000 +00:00\n",
      "9. Prone to Falling on Trail? These Exercises Will Help Prevent Injury....\n",
      "   Category: Backpacking Fitness | Evergreen: True\n",
      "   Tags: evergreen\n",
      "   Created: 2025-10-15 11:19:09.000000 +00:00\n",
      "10. He’s Hunted for Elk for 40 Years but Hasn’t Killed a Single One. And T...\n",
      "   Category: Environment | Evergreen: True\n",
      "   Tags: Adventure, Colorado, evergreen, Hunting, Long Reads\n",
      "   Created: 2025-10-15 05:05:17.000000 +00:00\n",
      "\n",
      "Total results: 10\n"
     ]
    }
   ],
   "execution_count": 30
  },
  {
   "cell_type": "markdown",
   "metadata": {},
   "source": [
    "## 11. Advanced Filtering - Array Contains\n",
    "\n",
    "Qdrant can filter by array membership (unique feature!)"
   ]
  },
  {
   "cell_type": "code",
   "metadata": {
    "ExecuteTime": {
     "end_time": "2025-10-21T15:18:12.584935Z",
     "start_time": "2025-10-21T15:18:12.520659Z"
    }
   },
   "source": [
    "query_text = \"outdoor travel\"\n",
    "print(f\"Query: '{query_text}'\")\n",
    "\n",
    "tag = \"Adventure\"\n",
    "print(f\"Filter: tags contains {tag}\")\n",
    "# Generate query embedding\n",
    "query_embedding = embedding_model.embed_text(query_text)\n",
    "\n",
    "# Filter by array membership using dictionary syntax - Qdrant's powerful feature!\n",
    "search_filter = {\n",
    "    \"must\": [\n",
    "        {\n",
    "            \"key\": \"tags\",\n",
    "            \"match\": {\"any\": [tag]}  # Check if array contains value\n",
    "        }\n",
    "    ]\n",
    "}\n",
    "\n",
    "# Search with array filter using query_points\n",
    "results = client.query_points(\n",
    "    collection_name=COLLECTION_NAME,\n",
    "    query=query_embedding.tolist(),\n",
    "    query_filter=search_filter,\n",
    "    limit=5\n",
    ")\n",
    "\n",
    "print(f\"Found {len(results.points)} results with tag {tag}:\\n\")\n",
    "for i, hit in enumerate(results.points):\n",
    "    score = hit.score\n",
    "    tags = hit.payload.get('tags', [])\n",
    "    \n",
    "    print(f\"{i+1}. {hit.payload['title'][:70]}...\")\n",
    "    print(f\"   Category: {hit.payload['category']}\")\n",
    "    print(f\"   Tags: {', '.join(tags) if tags else 'No tags'}\")"
   ],
   "outputs": [
    {
     "name": "stdout",
     "output_type": "stream",
     "text": [
      "Query: 'outdoor travel'\n",
      "Filter: tags contains Adventure\n",
      "Found 2 results with tag Adventure:\n",
      "\n",
      "1. How I Survived a 600KM Gravel Adventure on a $16K Aero Bike...\n",
      "   Category: Road Gear\n",
      "   Tags: Adventure, Colnago, evergreen\n",
      "2. He’s Hunted for Elk for 40 Years but Hasn’t Killed a Single One. And T...\n",
      "   Category: Environment\n",
      "   Tags: Adventure, Colorado, evergreen, Hunting, Long Reads\n"
     ]
    }
   ],
   "execution_count": 31
  },
  {
   "cell_type": "markdown",
   "metadata": {},
   "source": [
    "## 12. Performance Summary"
   ]
  },
  {
   "cell_type": "code",
   "metadata": {
    "ExecuteTime": {
     "end_time": "2025-10-21T15:32:55.207921Z",
     "start_time": "2025-10-21T15:32:54.421643Z"
    }
   },
   "source": [
    "from utils.benchmark import benchmark_queries\n",
    "\n",
    "# Define query function for Qdrant\n",
    "def qdrant_query_fn(query_text: str):\n",
    "    \"\"\"Query function for Qdrant benchmarking.\"\"\"\n",
    "    query_embedding = embedding_model.embed_text(query_text)\n",
    "    return client.query_points(\n",
    "        collection_name=COLLECTION_NAME,\n",
    "        query=query_embedding.tolist(),\n",
    "        limit=10\n",
    "    )\n",
    "\n",
    "# Run standardized benchmark\n",
    "results = benchmark_queries(qdrant_query_fn)\n",
    "\n",
    "# Additional filtered query benchmark\n",
    "print(\"\\n\" + \"=\"*50)\n",
    "print(\"Filtered Query Performance:\")\n",
    "print(\"=\"*50 + \"\\n\")\n",
    "\n",
    "def qdrant_filtered_query_fn(query_text: str):\n",
    "    \"\"\"Filtered query function for Qdrant benchmarking.\"\"\"\n",
    "    query_embedding = embedding_model.embed_text(query_text)\n",
    "    return client.query_points(\n",
    "        collection_name=COLLECTION_NAME,\n",
    "        query=query_embedding.tolist(),\n",
    "        query_filter={\n",
    "            \"must\": [{\"key\": \"category\", \"match\": {\"value\": \"Road Gear\"}}]\n",
    "        },\n",
    "        limit=10\n",
    "    )\n",
    "\n",
    "filtered_results = benchmark_queries(qdrant_filtered_query_fn, verbose=False)\n",
    "print(f\"Average filtered query time: {filtered_results['avg_ms']:.1f}ms\")"
   ],
   "outputs": [
    {
     "name": "stdout",
     "output_type": "stream",
     "text": [
      "Running performance benchmark...\n",
      "\n",
      "'outdoor hiking adventures' -> 75.7ms\n",
      "'cycling race performance' -> 69.7ms\n",
      "'travel destinations and tips' -> 70.7ms\n",
      "'fitness training techniques' -> 70.0ms\n",
      "'gear reviews and recommendations' -> 79.2ms\n",
      "\n",
      "Performance Summary:\n",
      "  - Average query time: 73.1ms\n",
      "  - Min query time: 69.7ms\n",
      "  - Max query time: 79.2ms\n",
      "\n",
      "==================================================\n",
      "Filtered Query Performance:\n",
      "==================================================\n",
      "\n",
      "Average filtered query time: 69.9ms\n",
      "\n",
      "Collection Statistics:\n",
      "  - Total articles: 100\n",
      "  - Vector dimensions: 384\n",
      "  - Distance metric: COSINE\n",
      "  - Vectors count: None\n"
     ]
    }
   ],
   "execution_count": 32
  },
  {
   "cell_type": "markdown",
   "metadata": {},
   "source": [
    "## 13. Cleanup (Optional)"
   ]
  },
  {
   "cell_type": "code",
   "execution_count": null,
   "metadata": {},
   "outputs": [],
   "source": [
    "# Note: Qdrant client doesn't have a close() method\n# Connection is closed automatically when client is garbage collected\nprint(\"✓ Qdrant client will be disconnected automatically\")"
   ]
  },
  {
   "cell_type": "markdown",
   "metadata": {},
   "source": [
    "## 14. Key Takeaways - Qdrant\n",
    "\n",
    "### ✅ Strengths\n",
    "1. **Most Flexible Metadata** - Supports lists, nested objects, any JSON\n",
    "2. **Best Filtering** - Most powerful and elegant filter API with dictionary syntax\n",
    "3. **Array Operations** - Can filter by array membership (unique!)\n",
    "4. **Native Datetime** - Accepts datetime objects (stored as ISO strings)\n",
    "5. **No Schema** - Completely schema-less, store anything\n",
    "6. **High Performance** - Written in Rust for speed\n",
    "7. **Payload Indexing** - Can index any field for fast filtering\n",
    "8. **Simple API** - Clean, intuitive Python client\n",
    "\n",
    "### ⚠️ Considerations\n",
    "1**Cloud Option** - The Cloud option is similar to Pinecone pod-based, no Serverless option yet.\n",
    "\n",
    "### 🎯 Best For\n",
    "- **Complex metadata** - Rich, nested, dynamic metadata\n",
    "- **Advanced filtering** - Need array operations, complex conditions\n",
    "- **Flexible schema** - Schema changes frequently\n",
    "- **Developer experience** - Want clean, intuitive API\n",
    "- **Performance** - Rust-powered speed\n",
    "- **Native datetime** - No timestamp conversion needed\n",
    "\n",
    "### 📊 Comparison Notes\n",
    "- **vs Chroma**: Native datetime (not timestamps!), native arrays, better filtering\n",
    "- **vs Weaviate**: Simpler API, more flexible schema, no GraphQL needed\n",
    "- **vs Milvus/Zilliz**: Native datetime objects (not INT64), more flexible (no max_length)\n",
    "- **vs Pinecone**: Much more flexible schema, better filtering, smaller free tier\n",
    "\n",
    "### 💡 Unique Qdrant Features\n",
    "1. **Array membership filtering** - `\"match\": {\"any\": [\"value1\", \"value2\"]}`\n",
    "2. **Native list support** - Store arrays directly in payload\n",
    "3. **Native datetime objects** - Use Python datetime, stored as ISO strings\n",
    "4. **Nested objects** - Store complex hierarchical data\n",
    "5. **must/should/must_not** - Elegant boolean logic\n",
    "6. **Dictionary-based filters** - Clean, Pythonic filter syntax\n",
    "7. **UPSERT by default** - Points with same ID are updated\n",
    "\n",
    "### 🏆 When Qdrant is the Best Choice\n",
    "Use Qdrant when you need:\n",
    "- Maximum metadata flexibility\n",
    "- Complex filtering with arrays/nested data\n",
    "- Native datetime support (no timestamp conversion)\n",
    "- Clean, simple API\n",
    "- High performance with Rust backend\n",
    "- Schema-less architecture\n",
    "\n",
    "### 💻 API Examples\n",
    "\n",
    "**Metadata Filtering Superpower:**\n",
    "```python\n",
    "\n",
    "# Date range filter\n",
    "results = client.query_points(\n",
    "    collection_name=\"articles\",\n",
    "    query=embedding.tolist(),\n",
    "    query_filter={\n",
    "        \"must\": [\n",
    "            {\n",
    "                \"key\": \"created_at\",\n",
    "                \"range\": {\"gte\": \"2025-10-08T00:00:00\"}\n",
    "            }\n",
    "        ]\n",
    "    },\n",
    "    limit=5\n",
    ")\n",
    "\n",
    "# Array membership (unique feature!)\n",
    "results = client.query_points(\n",
    "    collection_name=\"articles\",\n",
    "    query=embedding.tolist(),\n",
    "    query_filter={\n",
    "        \"must\": [\n",
    "            {\"key\": \"tags\", \"match\": {\"any\": [\"evergreen\"]}}\n",
    "        ]\n",
    "    },\n",
    "    limit=5\n",
    ")\n",
    "```\n",
    "\n",
    "**Other DBs require:**\n",
    "- Chroma/Milvus: Convert to Unix timestamps (INT64)\n",
    "- Weaviate: Use specific DATE type in schema\n",
    "- Qdrant: **Just use Python datetime, stored as ISO strings!**"
   ]
  },
  {
   "metadata": {},
   "cell_type": "code",
   "outputs": [],
   "execution_count": null,
   "source": ""
  }
 ],
 "metadata": {
  "kernelspec": {
   "display_name": "Python 3",
   "language": "python",
   "name": "python3"
  },
  "language_info": {
   "codemirror_mode": {
    "name": "ipython",
    "version": 3
   },
   "file_extension": ".py",
   "mimetype": "text/x-python",
   "name": "python",
   "nbconvert_exporter": "python",
   "pygments_lexer": "ipython3",
   "version": "3.11.0"
  }
 },
 "nbformat": 4,
 "nbformat_minor": 4
}
