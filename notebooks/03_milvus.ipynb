{
 "cells": [
  {
   "cell_type": "markdown",
   "metadata": {},
   "source": "# Zilliz Cloud (Managed Milvus) Vector Database Demo\n\nThis notebook demonstrates using **Zilliz Cloud** (managed Milvus) with 100 sample articles.\n\n## Zilliz Cloud Key Features\n- **Enterprise-Grade** - Used by eBay, Walmart, PayPal\n- **AutoIndex** - Automatic index optimization (no manual tuning!)\n- **Fully Managed** - No infrastructure management needed\n- **Dynamic Fields** - Flexible metadata via $meta JSON\n- **Free Tier** - 5GB storage, 2.5M vCUs\n- **Scalability** - Handles billions of vectors\n- **Simpler than Milvus** - Abstracts away manual index/load steps"
  },
  {
   "metadata": {
    "ExecuteTime": {
     "end_time": "2025-10-21T19:25:40.670662Z",
     "start_time": "2025-10-21T19:25:40.616250Z"
    }
   },
   "cell_type": "code",
   "source": [
    "# Reload\n",
    "%reload_ext autoreload\n",
    "%autoreload 2"
   ],
   "outputs": [],
   "execution_count": 1
  },
  {
   "metadata": {},
   "cell_type": "markdown",
   "source": "## 1. Setup and Imports"
  },
  {
   "metadata": {
    "ExecuteTime": {
     "end_time": "2025-10-21T19:25:46.589289Z",
     "start_time": "2025-10-21T19:25:43.498034Z"
    }
   },
   "cell_type": "code",
   "source": [
    "import os\n",
    "import sys\n",
    "from pathlib import Path\n",
    "import time\n",
    "\n",
    "# Add parent directory to path\n",
    "parent_dir = Path().resolve().parent\n",
    "sys.path.insert(0, str(parent_dir))\n",
    "\n",
    "# Load environment variables\n",
    "from dotenv import load_dotenv\n",
    "load_dotenv()\n",
    "\n",
    "# Import utilities\n",
    "from utils.embeddings import EmbeddingGenerator\n",
    "from utils.data_loader import load_articles, get_article_metadata\n",
    "from utils.date_utils import timestamp_to_datetime_string\n",
    "\n",
    "# Use MilvusClient for simpler Zilliz Cloud operations\n",
    "from pymilvus import MilvusClient, DataType\n",
    "\n",
    "print(\"✓ All imports successful\")"
   ],
   "outputs": [
    {
     "name": "stdout",
     "output_type": "stream",
     "text": [
      "✓ All imports successful\n"
     ]
    }
   ],
   "execution_count": 2
  },
  {
   "cell_type": "markdown",
   "metadata": {},
   "source": [
    "## 2. Load Embedding Model\n",
    "\n",
    "Using `sentence-transformers/all-MiniLM-L6-v2` (384 dimensions)"
   ]
  },
  {
   "cell_type": "code",
   "metadata": {
    "ExecuteTime": {
     "end_time": "2025-10-21T19:25:51.683609Z",
     "start_time": "2025-10-21T19:25:50.284264Z"
    }
   },
   "source": [
    "# Initialize embedding model\n",
    "embedding_model = EmbeddingGenerator()\n",
    "\n",
    "# Test the model\n",
    "test_text = \"This is a test sentence for embedding generation.\"\n",
    "test_embedding = embedding_model.embed_text(test_text)\n",
    "\n",
    "print(f\"  - Embedding dimension: {len(test_embedding)}\")\n",
    "print(f\"  - Sample values: {test_embedding[:5]}\")"
   ],
   "outputs": [
    {
     "name": "stdout",
     "output_type": "stream",
     "text": [
      "Loading embedding model: sentence-transformers/all-MiniLM-L6-v2\n",
      "✓ Model loaded successfully. Embedding dimension: 384\n",
      "  - Embedding dimension: 384\n",
      "  - Sample values: [0.00306019 0.00200206 0.05544939 0.07702641 0.00857853]\n"
     ]
    }
   ],
   "execution_count": 3
  },
  {
   "cell_type": "markdown",
   "metadata": {},
   "source": [
    "## 3. Load Sample Articles"
   ]
  },
  {
   "cell_type": "code",
   "metadata": {
    "ExecuteTime": {
     "end_time": "2025-10-21T19:25:54.669761Z",
     "start_time": "2025-10-21T19:25:54.632931Z"
    }
   },
   "source": [
    "import json\n",
    "\n",
    "# Load articles\n",
    "articles = load_articles(\"../sample_articles.json\")\n",
    "\n",
    "print(f\"\\nLoaded {len(articles)} articles\")\n",
    "\n",
    "# preview the first article\n",
    "print(\"\\nSample article:\")\n",
    "print(json.dumps(articles[0], indent=2))"
   ],
   "outputs": [
    {
     "name": "stdout",
     "output_type": "stream",
     "text": [
      "Loaded 100 articles from ../sample_articles.json\n",
      "\n",
      "Loaded 100 articles\n",
      "\n",
      "Sample article:\n",
      "{\n",
      "  \"id\": 1212,\n",
      "  \"item_source\": \"MY_GRAND_CANYON\",\n",
      "  \"item_title\": \"Make This Your First Stop Grand Canyon Stop\",\n",
      "  \"item_subtitle\": \"Lunch, souvenirs, tour info and an immersive big screen experience.\",\n",
      "  \"body_content\": \"Nothing can properly prepare you for the heart-pumping magnificence of the Grand Canyon\\u2014except maybe a visit to the Grand Canyon Visitor Center and IMAX in Tusayan (Too-Say-Ann), located just 1.5 miles from the South Entrance to the national park. This is where your journey into one of the world\\u2019s most awe-inspiring landscapes begins.\\nSee the IMAX movie &#8220;The Grand Canyon: Rivers of Time&#8221; (Photo courtesy Grand Canyon Visitors Center/IMAX)\\nOn the giant, six-story IMAX screen, catch the movie Grand Canyon: Rivers of Time, which won a 2023 award for best visual effects from the Giant Screen Cinema Association. In 37 breathtaking minutes, you\\u2019ll be transported across 1.7 billion years of history, geology and culture. Towering cliffs, roaring rapids and stories of the people who have called this canyon home come alive before your eyes\\u2014no backpack required.\\nIMAX film at the National Geographic Visitor Center in Tusayan (Photo courtesy Grand Canyon Visitor Center/IMAX)\\nBeyond the big screen, the visitor center is your launchpad for embarking on the ultimate adventure. While you watch the movie, you can charge your electric vehicle in the lot. Stop by the Explorer\\u2019s Caf\\u00e9 for sandwiches, pizza or snacks to fuel your day, and consider grabbing food to-go for a picnic inside the park. At the on-site adventure store, browse books, maps and souvenirs that double as mementos of your trip. You can even purchase your park entrance tickets here and skip the wait at the gate. Knowledgeable local staff are always on hand to answer your burning park questions and help tailor your Grand Canyon itinerary.\\nWant to go deeper into the park? From the visitor center, book a Pink Jeep Tour to go off-roading and reach some of the most dramatic viewpoints. Or, if you\\u2019re wanting a different experience, pick up information on air tours, Colorado River rafting excursions and horseback riding.\\nTip: Save up to 20% when you buy IMAX tickets online at ExploreTheCanyon.com.\\nFor More Information:\\nGrand Canyon Visitor Center IMAX\\n450 State Route 64\\nGrand Canyon, AZ 86023\\n(928) 638-2468\\nExploreTheCanyon.com\",\n",
      "  \"category_name\": \"Attractions\",\n",
      "  \"denormalized_tags\": [\n",
      "    \"evergreen\"\n",
      "  ],\n",
      "  \"evergreen\": true,\n",
      "  \"item_url\": \"https://www.mygrandcanyonpark.com/things-to-do/attractions/grand-canyon-visitor-center-tusayan/\",\n",
      "  \"item_created_at\": \"2025-10-16 14:09:00.000000 +00:00\"\n",
      "}\n"
     ]
    }
   ],
   "execution_count": 4
  },
  {
   "cell_type": "markdown",
   "metadata": {},
   "source": [
    "## 4. Connect to Zilliz Cloud\n",
    "\n",
    "Using Zilliz Cloud (managed Milvus service)"
   ]
  },
  {
   "metadata": {
    "ExecuteTime": {
     "end_time": "2025-10-21T19:26:02.426806Z",
     "start_time": "2025-10-21T19:26:02.237859Z"
    }
   },
   "cell_type": "code",
   "source": [
    "ZILLIZ_ENDPOINT = os.getenv(\"ZILLIZ_ENDPOINT\")\n",
    "ZILLIZ_TOKEN = os.getenv(\"ZILLIZ_TOKEN\")\n",
    "\n",
    "# Connect to Zilliz Cloud using MilvusClient\n",
    "try:\n",
    "    client = MilvusClient(\n",
    "        uri=ZILLIZ_ENDPOINT,\n",
    "        token=ZILLIZ_TOKEN\n",
    "    )\n",
    "    \n",
    "    print(f\"✓ Connected to Zilliz Cloud\")\n",
    "    \n",
    "    # Test connection by listing collections\n",
    "    collections = client.list_collections()\n",
    "    print(f\"  - Existing collections: {collections}\")\n",
    "    \n",
    "except Exception as e:\n",
    "    error_msg = str(e)\n",
    "    if \"authentication\" in error_msg.lower() or \"401\" in error_msg:\n",
    "        raise ValueError(\n",
    "            \"Authentication failed. Please check your ZILLIZ_API_KEY.\\n\\n\"\n",
    "            \"The API key format should be: db_admin:your_api_key\\n\"\n",
    "            \"Or just: your_api_key\\n\\n\"\n",
    "            \"Create/find API keys at: https://cloud.zilliz.com/clusters → Your Cluster → API Keys\"\n",
    "        )\n",
    "    else:\n",
    "        # Re-raise the original exception if it's something else\n",
    "        raise"
   ],
   "outputs": [
    {
     "name": "stdout",
     "output_type": "stream",
     "text": [
      "✓ Connected to Zilliz Cloud\n",
      "  - Existing collections: ['articles']\n"
     ]
    }
   ],
   "execution_count": 5
  },
  {
   "cell_type": "markdown",
   "metadata": {},
   "source": "## 5. Create or Get Collection\n\nZilliz Cloud with AutoIndex - much simpler than self-hosted Milvus!"
  },
  {
   "cell_type": "code",
   "metadata": {
    "ExecuteTime": {
     "end_time": "2025-10-21T19:26:45.537640Z",
     "start_time": "2025-10-21T19:26:38.244835Z"
    }
   },
   "source": "COLLECTION_NAME = \"articles\"\n\n# Check if collection exists\nif client.has_collection(COLLECTION_NAME):\n    print(f\"Collection '{COLLECTION_NAME}' already exists\")\n    \n    # Get collection stats\n    stats = client.get_collection_stats(COLLECTION_NAME)\n    row_count = stats.get('row_count', 0)\n    \n    print(f\"✓ Using existing collection: {COLLECTION_NAME}\")\n    print(f\"  - Current count: {row_count} articles\")\n    \n    # Ask user if they want to delete and recreate\n    recreate = input(\"\\nDo you want to delete and recreate? (y/n): \").lower().strip()\n    if recreate == 'y':\n        client.drop_collection(COLLECTION_NAME)\n        print(f\"✓ Deleted collection: {COLLECTION_NAME}\")\n\n# Create collection if it doesn't exist\nif not client.has_collection(COLLECTION_NAME):\n    print(f\"Creating new collection with AutoIndex: {COLLECTION_NAME}\")\n    \n    # Define schema fields\n    schema = client.create_schema(\n        auto_id=False,\n        enable_dynamic_field=True  # Allows flexible metadata\n    )\n    \n    schema.add_field(\n        field_name=\"article_id\",\n        datatype=DataType.INT64,\n        is_primary=True,\n        description=\"Unique article identifier\"\n    )\n    schema.add_field(\n        field_name=\"embedding\",\n        datatype=DataType.FLOAT_VECTOR,\n        dim=384  # all-MiniLM-L6-v2 dimensions\n    )\n    schema.add_field(field_name=\"title\", datatype=DataType.VARCHAR, max_length=500)\n    schema.add_field(field_name=\"subtitle\", datatype=DataType.VARCHAR, max_length=500)\n    schema.add_field(field_name=\"category\", datatype=DataType.VARCHAR, max_length=100)\n    schema.add_field(field_name=\"source\", datatype=DataType.VARCHAR, max_length=100)\n    schema.add_field(field_name=\"tags\", datatype=DataType.VARCHAR, max_length=500)\n    schema.add_field(field_name=\"evergreen\", datatype=DataType.BOOL)\n    schema.add_field(field_name=\"url\", datatype=DataType.VARCHAR, max_length=1000)\n    schema.add_field(field_name=\"created_at\", datatype=DataType.INT64)\n    \n    # Prepare AutoIndex parameters (Zilliz Cloud feature!)\n    index_params = client.prepare_index_params()\n    index_params.add_index(\n        field_name=\"embedding\",\n        index_type=\"AUTOINDEX\",  # Automatic optimization!\n        metric_type=\"COSINE\"\n    )\n    \n    # Create collection with AutoIndex\n    # Zilliz Cloud automatically loads collection when created with index\n    client.create_collection(\n        collection_name=COLLECTION_NAME,\n        schema=schema,\n        index_params=index_params\n    )\n    \n    print(f\"✓ Created new collection: {COLLECTION_NAME}\")\n    print(f\"  - Vector dimensions: 384\")\n    print(f\"  - Index: AUTOINDEX (automatically optimized!)\")\n    print(f\"  - Metric: COSINE\")\n    print(f\"  - Auto-loaded: Yes (ready for queries immediately!)\")\n    print(f\"  - Schema: 10 fields (+ dynamic fields enabled)\")",
   "outputs": [
    {
     "name": "stdout",
     "output_type": "stream",
     "text": [
      "Collection 'articles' already exists\n",
      "✓ Using existing collection: articles\n",
      "  - Current count: 0 articles\n",
      "✓ Deleted collection: articles\n",
      "Creating new collection with AutoIndex: articles\n",
      "✓ Created new collection: articles\n",
      "  - Vector dimensions: 384\n",
      "  - Index: AUTOINDEX (automatically optimized!)\n",
      "  - Metric: COSINE\n",
      "  - Auto-loaded: Yes (ready for queries immediately!)\n",
      "  - Schema: 10 fields (+ dynamic fields enabled)\n"
     ]
    }
   ],
   "execution_count": 6
  },
  {
   "cell_type": "markdown",
   "metadata": {},
   "source": "## 6. Generate Embeddings and Insert Data\n\nProcess articles in batches, matching the approach used in other notebooks"
  },
  {
   "cell_type": "code",
   "metadata": {
    "ExecuteTime": {
     "end_time": "2025-10-21T19:50:32.485180Z",
     "start_time": "2025-10-21T19:50:32.178105Z"
    }
   },
   "source": "# Check current count\nstats = client.get_collection_stats(COLLECTION_NAME)\ncurrent_count = stats.get('row_count', 0)\n\nif current_count >= len(articles):\n    print(f\"Collection already has {current_count} articles. Skipping insertion.\")\n    print(\"Run the cell above to recreate collection if needed.\")\nelse:\n    # Process in batches - same approach as other notebooks\n    BATCH_SIZE = 20\n    total_articles = len(articles)\n    \n    print(f\"Processing {total_articles} articles in batches of {BATCH_SIZE}...\\n\")\n    \n    start_time = time.time()\n    \n    from tqdm.auto import tqdm\n    \n    for i in tqdm(range(0, total_articles, BATCH_SIZE), desc=\"Upserting batches\"):\n        batch = articles[i:i + BATCH_SIZE]\n        \n        # Generate embeddings for batch - same as other notebooks\n        texts = [\n            f\"Title: {a['item_title']}\\nSubtitle: {a.get('item_subtitle', '')}\\nContent: {a['body_content'][:500]}\"\n            for a in batch\n        ]\n        embeddings = embedding_model.embed_batch(texts, show_progress=False)\n        \n        # Prepare metadata - use \"milvus\" to get timestamps\n        metadatas = [get_article_metadata(a, db_type=\"milvus\") for a in batch]\n        \n        # Prepare data in row-based format for Milvus\n        data = []\n        for metadata, embedding in zip(metadatas, embeddings):\n            row = {\n                \"article_id\": metadata[\"id\"],\n                \"embedding\": embedding.tolist(),\n                \"title\": metadata[\"title\"][:500],\n                \"subtitle\": metadata[\"subtitle\"][:500],\n                \"category\": metadata[\"category\"][:100],\n                \"source\": metadata[\"source\"][:100],\n                \"tags\": metadata[\"tags\"][:500],  # Stored as comma-separated string\n                \"evergreen\": metadata[\"evergreen\"],\n                \"url\": metadata[\"url\"][:1000],\n                \"created_at\": metadata[\"created_at\"],  # Timestamp (int)\n            }\n            data.append(row)\n        \n        # Upsert batch into Milvus (insert new or update existing by article_id)\n        client.upsert(\n            collection_name=COLLECTION_NAME,\n            data=data\n        )\n    \n    elapsed_time = time.time() - start_time\n    \n    # Get updated count\n    stats = client.get_collection_stats(COLLECTION_NAME)\n    final_count = stats.get('row_count', 0)\n    \n    print(f\"\\n✓ Successfully upserted {total_articles} articles\")\n    print(f\"  - Time taken: {elapsed_time:.2f} seconds\")\n    print(f\"  - Average: {elapsed_time/total_articles:.2f} seconds per article\")\n    print(f\"  - Collection count: {final_count}\")",
   "outputs": [
    {
     "name": "stdout",
     "output_type": "stream",
     "text": [
      "Collection already has 100 articles. Skipping insertion.\n",
      "Run the cell above to recreate collection if needed.\n"
     ]
    }
   ],
   "execution_count": 8
  },
  {
   "cell_type": "markdown",
   "source": "## 7. Basic Semantic Search\n\nSearch using vector similarity (no manual loading needed!)",
   "metadata": {}
  },
  {
   "cell_type": "code",
   "metadata": {
    "ExecuteTime": {
     "end_time": "2025-10-21T19:51:09.191657Z",
     "start_time": "2025-10-21T19:51:09.046647Z"
    }
   },
   "source": "# Test query - SAME AS CHROMA\nquery_text = \"Most haunted hikes in the US\"\n\nprint(f\"Query: '{query_text}'\\n\")\n\n# Generate query embedding\nquery_embedding = embedding_model.embed_text(query_text)\n\n# Perform search using MilvusClient\nresults = client.search(\n    collection_name=COLLECTION_NAME,\n    data=[query_embedding.tolist()],\n    limit=5,\n    output_fields=[\"title\", \"category\", \"source\", \"url\"]\n)\n\nprint(f\"Top 5 Results:\\n\")\nfor i, hit in enumerate(results[0]):\n    # Zilliz Cloud with COSINE returns distance (lower = more similar)\n    distance = hit['distance']\n    entity = hit['entity']\n    \n    print(f\"{i+1}. {entity.get('title')[:70]}...\")\n    print(f\"   Category: {entity.get('category')} | Source: {entity.get('source')}\")\n    print(f\"   Distance: {distance:.4f}\")\n    print(f\"   URL: {entity.get('url')}...\")\n    print()",
   "outputs": [
    {
     "name": "stdout",
     "output_type": "stream",
     "text": [
      "Query: 'Most haunted hikes in the US'\n",
      "\n",
      "Top 5 Results:\n",
      "\n",
      "1. 13 of the Most Haunted Hikes in the U.S....\n",
      "   Category: Destinations | Source: OUTSIDE\n",
      "   Distance: 0.8058\n",
      "   URL: https://www.outsideonline.com/adventure-travel/destinations/haunted-hikes/...\n",
      "\n",
      "2. A Missing Dog Helped a Stranded Hiker Return to Shadow Mountain Trail....\n",
      "   Category: Hiking | Source: OUTSIDE\n",
      "   Distance: 0.4578\n",
      "   URL: https://www.outsideonline.com/outdoor-adventure/hiking-and-backpacking/arizona-lost-hiker-missing-dog-shadow-mountain/...\n",
      "\n",
      "3. An Inside Look at Outside’s 2025 Winter Editors’ Choice Testing Trip...\n",
      "   Category: Gear | Source: OUTSIDE\n",
      "   Distance: 0.3660\n",
      "   URL: https://www.outsideonline.com/outdoor-gear/winter-editors-choice-trip-maine/...\n",
      "\n",
      "4. Two Hikers in British Columbia Were Hospitalized After a Grizzly Sow A...\n",
      "   Category: Hiking | Source: OUTSIDE\n",
      "   Distance: 0.3364\n",
      "   URL: https://www.outsideonline.com/outdoor-adventure/hiking-and-backpacking/two-hikers-in-british-columbia-were-hospitalized-after-a-grizzly-sow-attack/...\n",
      "\n",
      "5. Why Does Washington Have So Many Climbing Accidents? A Mountain Rescue...\n",
      "   Category: Skills | Source: CLIMBING\n",
      "   Distance: 0.3363\n",
      "   URL: https://www.climbing.com/skills/washington-climbing-accidents/...\n",
      "\n"
     ]
    }
   ],
   "execution_count": 9
  },
  {
   "cell_type": "markdown",
   "metadata": {},
   "source": "## 8. Metadata Filtering - Category\n\nFilter using Milvus boolean expressions"
  },
  {
   "cell_type": "code",
   "metadata": {
    "ExecuteTime": {
     "end_time": "2025-10-21T19:51:17.529377Z",
     "start_time": "2025-10-21T19:51:17.393024Z"
    }
   },
   "source": "# Filter by category - SAME AS CHROMA\nquery_text = \"Women's Ironman World Championship\"\ntarget_category = \"News\"\n\nprint(f\"Query: '{query_text}'\")\nprint(f\"Filter: category = '{target_category}'\\n\")\n\n# Generate query embedding\nquery_embedding = embedding_model.embed_text(query_text)\n\n# Search with category filter\nresults = client.search(\n    collection_name=COLLECTION_NAME,\n    data=[query_embedding.tolist()],\n    limit=5,\n    filter=f'category == \"{target_category}\"',  # Milvus expression syntax\n    output_fields=[\"title\", \"category\", \"source\", \"created_at\"]\n)\n\nprint(f\"Top 5 Results (Category: {target_category}):\\n\")\nfor i, hit in enumerate(results[0]):\n    distance = hit['distance']\n    entity = hit['entity']\n    \n    print(f\"{i+1}. {entity.get('title')[:70]}...\")\n    print(f\"   Category: {entity.get('category')} | Source: {entity.get('source')}\")\n    print(f\"   Created: {entity.get('created_at')}\")\n    print(f\"   Distance: {distance:.4f}\")\n    print()",
   "outputs": [
    {
     "name": "stdout",
     "output_type": "stream",
     "text": [
      "Query: 'Women's Ironman World Championship'\n",
      "Filter: category = 'News'\n",
      "\n",
      "Top 5 Results (Category: News):\n",
      "\n",
      "1. After Joy of Women's-Only Ironman World Championship, Grief Sets In...\n",
      "   Category: News | Source: TRIATHLETE\n",
      "   Created: 1760296873\n",
      "   Distance: 0.7770\n",
      "\n",
      "2. What a Race! Here's Where the Ironman Pro Series Stands After the Iron...\n",
      "   Category: News | Source: TRIATHLETE\n",
      "   Created: 1760352009\n",
      "   Distance: 0.6464\n",
      "\n",
      "3. The Fastest Shoes at 2025 Ironman World Championship Kona...\n",
      "   Category: News | Source: TRIATHLETE\n",
      "   Created: 1760353908\n",
      "   Distance: 0.6182\n",
      "\n",
      "4. The DNF Files: 2025 Ironman World Championship Kona...\n",
      "   Category: News | Source: TRIATHLETE\n",
      "   Created: 1760441445\n",
      "   Distance: 0.5917\n",
      "\n",
      "5. In Sweltering Conditions, Norway’s Solveig Løvseth Takes 2025 Ironman ...\n",
      "   Category: News | Source: TRIATHLETE\n",
      "   Created: 1760160735\n",
      "   Distance: 0.5619\n",
      "\n"
     ]
    }
   ],
   "execution_count": 10
  },
  {
   "cell_type": "markdown",
   "metadata": {},
   "source": "## 9. Metadata Filtering - Date Range\n\nFilter by timestamp (stored as INT64)"
  },
  {
   "cell_type": "code",
   "metadata": {
    "ExecuteTime": {
     "end_time": "2025-10-21T19:51:24.732230Z",
     "start_time": "2025-10-21T19:51:24.647266Z"
    }
   },
   "source": "from utils.date_utils import date_string_to_timestamp\n\n# Filter by date - SAME AS CHROMA\nquery_text = \"cycling deals\"\ncutoff_date = \"2025-10-08\"\n\nprint(f\"Query: '{query_text}'\")\nprint(f\"Filter: created_at >= '{cutoff_date}'\\n\")\n\n# Generate query embedding\nquery_embedding = embedding_model.embed_text(query_text)\n\n# Convert date to timestamp\ncutoff_timestamp = date_string_to_timestamp(cutoff_date)\n\n# Search with date filter\nresults = client.search(\n    collection_name=COLLECTION_NAME,\n    data=[query_embedding.tolist()],\n    limit=5,\n    filter=f'created_at >= {cutoff_timestamp}',  # Numeric comparison\n    output_fields=[\"title\", \"category\", \"created_at\", \"tags\"]\n)\n\nprint(f\"Top 5 Recent Results (after {cutoff_date}):\\n\")\nfor i, hit in enumerate(results[0]):\n    entity = hit['entity']\n    created_timestamp = entity.get('created_at')\n    created_str = timestamp_to_datetime_string(created_timestamp)\n    \n    print(f\"{i+1}. {entity.get('title')}\")\n    print(f\"   Category: {entity.get('category')}\")\n    print(f\"   Created: {created_str}\")\n    print(f\"   Tags: {entity.get('tags', 'No tags')}\")\n    print()",
   "outputs": [
    {
     "name": "stdout",
     "output_type": "stream",
     "text": [
      "Query: 'cycling deals'\n",
      "Filter: created_at >= '2025-10-08'\n",
      "\n",
      "Top 5 Recent Results (after 2025-10-08):\n",
      "\n",
      "1. Opinion: Cycling's Soccer-Inspired Relegation System Is a Hot Mess That Solves Nothing\n",
      "   Category: Road Racing\n",
      "   Created: 2025-10-15 22:42:10\n",
      "   Tags: Analysis, ASO, Cofidis, Tour de France, Tour de Hoody\n",
      "\n",
      "2. Deal: Tailwind Endurance Fuel Is the Cycling Nutrition I Actually Use\n",
      "   Category: Road Gear\n",
      "   Created: 2025-10-13 04:30:52\n",
      "   Tags: Velo Deals\n",
      "\n",
      "3. Pogačar's Bonuses and Brand Deals Revealed: Inside His $14 Million Pay Check\n",
      "   Category: Road Racing\n",
      "   Created: 2025-10-13 20:39:12\n",
      "   Tags: Alex Carera, Remco Evenepoel, Tadej Pogačar, Transfers, UAE Emirates\n",
      "\n",
      "4. Shop Evo's Anniversary Sale and Save up to 50% on Ski, Snowboard, and MTB Gear\n",
      "   Category: Gear News\n",
      "   Created: 2025-10-14 03:53:27\n",
      "   Tags: Commerce, Deals\n",
      "\n",
      "5. Deal: One of the Best Headphones for Cycling Is 50% Off\n",
      "   Category: Road Gear\n",
      "   Created: 2025-10-15 05:12:34\n",
      "   Tags: headphones, Velo Deals\n",
      "\n"
     ]
    }
   ],
   "execution_count": 11
  },
  {
   "cell_type": "markdown",
   "metadata": {},
   "source": "## 10. Combined Filters - Evergreen + Date\n\nCombine multiple filters with boolean logic"
  },
  {
   "cell_type": "code",
   "metadata": {
    "ExecuteTime": {
     "end_time": "2025-10-21T19:51:29.918950Z",
     "start_time": "2025-10-21T19:51:29.847652Z"
    }
   },
   "source": "# Combine multiple filters - SAME AS CHROMA\nquery_text = \"Halloween outdoor activities\"\ncutoff_date = \"2025-10-09\"\n\nprint(f\"Query: '{query_text}'\")\nprint(f\"Filters:\")\nprint(f\"  - evergreen = True (timeless content)\")\nprint(f\"  - created_at >= '{cutoff_date}'\\n\")\n\n# Generate query embedding\nquery_embedding = embedding_model.embed_text(query_text)\n\n# Convert date to timestamp\ncutoff_timestamp = date_string_to_timestamp(cutoff_date)\n\n# Combine filters with AND\ncombined_filter = f'evergreen == True and created_at >= {cutoff_timestamp}'\n\n# Search with combined filters\nresults = client.search(\n    collection_name=COLLECTION_NAME,\n    data=[query_embedding.tolist()],\n    limit=10,  # Increased to 10 since evergreen articles might be fewer\n    filter=combined_filter,\n    output_fields=[\"title\", \"category\", \"evergreen\", \"tags\", \"created_at\"]\n)\n\nif results[0]:\n    print(f\"Top Evergreen Results (After {cutoff_date}):\\n\")\n    for i, hit in enumerate(results[0]):\n        entity = hit['entity']\n        created_timestamp = entity.get('created_at')\n        created_str = timestamp_to_datetime_string(created_timestamp)\n        \n        print(f\"{i+1}. {entity.get('title')[:70]}...\")\n        print(f\"   Category: {entity.get('category')} | Evergreen: {entity.get('evergreen')}\")\n        print(f\"   Tags: {entity.get('tags', 'No tags')}\")\n        print(f\"   Created: {created_str}\")\n    print(f\"\\nTotal results: {len(results[0])}\")\nelse:\n    print(\"No evergreen articles found after this date.\")",
   "outputs": [
    {
     "name": "stdout",
     "output_type": "stream",
     "text": [
      "Query: 'Halloween outdoor activities'\n",
      "Filters:\n",
      "  - evergreen = True (timeless content)\n",
      "  - created_at >= '2025-10-09'\n",
      "\n",
      "Top Evergreen Results (After 2025-10-09):\n",
      "\n",
      "1. 13 of the Most Haunted Hikes in the U.S....\n",
      "   Category: Destinations | Evergreen: True\n",
      "   Tags: evergreen, Halloween, Hiking\n",
      "   Created: 2025-10-16 04:22:41\n",
      "2. The Thule Outset Hitch-Mounted Tent Turns Your Car Into a Campsite on ...\n",
      "   Category: Camping | Evergreen: True\n",
      "   Tags: 2025 Gear Reviews, Car Camping, Car Racks, Commerce, evergreen\n",
      "   Created: 2025-10-14 03:30:11\n",
      "3. The Best Daypacks for Every Kind of Hiker (2025)...\n",
      "   Category: Daypacks | Evergreen: True\n",
      "   Tags: 2025 Gear Reviews, 2025 Summer Gear Guide, backpack, Commerce, Day Packs\n",
      "   Created: 2025-10-16 04:31:44\n",
      "4. Everything You Need To Know Before Skiing Telluride For The First Time...\n",
      "   Category: Resort Skiing | Evergreen: True\n",
      "   Tags: evergreen, Telluride Ski Resort\n",
      "   Created: 2025-10-13 07:39:24\n",
      "5. He’s Hunted for Elk for 40 Years but Hasn’t Killed a Single One. And T...\n",
      "   Category: Environment | Evergreen: True\n",
      "   Tags: Adventure, Colorado, evergreen, Hunting, Long Reads\n",
      "   Created: 2025-10-14 22:05:17\n",
      "6. Can I Bring Chalk in My Carry-on? What TSA Actually Allows (and What T...\n",
      "   Category: Travel | Evergreen: True\n",
      "   Tags: evergreen\n",
      "   Created: 2025-10-14 01:00:38\n",
      "7. The Best Cross-Country Boots and Accessories of 2026...\n",
      "   Category: Snow Sports | Evergreen: True\n",
      "   Tags: 2025 Gear Reviews, 2026 Winter Gear Guide, Commerce, Cross-Country Ski Boots, evergreen\n",
      "   Created: 2025-10-14 03:00:47\n",
      "8. Tusayan is Your Launchpad to Grand Adventures...\n",
      "   Category: Gateway Towns | Evergreen: True\n",
      "   Tags: evergreen\n",
      "   Created: 2025-10-14 05:40:31\n",
      "9. Prone to Falling on Trail? These Exercises Will Help Prevent Injury....\n",
      "   Category: Backpacking Fitness | Evergreen: True\n",
      "   Tags: evergreen\n",
      "   Created: 2025-10-15 04:19:09\n",
      "10. Pumpkin Is an Anti-Inflammatory Superfood—Here’s Why You Should Eat Mo...\n",
      "   Category: Nutrition | Evergreen: True\n",
      "   Tags: evergreen, Food, Inflammation, Nutrition\n",
      "   Created: 2025-10-15 18:29:46\n",
      "\n",
      "Total results: 10\n"
     ]
    }
   ],
   "execution_count": 12
  },
  {
   "cell_type": "markdown",
   "metadata": {},
   "source": "## 11. Advanced Expression Filtering\n\nDemonstrate Milvus's powerful expression syntax"
  },
  {
   "cell_type": "code",
   "metadata": {
    "ExecuteTime": {
     "end_time": "2025-10-21T19:53:05.600444Z",
     "start_time": "2025-10-21T19:53:05.344554Z"
    }
   },
   "source": [
    "query_text = \"outdoor activities\"\n",
    "\n",
    "print(f\"Query: '{query_text}'\")\n",
    "print(f\"Filter: category IN ['Attractions', 'Events', 'Hiking']\\n\")\n",
    "\n",
    "# Generate query embedding\n",
    "query_embedding = embedding_model.embed_text(query_text)\n",
    "\n",
    "# Use IN operator for multiple categories\n",
    "filter_expr = 'category in [\"Attractions\", \"Events\", \"Hiking\"]'\n",
    "\n",
    "# Search with IN filter\n",
    "results = client.search(\n",
    "    collection_name=COLLECTION_NAME,\n",
    "    data=[query_embedding.tolist()],\n",
    "    limit=5,\n",
    "    filter=filter_expr,\n",
    "    output_fields=[\"title\", \"category\", \"source\"]\n",
    ")\n",
    "\n",
    "print(f\"Found {len(results[0])} results:\\n\")\n",
    "for i, hit in enumerate(results[0]):\n",
    "    distance = hit['distance']\n",
    "    entity = hit['entity']\n",
    "    \n",
    "    print(f\"{i+1}. {entity.get('title')[:70]}...\")\n",
    "    print(f\"   Category: {entity.get('category')} | Source: {entity.get('source')}\")\n",
    "    print(f\"   Distance: {distance:.4f}\")"
   ],
   "outputs": [
    {
     "name": "stdout",
     "output_type": "stream",
     "text": [
      "Query: 'outdoor activities'\n",
      "Filter: category IN ['Attractions', 'Events', 'Hiking']\n",
      "\n",
      "Found 4 results:\n",
      "\n",
      "1. A Missing Dog Helped a Stranded Hiker Return to Shadow Mountain Trail....\n",
      "   Category: Hiking | Source: OUTSIDE\n",
      "   Distance: 0.2711\n",
      "2. Make This Your First Stop Grand Canyon Stop...\n",
      "   Category: Attractions | Source: MY_GRAND_CANYON\n",
      "   Distance: 0.2397\n",
      "3. Two Hikers in British Columbia Were Hospitalized After a Grizzly Sow A...\n",
      "   Category: Hiking | Source: OUTSIDE\n",
      "   Distance: 0.2142\n",
      "4. She Became the First Woman to Complete This 3,600-Mile Thru-Hike—and B...\n",
      "   Category: Hiking | Source: OUTSIDE\n",
      "   Distance: 0.1772\n"
     ]
    }
   ],
   "execution_count": 13
  },
  {
   "cell_type": "markdown",
   "metadata": {},
   "source": "## 12. Performance Summary"
  },
  {
   "cell_type": "code",
   "metadata": {
    "ExecuteTime": {
     "end_time": "2025-10-21T19:53:34.694078Z",
     "start_time": "2025-10-21T19:53:34.373667Z"
    }
   },
   "source": "from utils.benchmark import benchmark_queries\n\n# Define query function for Milvus/Zilliz Cloud\ndef milvus_query_fn(query_text: str):\n    \"\"\"Query function for Milvus benchmarking.\"\"\"\n    query_embedding = embedding_model.embed_text(query_text)\n    return client.search(\n        collection_name=COLLECTION_NAME,\n        data=[query_embedding.tolist()],\n        limit=10\n    )\n\n# Run standardized benchmark\nresults = benchmark_queries(milvus_query_fn)\n\n# Get collection stats\nstats = client.get_collection_stats(COLLECTION_NAME)\nprint(f\"\\nCollection Statistics:\")\nprint(f\"  - Total articles: {stats.get('row_count', 0)}\")\nprint(f\"  - Vector dimensions: 384\")\nprint(f\"  - Index: AUTOINDEX (automatically optimized)\")\nprint(f\"  - Distance metric: COSINE\")",
   "outputs": [
    {
     "name": "stdout",
     "output_type": "stream",
     "text": [
      "Running performance benchmark...\n",
      "\n",
      "'outdoor hiking adventures' -> 66.4ms\n",
      "'cycling race performance' -> 41.5ms\n",
      "'travel destinations and tips' -> 51.2ms\n",
      "'fitness training techniques' -> 45.1ms\n",
      "'gear reviews and recommendations' -> 49.4ms\n",
      "\n",
      "Performance Summary:\n",
      "  - Average query time: 50.7ms\n",
      "  - Min query time: 41.5ms\n",
      "  - Max query time: 66.4ms\n",
      "\n",
      "Collection Statistics:\n",
      "  - Total articles: 100\n",
      "  - Vector dimensions: 384\n",
      "  - Index: AUTOINDEX (automatically optimized)\n",
      "  - Distance metric: COSINE\n"
     ]
    }
   ],
   "execution_count": 14
  },
  {
   "cell_type": "markdown",
   "metadata": {},
   "source": "## 13. Cleanup (Optional)"
  },
  {
   "cell_type": "markdown",
   "source": "## Key Takeaways - Zilliz Cloud (Managed Milvus)\n\n### ✅ Strengths\n1. **Enterprise-Grade** - Battle-tested by eBay, Walmart, PayPal\n2. **AutoIndex** - Automatic index optimization (no manual HNSW tuning!)\n3. **Fully Managed** - No infrastructure, index creation, or loading steps\n4. **Powerful Expressions** - Rich boolean expressions with AND/OR/IN operators\n5. **High Performance** - Optimized for large-scale applications\n6. **Scalability** - Designed for billions of vectors\n7. **Dynamic Fields** - Flexible metadata via $meta JSON\n8. **Simpler API** - MilvusClient abstracts complexity\n\n### ⚠️ Considerations\n1. **Strict Schema** - VARCHAR fields need max_length\n2. **No Native Arrays** - Tags stored as VARCHAR (comma-separated)\n3. **Timestamps Only** - No native date type, must use INT64 timestamps\n4. **Expression Syntax** - Different from SQL (but powerful)\n5. **Free Tier Limits** - 5GB storage, 2.5M vCUs (monitor usage)\n\n### 🎯 Best For\n- **Enterprise deployments** - Production-grade reliability\n- **Large-scale applications** - Billions of vectors\n- **Complex filtering** - Rich boolean expressions\n- **Managed service** - Don't want to manage infrastructure\n- **Performance-critical** - Optimized indexing and search\n\n### 📊 Comparison with Self-Hosted Milvus\n- **✅ AutoIndex** vs ❌ Manual HNSW configuration\n- **✅ Auto-loading** vs ❌ Manual collection.load()\n- **✅ Row-based insert** vs ❌ Columnar format only\n- **✅ MilvusClient API** vs ❌ Complex Collection API\n- **✅ No flush needed** vs ❌ Manual flush() required\n\n### 📊 Comparison with Other DBs\n- **vs Chroma**: More powerful expressions, better scalability, AutoIndex\n- **vs Weaviate**: Faster at scale, but no GraphQL, no native dates/arrays\n- **vs Qdrant**: Similar performance, but stricter schema, managed service\n- **vs Pinecone**: More flexible expressions, better for self-hosting option\n\n### 💡 Key Zilliz Cloud Advantages\n1. **No manual index creation** - AUTOINDEX handles it\n2. **No manual loading** - Collection auto-loads after creation\n3. **Simpler insertion** - Row-based format supported\n4. **Managed service** - No infrastructure management\n5. **Enterprise support** - Production SLAs available",
   "metadata": {}
  },
  {
   "cell_type": "code",
   "source": "# Close connection\nclient.close()\nprint(\"✓ Disconnected from Zilliz Cloud\")",
   "metadata": {},
   "outputs": [],
   "execution_count": null
  }
 ],
 "metadata": {
  "kernelspec": {
   "display_name": "Python 3",
   "language": "python",
   "name": "python3"
  },
  "language_info": {
   "codemirror_mode": {
    "name": "ipython",
    "version": 3
   },
   "file_extension": ".py",
   "mimetype": "text/x-python",
   "name": "python",
   "nbconvert_exporter": "python",
   "pygments_lexer": "ipython3",
   "version": "3.11.0"
  }
 },
 "nbformat": 4,
 "nbformat_minor": 4
}
